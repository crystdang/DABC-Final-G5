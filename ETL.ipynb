{
  "nbformat": 4,
  "nbformat_minor": 0,
  "metadata": {
    "colab": {
      "provenance": [],
      "authorship_tag": "ABX9TyNZbH7+4oTPZelWKwsjWpmd",
      "include_colab_link": true
    },
    "kernelspec": {
      "name": "python3",
      "display_name": "Python 3"
    },
    "language_info": {
      "name": "python"
    }
  },
  "cells": [
    {
      "cell_type": "markdown",
      "metadata": {
        "id": "view-in-github",
        "colab_type": "text"
      },
      "source": [
        "<a href=\"https://colab.research.google.com/github/crystdang/DABC-Final-G5/blob/Crystina/ETL.ipynb\" target=\"_parent\"><img src=\"https://colab.research.google.com/assets/colab-badge.svg\" alt=\"Open In Colab\"/></a>"
      ]
    },
    {
      "cell_type": "code",
      "source": [
        "pip install pyspark"
      ],
      "metadata": {
        "colab": {
          "base_uri": "https://localhost:8080/"
        },
        "id": "M2IukqFOpKqF",
        "outputId": "a4b14f0d-78b0-48dc-9a0e-74c74596c6bc"
      },
      "execution_count": 1,
      "outputs": [
        {
          "output_type": "stream",
          "name": "stdout",
          "text": [
            "Looking in indexes: https://pypi.org/simple, https://us-python.pkg.dev/colab-wheels/public/simple/\n",
            "Requirement already satisfied: pyspark in /usr/local/lib/python3.8/dist-packages (3.3.1)\n",
            "Requirement already satisfied: py4j==0.10.9.5 in /usr/local/lib/python3.8/dist-packages (from pyspark) (0.10.9.5)\n"
          ]
        }
      ]
    },
    {
      "cell_type": "code",
      "source": [
        "!wget https://jdbc.postgresql.org/download/postgresql-42.2.16.jar"
      ],
      "metadata": {
        "colab": {
          "base_uri": "https://localhost:8080/"
        },
        "id": "R2lWKDLtpQbr",
        "outputId": "b069bd9e-c06d-42f9-8682-bced3506832d"
      },
      "execution_count": 2,
      "outputs": [
        {
          "output_type": "stream",
          "name": "stdout",
          "text": [
            "--2023-01-24 02:47:33--  https://jdbc.postgresql.org/download/postgresql-42.2.16.jar\n",
            "Resolving jdbc.postgresql.org (jdbc.postgresql.org)... 72.32.157.228, 2001:4800:3e1:1::228\n",
            "Connecting to jdbc.postgresql.org (jdbc.postgresql.org)|72.32.157.228|:443... connected.\n",
            "HTTP request sent, awaiting response... 200 OK\n",
            "Length: 1002883 (979K) [application/java-archive]\n",
            "Saving to: ‘postgresql-42.2.16.jar.11’\n",
            "\n",
            "postgresql-42.2.16. 100%[===================>] 979.38K  6.29MB/s    in 0.2s    \n",
            "\n",
            "2023-01-24 02:47:33 (6.29 MB/s) - ‘postgresql-42.2.16.jar.11’ saved [1002883/1002883]\n",
            "\n"
          ]
        }
      ]
    },
    {
      "cell_type": "code",
      "source": [
        "from pyspark.sql import SparkSession\n",
        "spark = SparkSession.builder.appName(\"CloudETL\").config(\"spark.driver.extraClassPath\",\"/content/postgresql-42.2.16.jar\").getOrCreate()"
      ],
      "metadata": {
        "id": "FVMCJc_bpSRR"
      },
      "execution_count": 3,
      "outputs": []
    },
    {
      "cell_type": "code",
      "source": [
        "# Read in data from S3 Buckets\n",
        "from pyspark import SparkFiles\n",
        "url = \"https://uoft-dabc-final-g5.s3.us-east-2.amazonaws.com/Wellbeing_and_lifestyle_data_Kaggle.csv\"\n",
        "spark.sparkContext.addFile(url)\n",
        "data_df = spark.read.csv(SparkFiles.get(\"Wellbeing_and_lifestyle_data_Kaggle.csv\"), sep=\",\", header=True, inferSchema=True)"
      ],
      "metadata": {
        "id": "uX6eo2FRpUVc"
      },
      "execution_count": 4,
      "outputs": []
    },
    {
      "cell_type": "code",
      "source": [
        "data_df.show()"
      ],
      "metadata": {
        "id": "Q-5YLo_PpqU_",
        "colab": {
          "base_uri": "https://localhost:8080/"
        },
        "outputId": "88777b89-62b3-4c53-d1a1-1d3565b42fb8"
      },
      "execution_count": 5,
      "outputs": [
        {
          "output_type": "stream",
          "name": "stdout",
          "text": [
            "+---------+--------------+------------+--------------+-----------+-----------------+--------------+-----------+--------+---------+--------------+----+-----------+-----------+-----------+-------------+--------------+-----------------+---------------+----------------+-----------------+----------+------+-----------------------+\n",
            "|Timestamp|FRUITS_VEGGIES|DAILY_STRESS|PLACES_VISITED|CORE_CIRCLE|SUPPORTING_OTHERS|SOCIAL_NETWORK|ACHIEVEMENT|DONATION|BMI_RANGE|TODO_COMPLETED|FLOW|DAILY_STEPS|LIVE_VISION|SLEEP_HOURS|LOST_VACATION|DAILY_SHOUTING|SUFFICIENT_INCOME|PERSONAL_AWARDS|TIME_FOR_PASSION|WEEKLY_MEDITATION|       AGE|GENDER|WORK_LIFE_BALANCE_SCORE|\n",
            "+---------+--------------+------------+--------------+-----------+-----------------+--------------+-----------+--------+---------+--------------+----+-----------+-----------+-----------+-------------+--------------+-----------------+---------------+----------------+-----------------+----------+------+-----------------------+\n",
            "|   7/7/15|             3|           2|             2|          5|                0|             5|          2|       0|        1|             6|   4|          5|          0|          7|            5|             5|                1|              4|               0|                5|  36 to 50|Female|                  609.5|\n",
            "|   7/7/15|             2|           3|             4|          3|                8|            10|          5|       2|        2|             5|   2|          5|          5|          8|            2|             2|                2|              3|               2|                6|  36 to 50|Female|                  655.6|\n",
            "|   7/7/15|             2|           3|             3|          4|                4|            10|          3|       2|        2|             2|   2|          4|          5|          8|           10|             2|                2|              4|               8|                3|  36 to 50|Female|                  631.6|\n",
            "|   7/7/15|             3|           3|            10|          3|               10|             7|          2|       5|        2|             3|   5|          5|          0|          5|            7|             5|                1|              5|               2|                0|51 or more|Female|                  622.7|\n",
            "|   7/7/15|             5|           1|             3|          3|               10|             4|          2|       4|        2|             5|   0|          5|          0|          7|            0|             0|                2|              8|               1|                5|51 or more|Female|                  663.9|\n",
            "|   7/8/15|             3|           2|             3|          9|               10|            10|          2|       3|        1|             6|   1|          7|         10|          8|            0|             2|                2|             10|               8|                3|51 or more|Female|                  722.3|\n",
            "|   7/8/15|             4|           2|            10|          6|               10|            10|          3|       5|        2|             8|   8|          7|          5|          7|           10|             0|                2|             10|               8|               10|51 or more|  Male|                  727.2|\n",
            "|   7/9/15|             3|           4|             5|          3|                5|             7|          4|       0|        1|             8|   2|          8|         10|          6|            0|             2|                2|              8|               2|                2|  21 to 35|Female|                  676.2|\n",
            "|   7/9/15|             5|           3|             6|          4|                3|             3|          5|       4|        1|            10|   2|          1|          5|         10|            0|             2|                2|             10|               3|               10|  21 to 35|Female|                  702.8|\n",
            "|  7/10/15|             4|           4|             2|          6|               10|            10|          0|       4|        2|             3|   2|          3|          0|          6|            0|             0|                1|              3|               8|                1|51 or more|Female|                  634.4|\n",
            "|  7/10/15|             2|           4|             7|          7|                1|             1|          3|       0|        2|             2|   2|          7|          4|          8|            7|             3|                2|              3|               0|                6|  36 to 50|Female|                  610.1|\n",
            "|  7/12/15|             1|           4|             3|          8|                0|             2|          1|       0|        1|             2|   1|          8|          2|          7|            7|             1|                2|              4|               1|                7|  21 to 35|  Male|                  618.6|\n",
            "|  7/12/15|             2|           2|            10|          5|                2|             8|          3|       4|        2|             7|   1|          6|         10|          8|            0|             0|                2|              5|               2|                7|  21 to 35|  Male|                  686.4|\n",
            "|  7/12/15|             5|           3|             0|          3|                6|             6|          6|       3|        1|             8|   7|          7|          2|          6|            0|             3|                2|              5|               6|                5|  36 to 50|Female|                  689.6|\n",
            "|  7/12/15|             3|           3|             2|          3|                7|             5|          3|       2|        1|             8|   0|          2|          5|          8|            3|             2|                1|              4|               5|                4|  21 to 35|Female|                  639.7|\n",
            "|  7/12/15|             3|           3|             5|          4|               10|            10|          2|       5|        1|             7|   2|          8|         10|          6|            1|             2|                2|              8|               3|               10|51 or more|Female|                  720.4|\n",
            "|  7/12/15|             4|           2|            10|          4|                6|            10|          4|       0|        1|             8|   2|          1|          1|          8|            1|             1|                2|              3|               3|                3|  21 to 35|  Male|                  673.5|\n",
            "|  7/12/15|             4|           2|            10|         10|                5|            10|          0|       1|        1|             7|   1|         10|          2|          8|            0|             3|                2|              4|               8|                6|  21 to 35|  Male|                  707.6|\n",
            "|  7/12/15|             5|           3|            10|          7|               10|             5|          6|       5|        1|             6|   2|          8|         10|          9|            0|             7|                2|              5|               4|                7|  36 to 50|Female|                  727.8|\n",
            "|  7/13/15|             3|           1|             6|         10|               10|             6|          3|       5|        2|             8|   4|          1|          5|          8|            0|             0|                2|              5|               1|                2|  36 to 50|  Male|                  687.1|\n",
            "+---------+--------------+------------+--------------+-----------+-----------------+--------------+-----------+--------+---------+--------------+----+-----------+-----------+-----------+-------------+--------------+-----------------+---------------+----------------+-----------------+----------+------+-----------------------+\n",
            "only showing top 20 rows\n",
            "\n"
          ]
        }
      ]
    },
    {
      "cell_type": "code",
      "source": [
        "data_df.columns"
      ],
      "metadata": {
        "colab": {
          "base_uri": "https://localhost:8080/"
        },
        "id": "KTUX5CdZcGPy",
        "outputId": "ed92718b-1b84-4d6c-b24a-2e4244ca9a94"
      },
      "execution_count": 6,
      "outputs": [
        {
          "output_type": "execute_result",
          "data": {
            "text/plain": [
              "['Timestamp',\n",
              " 'FRUITS_VEGGIES',\n",
              " 'DAILY_STRESS',\n",
              " 'PLACES_VISITED',\n",
              " 'CORE_CIRCLE',\n",
              " 'SUPPORTING_OTHERS',\n",
              " 'SOCIAL_NETWORK',\n",
              " 'ACHIEVEMENT',\n",
              " 'DONATION',\n",
              " 'BMI_RANGE',\n",
              " 'TODO_COMPLETED',\n",
              " 'FLOW',\n",
              " 'DAILY_STEPS',\n",
              " 'LIVE_VISION',\n",
              " 'SLEEP_HOURS',\n",
              " 'LOST_VACATION',\n",
              " 'DAILY_SHOUTING',\n",
              " 'SUFFICIENT_INCOME',\n",
              " 'PERSONAL_AWARDS',\n",
              " 'TIME_FOR_PASSION',\n",
              " 'WEEKLY_MEDITATION',\n",
              " 'AGE',\n",
              " 'GENDER',\n",
              " 'WORK_LIFE_BALANCE_SCORE']"
            ]
          },
          "metadata": {},
          "execution_count": 6
        }
      ]
    },
    {
      "cell_type": "code",
      "source": [
        "data_df.printSchema()\n",
        "# Timestamp and DAILY_STRESS to be converted"
      ],
      "metadata": {
        "colab": {
          "base_uri": "https://localhost:8080/"
        },
        "id": "0PNUrv4pb0z1",
        "outputId": "0ee43ce5-d744-4f75-f1b7-caa92ea65f06"
      },
      "execution_count": 7,
      "outputs": [
        {
          "output_type": "stream",
          "name": "stdout",
          "text": [
            "root\n",
            " |-- Timestamp: string (nullable = true)\n",
            " |-- FRUITS_VEGGIES: integer (nullable = true)\n",
            " |-- DAILY_STRESS: string (nullable = true)\n",
            " |-- PLACES_VISITED: integer (nullable = true)\n",
            " |-- CORE_CIRCLE: integer (nullable = true)\n",
            " |-- SUPPORTING_OTHERS: integer (nullable = true)\n",
            " |-- SOCIAL_NETWORK: integer (nullable = true)\n",
            " |-- ACHIEVEMENT: integer (nullable = true)\n",
            " |-- DONATION: integer (nullable = true)\n",
            " |-- BMI_RANGE: integer (nullable = true)\n",
            " |-- TODO_COMPLETED: integer (nullable = true)\n",
            " |-- FLOW: integer (nullable = true)\n",
            " |-- DAILY_STEPS: integer (nullable = true)\n",
            " |-- LIVE_VISION: integer (nullable = true)\n",
            " |-- SLEEP_HOURS: integer (nullable = true)\n",
            " |-- LOST_VACATION: integer (nullable = true)\n",
            " |-- DAILY_SHOUTING: integer (nullable = true)\n",
            " |-- SUFFICIENT_INCOME: integer (nullable = true)\n",
            " |-- PERSONAL_AWARDS: integer (nullable = true)\n",
            " |-- TIME_FOR_PASSION: integer (nullable = true)\n",
            " |-- WEEKLY_MEDITATION: integer (nullable = true)\n",
            " |-- AGE: string (nullable = true)\n",
            " |-- GENDER: string (nullable = true)\n",
            " |-- WORK_LIFE_BALANCE_SCORE: double (nullable = true)\n",
            "\n"
          ]
        }
      ]
    },
    {
      "cell_type": "code",
      "source": [
        "data_df.describe().show()\n",
        "# no null values"
      ],
      "metadata": {
        "colab": {
          "base_uri": "https://localhost:8080/"
        },
        "id": "idK5n59afD1j",
        "outputId": "11a13ae6-6642-4193-ef5e-01e5c6544692"
      },
      "execution_count": 8,
      "outputs": [
        {
          "output_type": "stream",
          "name": "stdout",
          "text": [
            "+-------+-----------+------------------+------------------+------------------+------------------+-----------------+-----------------+------------------+------------------+------------------+-----------------+------------------+------------------+-----------------+------------------+------------------+------------------+-------------------+------------------+------------------+-----------------+------------+------+-----------------------+\n",
            "|summary|  Timestamp|    FRUITS_VEGGIES|      DAILY_STRESS|    PLACES_VISITED|       CORE_CIRCLE|SUPPORTING_OTHERS|   SOCIAL_NETWORK|       ACHIEVEMENT|          DONATION|         BMI_RANGE|   TODO_COMPLETED|              FLOW|       DAILY_STEPS|      LIVE_VISION|       SLEEP_HOURS|     LOST_VACATION|    DAILY_SHOUTING|  SUFFICIENT_INCOME|   PERSONAL_AWARDS|  TIME_FOR_PASSION|WEEKLY_MEDITATION|         AGE|GENDER|WORK_LIFE_BALANCE_SCORE|\n",
            "+-------+-----------+------------------+------------------+------------------+------------------+-----------------+-----------------+------------------+------------------+------------------+-----------------+------------------+------------------+-----------------+------------------+------------------+------------------+-------------------+------------------+------------------+-----------------+------------+------+-----------------------+\n",
            "|  count|      15972|             15972|             15972|             15972|             15972|            15972|            15972|             15972|             15972|             15972|            15972|             15972|             15972|            15972|             15972|             15972|             15972|              15972|             15972|             15972|            15972|       15972| 15972|                  15972|\n",
            "|   mean|       null| 2.922677185073879|2.7916849289336922| 5.232970197846231| 5.508076634109692|5.616453794139745|6.474267468069121| 4.000751314800902|2.7153143000250437| 1.410656148259454|5.745992987728525| 3.194778362133734| 5.703606311044328|3.752128725269221| 7.042887553218132| 2.898885549711996| 2.930879038317055| 1.7289631855747558| 5.711557726020536| 3.326571500125219|6.233345855246681|        null|  null|      666.7515026296032|\n",
            "| stddev|       null|1.4426942233979019|1.3678007467520352|3.3119123254937324|2.8403335572271833|3.242021034924002|3.086672183956178|2.7558373901607927| 1.851586429915072|0.4919683218732375|2.624097276447961|2.3575175409623665|2.8910125056198486|3.230986852229526|1.1990442948306186|3.6921795194479654|2.6763011497421796|0.44450897692281643|3.0896295789391575|2.7292927791428534|3.016571018122333|        null|  null|     45.019868198234136|\n",
            "|    min|     1/1/16|                 0|                 0|                 0|                 0|                0|                0|                 0|                 0|                 1|                0|                 0|                 1|                0|                 1|                 0|                 0|                  1|                 0|                 0|                0|    21 to 35|Female|                  480.0|\n",
            "|    max|9/9/20 8:10|                 5|                 5|                10|                10|               10|               10|                10|                 5|                 2|               10|                10|                10|               10|                10|                10|                10|                  2|                10|                10|               10|Less than 20|  Male|                  820.2|\n",
            "+-------+-----------+------------------+------------------+------------------+------------------+-----------------+-----------------+------------------+------------------+------------------+-----------------+------------------+------------------+-----------------+------------------+------------------+------------------+-------------------+------------------+------------------+-----------------+------------+------+-----------------------+\n",
            "\n"
          ]
        }
      ]
    },
    {
      "cell_type": "code",
      "source": [
        "data_df.groupBy(\"Timestamp\").count().show()"
      ],
      "metadata": {
        "colab": {
          "base_uri": "https://localhost:8080/"
        },
        "id": "S206d7-bnhK0",
        "outputId": "fb9bc227-9b5a-4869-930f-97602086a6ff"
      },
      "execution_count": 9,
      "outputs": [
        {
          "output_type": "stream",
          "name": "stdout",
          "text": [
            "+-------------+-----+\n",
            "|    Timestamp|count|\n",
            "+-------------+-----+\n",
            "|      9/29/15|   12|\n",
            "|      1/22/16|    6|\n",
            "|      10/4/17|   19|\n",
            "|      7/15/18|    7|\n",
            "|1/30/19 12:29|    1|\n",
            "|2/26/19 15:43|    1|\n",
            "| 3/14/19 6:15|    1|\n",
            "| 4/20/19 3:51|    1|\n",
            "| 4/25/19 8:04|    1|\n",
            "|5/12/19 13:18|    1|\n",
            "| 5/22/19 2:24|    1|\n",
            "|5/26/19 13:40|    1|\n",
            "|7/25/19 17:41|    1|\n",
            "| 8/31/19 4:08|    1|\n",
            "|9/20/19 17:42|    1|\n",
            "| 11/3/19 7:45|    1|\n",
            "|11/7/19 20:27|    1|\n",
            "|11/9/19 17:44|    1|\n",
            "| 1/18/20 7:59|    2|\n",
            "|2/18/20 18:41|    1|\n",
            "+-------------+-----+\n",
            "only showing top 20 rows\n",
            "\n"
          ]
        }
      ]
    },
    {
      "cell_type": "code",
      "source": [
        "from pyspark.sql.functions import regexp_replace\n",
        "data_df = data_df.withColumn(\"DATE\", regexp_replace(\"Timestamp\", r'(\\s\\d{1,2}:\\d{2})', ''))"
      ],
      "metadata": {
        "id": "eck57RColajH"
      },
      "execution_count": 10,
      "outputs": []
    },
    {
      "cell_type": "code",
      "source": [
        "data_df.groupBy(\"DATE\").count().show()"
      ],
      "metadata": {
        "colab": {
          "base_uri": "https://localhost:8080/"
        },
        "id": "vjIkXuD_mEug",
        "outputId": "bd1951c8-81e1-4f54-cbdf-43c2e79214c8"
      },
      "execution_count": 11,
      "outputs": [
        {
          "output_type": "stream",
          "name": "stdout",
          "text": [
            "+--------+-----+\n",
            "|    DATE|count|\n",
            "+--------+-----+\n",
            "| 9/29/15|   12|\n",
            "| 1/22/16|    6|\n",
            "| 10/4/17|   19|\n",
            "| 7/15/18|    7|\n",
            "| 2/16/19|    8|\n",
            "|  6/7/19|   12|\n",
            "|  2/4/20|    7|\n",
            "| 6/15/20|   10|\n",
            "| 8/28/20|   10|\n",
            "| 2/20/16|    8|\n",
            "| 4/19/16|    8|\n",
            "|  8/1/16|    4|\n",
            "|11/10/16|    6|\n",
            "|11/12/16|    3|\n",
            "|  2/6/17|   13|\n",
            "|11/22/17|    8|\n",
            "| 7/30/18|    3|\n",
            "| 5/19/19|   10|\n",
            "|  7/5/19|    4|\n",
            "| 7/26/19|    4|\n",
            "+--------+-----+\n",
            "only showing top 20 rows\n",
            "\n"
          ]
        }
      ]
    },
    {
      "cell_type": "code",
      "source": [
        "data_df.groupby(\"DAILY_STRESS\").count().show()"
      ],
      "metadata": {
        "colab": {
          "base_uri": "https://localhost:8080/"
        },
        "id": "tF_cZqXqi97G",
        "outputId": "d84353fb-9616-4d31-8847-dff89df48940"
      },
      "execution_count": 12,
      "outputs": [
        {
          "output_type": "stream",
          "name": "stdout",
          "text": [
            "+------------+-----+\n",
            "|DAILY_STRESS|count|\n",
            "+------------+-----+\n",
            "|           3| 4398|\n",
            "|           0|  676|\n",
            "|           5| 2052|\n",
            "|      1/1/00|    1|\n",
            "|           1| 2478|\n",
            "|           4| 2960|\n",
            "|           2| 3407|\n",
            "+------------+-----+\n",
            "\n"
          ]
        }
      ]
    },
    {
      "cell_type": "code",
      "source": [
        "clean_df = data_df.filter(data_df.DAILY_STRESS <= 5)\n",
        "clean_df.groupBy(\"DAILY_STRESS\").count().show()"
      ],
      "metadata": {
        "colab": {
          "base_uri": "https://localhost:8080/"
        },
        "id": "4JU7tzZuk8Iv",
        "outputId": "11ff1422-7164-48b0-b0dc-d8b43637adf4"
      },
      "execution_count": 13,
      "outputs": [
        {
          "output_type": "stream",
          "name": "stdout",
          "text": [
            "+------------+-----+\n",
            "|DAILY_STRESS|count|\n",
            "+------------+-----+\n",
            "|           3| 4398|\n",
            "|           0|  676|\n",
            "|           5| 2052|\n",
            "|           1| 2478|\n",
            "|           4| 2960|\n",
            "|           2| 3407|\n",
            "+------------+-----+\n",
            "\n"
          ]
        }
      ]
    },
    {
      "cell_type": "code",
      "source": [
        "clean_df = clean_df.withColumn(\"DAILY_STRESS_clean\", clean_df[\"DAILY_STRESS\"].cast('int')).drop(\"DAILY_STRESS\").withColumnRenamed(\"DAILY_STRESS_clean\", \"DAILY_STRESS\")\n",
        "clean_df.printSchema()"
      ],
      "metadata": {
        "colab": {
          "base_uri": "https://localhost:8080/"
        },
        "id": "sM63hBfso6zg",
        "outputId": "b037963e-24a5-4fd5-e82d-a71ed2280f15"
      },
      "execution_count": 14,
      "outputs": [
        {
          "output_type": "stream",
          "name": "stdout",
          "text": [
            "root\n",
            " |-- Timestamp: string (nullable = true)\n",
            " |-- FRUITS_VEGGIES: integer (nullable = true)\n",
            " |-- PLACES_VISITED: integer (nullable = true)\n",
            " |-- CORE_CIRCLE: integer (nullable = true)\n",
            " |-- SUPPORTING_OTHERS: integer (nullable = true)\n",
            " |-- SOCIAL_NETWORK: integer (nullable = true)\n",
            " |-- ACHIEVEMENT: integer (nullable = true)\n",
            " |-- DONATION: integer (nullable = true)\n",
            " |-- BMI_RANGE: integer (nullable = true)\n",
            " |-- TODO_COMPLETED: integer (nullable = true)\n",
            " |-- FLOW: integer (nullable = true)\n",
            " |-- DAILY_STEPS: integer (nullable = true)\n",
            " |-- LIVE_VISION: integer (nullable = true)\n",
            " |-- SLEEP_HOURS: integer (nullable = true)\n",
            " |-- LOST_VACATION: integer (nullable = true)\n",
            " |-- DAILY_SHOUTING: integer (nullable = true)\n",
            " |-- SUFFICIENT_INCOME: integer (nullable = true)\n",
            " |-- PERSONAL_AWARDS: integer (nullable = true)\n",
            " |-- TIME_FOR_PASSION: integer (nullable = true)\n",
            " |-- WEEKLY_MEDITATION: integer (nullable = true)\n",
            " |-- AGE: string (nullable = true)\n",
            " |-- GENDER: string (nullable = true)\n",
            " |-- WORK_LIFE_BALANCE_SCORE: double (nullable = true)\n",
            " |-- DATE: string (nullable = true)\n",
            " |-- DAILY_STRESS: integer (nullable = true)\n",
            "\n"
          ]
        }
      ]
    },
    {
      "cell_type": "code",
      "source": [
        "from pyspark.sql.functions import to_date\n",
        "df = data_df.select([to_date(\"DATE\", \"M/d/yy\").alias(\"DATE\"),\n",
        "                          'FRUITS_VEGGIES',\n",
        "                          'DAILY_STRESS',\n",
        "                          'PLACES_VISITED',\n",
        "                          'CORE_CIRCLE',\n",
        "                          'SUPPORTING_OTHERS',\n",
        "                          'SOCIAL_NETWORK',\n",
        "                          'ACHIEVEMENT',\n",
        "                          'DONATION',\n",
        "                          'BMI_RANGE',\n",
        "                          'TODO_COMPLETED',\n",
        "                          'FLOW',\n",
        "                          'DAILY_STEPS',\n",
        "                          'LIVE_VISION',\n",
        "                          'SLEEP_HOURS',\n",
        "                          'LOST_VACATION',\n",
        "                          'DAILY_SHOUTING',\n",
        "                          'SUFFICIENT_INCOME',\n",
        "                          'PERSONAL_AWARDS',\n",
        "                          'TIME_FOR_PASSION',\n",
        "                          'WEEKLY_MEDITATION',\n",
        "                          'AGE',\n",
        "                          'GENDER',\n",
        "                          'WORK_LIFE_BALANCE_SCORE'])\n",
        "df.show()"
      ],
      "metadata": {
        "colab": {
          "base_uri": "https://localhost:8080/"
        },
        "id": "1mCLmW7ixg5Y",
        "outputId": "0f36905f-6240-4a82-9ba8-c445812b23d8"
      },
      "execution_count": 15,
      "outputs": [
        {
          "output_type": "stream",
          "name": "stdout",
          "text": [
            "+----------+--------------+------------+--------------+-----------+-----------------+--------------+-----------+--------+---------+--------------+----+-----------+-----------+-----------+-------------+--------------+-----------------+---------------+----------------+-----------------+----------+------+-----------------------+\n",
            "|      DATE|FRUITS_VEGGIES|DAILY_STRESS|PLACES_VISITED|CORE_CIRCLE|SUPPORTING_OTHERS|SOCIAL_NETWORK|ACHIEVEMENT|DONATION|BMI_RANGE|TODO_COMPLETED|FLOW|DAILY_STEPS|LIVE_VISION|SLEEP_HOURS|LOST_VACATION|DAILY_SHOUTING|SUFFICIENT_INCOME|PERSONAL_AWARDS|TIME_FOR_PASSION|WEEKLY_MEDITATION|       AGE|GENDER|WORK_LIFE_BALANCE_SCORE|\n",
            "+----------+--------------+------------+--------------+-----------+-----------------+--------------+-----------+--------+---------+--------------+----+-----------+-----------+-----------+-------------+--------------+-----------------+---------------+----------------+-----------------+----------+------+-----------------------+\n",
            "|2015-07-07|             3|           2|             2|          5|                0|             5|          2|       0|        1|             6|   4|          5|          0|          7|            5|             5|                1|              4|               0|                5|  36 to 50|Female|                  609.5|\n",
            "|2015-07-07|             2|           3|             4|          3|                8|            10|          5|       2|        2|             5|   2|          5|          5|          8|            2|             2|                2|              3|               2|                6|  36 to 50|Female|                  655.6|\n",
            "|2015-07-07|             2|           3|             3|          4|                4|            10|          3|       2|        2|             2|   2|          4|          5|          8|           10|             2|                2|              4|               8|                3|  36 to 50|Female|                  631.6|\n",
            "|2015-07-07|             3|           3|            10|          3|               10|             7|          2|       5|        2|             3|   5|          5|          0|          5|            7|             5|                1|              5|               2|                0|51 or more|Female|                  622.7|\n",
            "|2015-07-07|             5|           1|             3|          3|               10|             4|          2|       4|        2|             5|   0|          5|          0|          7|            0|             0|                2|              8|               1|                5|51 or more|Female|                  663.9|\n",
            "|2015-07-08|             3|           2|             3|          9|               10|            10|          2|       3|        1|             6|   1|          7|         10|          8|            0|             2|                2|             10|               8|                3|51 or more|Female|                  722.3|\n",
            "|2015-07-08|             4|           2|            10|          6|               10|            10|          3|       5|        2|             8|   8|          7|          5|          7|           10|             0|                2|             10|               8|               10|51 or more|  Male|                  727.2|\n",
            "|2015-07-09|             3|           4|             5|          3|                5|             7|          4|       0|        1|             8|   2|          8|         10|          6|            0|             2|                2|              8|               2|                2|  21 to 35|Female|                  676.2|\n",
            "|2015-07-09|             5|           3|             6|          4|                3|             3|          5|       4|        1|            10|   2|          1|          5|         10|            0|             2|                2|             10|               3|               10|  21 to 35|Female|                  702.8|\n",
            "|2015-07-10|             4|           4|             2|          6|               10|            10|          0|       4|        2|             3|   2|          3|          0|          6|            0|             0|                1|              3|               8|                1|51 or more|Female|                  634.4|\n",
            "|2015-07-10|             2|           4|             7|          7|                1|             1|          3|       0|        2|             2|   2|          7|          4|          8|            7|             3|                2|              3|               0|                6|  36 to 50|Female|                  610.1|\n",
            "|2015-07-12|             1|           4|             3|          8|                0|             2|          1|       0|        1|             2|   1|          8|          2|          7|            7|             1|                2|              4|               1|                7|  21 to 35|  Male|                  618.6|\n",
            "|2015-07-12|             2|           2|            10|          5|                2|             8|          3|       4|        2|             7|   1|          6|         10|          8|            0|             0|                2|              5|               2|                7|  21 to 35|  Male|                  686.4|\n",
            "|2015-07-12|             5|           3|             0|          3|                6|             6|          6|       3|        1|             8|   7|          7|          2|          6|            0|             3|                2|              5|               6|                5|  36 to 50|Female|                  689.6|\n",
            "|2015-07-12|             3|           3|             2|          3|                7|             5|          3|       2|        1|             8|   0|          2|          5|          8|            3|             2|                1|              4|               5|                4|  21 to 35|Female|                  639.7|\n",
            "|2015-07-12|             3|           3|             5|          4|               10|            10|          2|       5|        1|             7|   2|          8|         10|          6|            1|             2|                2|              8|               3|               10|51 or more|Female|                  720.4|\n",
            "|2015-07-12|             4|           2|            10|          4|                6|            10|          4|       0|        1|             8|   2|          1|          1|          8|            1|             1|                2|              3|               3|                3|  21 to 35|  Male|                  673.5|\n",
            "|2015-07-12|             4|           2|            10|         10|                5|            10|          0|       1|        1|             7|   1|         10|          2|          8|            0|             3|                2|              4|               8|                6|  21 to 35|  Male|                  707.6|\n",
            "|2015-07-12|             5|           3|            10|          7|               10|             5|          6|       5|        1|             6|   2|          8|         10|          9|            0|             7|                2|              5|               4|                7|  36 to 50|Female|                  727.8|\n",
            "|2015-07-13|             3|           1|             6|         10|               10|             6|          3|       5|        2|             8|   4|          1|          5|          8|            0|             0|                2|              5|               1|                2|  36 to 50|  Male|                  687.1|\n",
            "+----------+--------------+------------+--------------+-----------+-----------------+--------------+-----------+--------+---------+--------------+----+-----------+-----------+-----------+-------------+--------------+-----------------+---------------+----------------+-----------------+----------+------+-----------------------+\n",
            "only showing top 20 rows\n",
            "\n"
          ]
        }
      ]
    },
    {
      "cell_type": "code",
      "source": [
        "date_df = clean_df.groupBy(\"DATE\").count()\n",
        "date_df.show()"
      ],
      "metadata": {
        "colab": {
          "base_uri": "https://localhost:8080/"
        },
        "id": "4New7ISonskN",
        "outputId": "7b37ad9e-85d4-4813-a552-06cb5691dac6"
      },
      "execution_count": 16,
      "outputs": [
        {
          "output_type": "stream",
          "name": "stdout",
          "text": [
            "+--------+-----+\n",
            "|    DATE|count|\n",
            "+--------+-----+\n",
            "| 9/29/15|   12|\n",
            "| 1/22/16|    6|\n",
            "| 10/4/17|   19|\n",
            "| 7/15/18|    7|\n",
            "| 2/16/19|    8|\n",
            "|  6/7/19|   12|\n",
            "|  2/4/20|    7|\n",
            "| 6/15/20|   10|\n",
            "| 8/28/20|   10|\n",
            "| 2/20/16|    8|\n",
            "| 4/19/16|    8|\n",
            "|  8/1/16|    4|\n",
            "|11/10/16|    6|\n",
            "|11/12/16|    3|\n",
            "|  2/6/17|   13|\n",
            "|11/22/17|    8|\n",
            "| 7/30/18|    3|\n",
            "| 5/19/19|   10|\n",
            "|  7/5/19|    4|\n",
            "| 7/26/19|    4|\n",
            "+--------+-----+\n",
            "only showing top 20 rows\n",
            "\n"
          ]
        }
      ]
    },
    {
      "cell_type": "code",
      "source": [
        "df.printSchema()"
      ],
      "metadata": {
        "colab": {
          "base_uri": "https://localhost:8080/"
        },
        "id": "WX7oiMSen3pz",
        "outputId": "a5c14f5d-041b-4d3e-95dd-9e9f342ed7df"
      },
      "execution_count": 17,
      "outputs": [
        {
          "output_type": "stream",
          "name": "stdout",
          "text": [
            "root\n",
            " |-- DATE: date (nullable = true)\n",
            " |-- FRUITS_VEGGIES: integer (nullable = true)\n",
            " |-- DAILY_STRESS: string (nullable = true)\n",
            " |-- PLACES_VISITED: integer (nullable = true)\n",
            " |-- CORE_CIRCLE: integer (nullable = true)\n",
            " |-- SUPPORTING_OTHERS: integer (nullable = true)\n",
            " |-- SOCIAL_NETWORK: integer (nullable = true)\n",
            " |-- ACHIEVEMENT: integer (nullable = true)\n",
            " |-- DONATION: integer (nullable = true)\n",
            " |-- BMI_RANGE: integer (nullable = true)\n",
            " |-- TODO_COMPLETED: integer (nullable = true)\n",
            " |-- FLOW: integer (nullable = true)\n",
            " |-- DAILY_STEPS: integer (nullable = true)\n",
            " |-- LIVE_VISION: integer (nullable = true)\n",
            " |-- SLEEP_HOURS: integer (nullable = true)\n",
            " |-- LOST_VACATION: integer (nullable = true)\n",
            " |-- DAILY_SHOUTING: integer (nullable = true)\n",
            " |-- SUFFICIENT_INCOME: integer (nullable = true)\n",
            " |-- PERSONAL_AWARDS: integer (nullable = true)\n",
            " |-- TIME_FOR_PASSION: integer (nullable = true)\n",
            " |-- WEEKLY_MEDITATION: integer (nullable = true)\n",
            " |-- AGE: string (nullable = true)\n",
            " |-- GENDER: string (nullable = true)\n",
            " |-- WORK_LIFE_BALANCE_SCORE: double (nullable = true)\n",
            "\n"
          ]
        }
      ]
    },
    {
      "cell_type": "code",
      "source": [
        "# define age groups\n",
        "age_groups = df.groupBy(\"AGE\").count()\n",
        "age_groups.show()"
      ],
      "metadata": {
        "colab": {
          "base_uri": "https://localhost:8080/"
        },
        "id": "iHaOBQM6iz63",
        "outputId": "1362dd76-1fc8-4308-f5f1-e7b0a7f86313"
      },
      "execution_count": 18,
      "outputs": [
        {
          "output_type": "stream",
          "name": "stdout",
          "text": [
            "+------------+-----+\n",
            "|         AGE|count|\n",
            "+------------+-----+\n",
            "|  51 or more| 3390|\n",
            "|    36 to 50| 4655|\n",
            "|    21 to 35| 6108|\n",
            "|Less than 20| 1819|\n",
            "+------------+-----+\n",
            "\n"
          ]
        }
      ]
    },
    {
      "cell_type": "code",
      "source": [
        "# arrange from high to low WLB score\n",
        "high_low = df.orderBy(df[\"WORK_LIFE_BALANCE_SCORE\"].desc())\n",
        "high_low.show()"
      ],
      "metadata": {
        "colab": {
          "base_uri": "https://localhost:8080/"
        },
        "id": "3-UVIZnPfRN1",
        "outputId": "75e2a635-6fc7-4f4f-a042-487becdd16c1"
      },
      "execution_count": 19,
      "outputs": [
        {
          "output_type": "stream",
          "name": "stdout",
          "text": [
            "+----------+--------------+------------+--------------+-----------+-----------------+--------------+-----------+--------+---------+--------------+----+-----------+-----------+-----------+-------------+--------------+-----------------+---------------+----------------+-----------------+------------+------+-----------------------+\n",
            "|      DATE|FRUITS_VEGGIES|DAILY_STRESS|PLACES_VISITED|CORE_CIRCLE|SUPPORTING_OTHERS|SOCIAL_NETWORK|ACHIEVEMENT|DONATION|BMI_RANGE|TODO_COMPLETED|FLOW|DAILY_STEPS|LIVE_VISION|SLEEP_HOURS|LOST_VACATION|DAILY_SHOUTING|SUFFICIENT_INCOME|PERSONAL_AWARDS|TIME_FOR_PASSION|WEEKLY_MEDITATION|         AGE|GENDER|WORK_LIFE_BALANCE_SCORE|\n",
            "+----------+--------------+------------+--------------+-----------+-----------------+--------------+-----------+--------+---------+--------------+----+-----------+-----------+-----------+-------------+--------------+-----------------+---------------+----------------+-----------------+------------+------+-----------------------+\n",
            "|2015-10-19|             5|           0|            10|         10|               10|            10|         10|       5|        1|            10|  10|         10|         10|         10|            0|             0|                2|             10|              10|               10|    36 to 50|  Male|                  820.2|\n",
            "|2016-03-22|             5|           0|            10|         10|               10|            10|         10|       5|        1|            10|  10|         10|         10|          9|            0|             0|                2|             10|              10|               10|Less than 20|  Male|                  818.3|\n",
            "|2016-03-22|             5|           0|            10|         10|               10|            10|         10|       5|        1|            10|  10|         10|         10|          8|            0|             0|                2|             10|              10|               10|Less than 20|  Male|                  816.4|\n",
            "|2016-04-12|             5|           0|            10|         10|               10|            10|         10|       5|        1|            10|  10|         10|         10|          7|            0|             0|                2|             10|              10|               10|    36 to 50|  Male|                  814.5|\n",
            "|2020-11-15|             5|           0|            10|         10|               10|            10|         10|       5|        1|            10|  10|         10|         10|          7|            0|             0|                2|             10|              10|               10|  51 or more|  Male|                  814.5|\n",
            "|2020-11-14|             5|           1|            10|         10|               10|            10|         10|       5|        1|             9|   7|         10|         10|          7|            0|             0|                2|             10|              10|               10|  51 or more|  Male|                  804.3|\n",
            "|2017-06-22|             5|           0|            10|          9|               10|            10|         10|       5|        1|            10|   5|         10|         10|          7|            0|             0|                2|             10|              10|               10|    21 to 35|  Male|                  804.3|\n",
            "|2020-10-01|             5|           0|             9|         10|               10|            10|         10|       4|        1|            10|  10|         10|         10|          7|            0|             0|                2|              6|              10|               10|  51 or more|Female|                  802.6|\n",
            "|2018-07-05|             5|           1|            10|         10|               10|            10|         10|       5|        1|            10|  10|         10|          5|          8|            0|             2|                2|             10|              10|               10|    36 to 50|  Male|                  801.1|\n",
            "|2019-10-31|             5|           0|            10|         10|               10|            10|         10|       5|        2|            10|  10|         10|         10|          8|            0|             0|                2|             10|              10|               10|  51 or more|Female|                  799.4|\n",
            "|2015-12-06|             4|           0|            10|         10|               10|            10|         10|       5|        1|             8|   5|         10|         10|          7|            0|             0|                2|             10|              10|               10|    36 to 50|  Male|                  799.2|\n",
            "|2015-08-20|             5|           1|            10|         10|               10|            10|         10|       5|        1|            10|   8|         10|         10|          6|            0|             0|                2|             10|               6|               10|  51 or more|Female|                  799.0|\n",
            "|2016-08-26|             5|           2|            10|         10|               10|            10|         10|       5|        1|            10|   8|         10|         10|          8|            0|             0|                2|             10|               8|                7|  51 or more|Female|                  797.7|\n",
            "|2018-09-12|             5|           1|            10|          5|               10|            10|         10|       5|        1|             8|  10|         10|         10|          8|            0|             2|                2|             10|              10|               10|    21 to 35|  Male|                  797.7|\n",
            "|2020-05-01|             5|           0|            10|         10|               10|            10|         10|       5|        2|            10|  10|         10|         10|          7|            0|             0|                2|             10|              10|               10|    36 to 50|  Male|                  797.5|\n",
            "|2017-06-05|             5|           2|            10|         10|               10|             7|         10|       5|        1|             8|  10|         10|         10|          7|            0|             2|                2|             10|              10|               10|  51 or more|Female|                  795.8|\n",
            "|2015-11-06|             4|           1|             9|         10|               10|            10|         10|       5|        1|             8|   8|          7|         10|          8|            0|             0|                2|             10|              10|               10|  51 or more|Female|                  795.4|\n",
            "|2017-08-23|             4|           1|            10|         10|               10|            10|         10|       5|        1|             8|  10|          7|         10|          5|            0|             0|                2|             10|              10|               10|  51 or more|  Male|                  794.8|\n",
            "|2020-09-03|             5|           0|            10|         10|               10|            10|         10|       5|        1|            10|   7|          3|         10|          8|            0|             0|                2|              8|              10|               10|  51 or more|Female|                  794.6|\n",
            "|2018-06-11|             5|           3|            10|         10|               10|            10|         10|       3|        1|            10|  10|         10|         10|          8|            0|             3|                2|             10|              10|               10|    36 to 50|Female|                  794.3|\n",
            "+----------+--------------+------------+--------------+-----------+-----------------+--------------+-----------+--------+---------+--------------+----+-----------+-----------+-----------+-------------+--------------+-----------------+---------------+----------------+-----------------+------------+------+-----------------------+\n",
            "only showing top 20 rows\n",
            "\n"
          ]
        }
      ]
    },
    {
      "cell_type": "code",
      "source": [
        "# arrange from low to high WLB score\n",
        "low_high = df.orderBy(df[\"WORK_LIFE_BALANCE_SCORE\"])\n",
        "low_high.show()"
      ],
      "metadata": {
        "colab": {
          "base_uri": "https://localhost:8080/"
        },
        "id": "9OKZS-i8gD2O",
        "outputId": "a6e348f7-7090-4bf8-81a2-0ab1b3f3fe4b"
      },
      "execution_count": 20,
      "outputs": [
        {
          "output_type": "stream",
          "name": "stdout",
          "text": [
            "+----------+--------------+------------+--------------+-----------+-----------------+--------------+-----------+--------+---------+--------------+----+-----------+-----------+-----------+-------------+--------------+-----------------+---------------+----------------+-----------------+------------+------+-----------------------+\n",
            "|      DATE|FRUITS_VEGGIES|DAILY_STRESS|PLACES_VISITED|CORE_CIRCLE|SUPPORTING_OTHERS|SOCIAL_NETWORK|ACHIEVEMENT|DONATION|BMI_RANGE|TODO_COMPLETED|FLOW|DAILY_STEPS|LIVE_VISION|SLEEP_HOURS|LOST_VACATION|DAILY_SHOUTING|SUFFICIENT_INCOME|PERSONAL_AWARDS|TIME_FOR_PASSION|WEEKLY_MEDITATION|         AGE|GENDER|WORK_LIFE_BALANCE_SCORE|\n",
            "+----------+--------------+------------+--------------+-----------+-----------------+--------------+-----------+--------+---------+--------------+----+-----------+-----------+-----------+-------------+--------------+-----------------+---------------+----------------+-----------------+------------+------+-----------------------+\n",
            "|2016-10-22|             0|           5|             0|          0|                0|             0|          0|       0|        2|             0|   0|          1|          0|          1|           10|            10|                1|              0|               0|                0|    21 to 35|Female|                  480.0|\n",
            "|2018-08-09|             0|           5|             0|          0|                0|             0|          0|       0|        2|             0|   0|          1|          0|          1|           10|            10|                1|              0|               0|                0|  51 or more|  Male|                  480.0|\n",
            "|2016-03-22|             0|           5|             0|          0|                0|             0|          0|       0|        2|             0|   0|          1|          0|          1|           10|            10|                1|              0|               0|                0|Less than 20|  Male|                  480.0|\n",
            "|2016-04-21|             0|           5|             0|          0|                0|             0|          0|       0|        2|             0|   0|          1|          0|          1|           10|            10|                1|              0|               0|                0|    21 to 35|  Male|                  480.0|\n",
            "|2015-10-18|             0|           5|             0|          1|                0|             1|          0|       1|        2|             0|   0|          2|          0|          4|            9|            10|                1|              0|               0|                0|  51 or more|Female|                  496.1|\n",
            "|2015-10-18|             0|           5|             0|          1|                0|             1|          0|       1|        2|             0|   0|          2|          0|          4|            9|            10|                1|              0|               0|                0|  51 or more|Female|                  496.1|\n",
            "|2018-07-07|             0|           5|             0|          0|                0|             0|          0|       0|        1|             0|   0|          1|          0|          1|           10|            10|                1|              0|               0|                0|    36 to 50|Female|                  497.0|\n",
            "|2018-08-08|             0|           5|             0|          0|                0|             0|          0|       0|        2|             0|   0|         10|          0|          2|           10|            10|                1|              0|               0|                0|Less than 20|  Male|                  499.0|\n",
            "|2020-10-07|             2|           5|             0|          1|                1|             0|          1|       0|        2|             0|   2|          1|          0|          3|           10|            10|                1|              2|               1|                0|    36 to 50|Female|                  504.2|\n",
            "|2016-07-19|             1|           5|             0|          0|                0|             1|          0|       0|        2|             0|   0|          1|          0|          5|            0|            10|                1|              0|               0|                0|  51 or more|Female|                  509.7|\n",
            "|2018-07-12|             0|           5|             0|          0|                0|             0|          0|       0|        1|             0|   0|          1|          0|          1|           10|             0|                1|              0|               0|                0|    21 to 35|  Male|                  514.0|\n",
            "|2020-10-25|             1|           5|             0|          0|                2|             2|          0|       1|        2|             1|   0|          1|          0|          7|           10|             7|                1|              2|               2|                0|    21 to 35|Female|                  518.6|\n",
            "|2019-05-19|             1|           5|             0|          1|                1|             1|          0|       0|        2|             4|   1|          4|          0|          6|           10|             7|                1|              1|               0|                0|    36 to 50|Female|                  519.0|\n",
            "|2017-04-27|             0|           5|             1|          0|                0|             0|          0|       0|        2|             0|   0|          5|          0|          9|            1|            10|                1|              1|               0|                0|    36 to 50|  Male|                  521.5|\n",
            "|2019-02-16|             0|           5|             3|          3|                3|             2|          0|       1|        2|             1|   1|          1|          0|          7|           10|            10|                1|              3|               0|                0|Less than 20|Female|                  522.0|\n",
            "|2017-04-08|             0|           5|             1|          2|                2|             1|          0|       0|        2|             1|   0|          1|          3|          8|           10|            10|                1|              3|               1|                3|    21 to 35|  Male|                  522.2|\n",
            "|2020-06-29|             1|           5|             0|          1|                1|             1|          0|       1|        2|             0|   1|          1|         10|          7|           10|            10|                1|              0|               1|                0|    36 to 50|Female|                  523.7|\n",
            "|2017-03-05|             1|           3|             0|          1|                1|             1|          0|       0|        2|             0|   0|          1|          0|          7|            5|             6|                1|              0|               0|                1|    21 to 35|Female|                  523.7|\n",
            "|2018-09-02|             3|           5|             0|          1|                2|             1|          1|       1|        2|             0|   0|          3|          0|          2|           10|             8|                1|              5|               3|                0|  51 or more|Female|                  524.8|\n",
            "|2017-04-27|             0|           5|             0|          0|                0|             0|          1|       0|        2|             0|   0|          5|          0|          9|            0|             9|                1|              1|               0|                0|    36 to 50|  Male|                  524.9|\n",
            "+----------+--------------+------------+--------------+-----------+-----------------+--------------+-----------+--------+---------+--------------+----+-----------+-----------+-----------+-------------+--------------+-----------------+---------------+----------------+-----------------+------------+------+-----------------------+\n",
            "only showing top 20 rows\n",
            "\n"
          ]
        }
      ]
    },
    {
      "cell_type": "code",
      "source": [
        "# WLB score average, min, max\n",
        "from pyspark.sql.functions import avg, min, max\n",
        "df.select(avg(\"WORK_LIFE_BALANCE_SCORE\"), min(\"WORK_LIFE_BALANCE_SCORE\"), max(\"WORK_LIFE_BALANCE_SCORE\")).show()"
      ],
      "metadata": {
        "colab": {
          "base_uri": "https://localhost:8080/"
        },
        "id": "ctjLrewTgmhT",
        "outputId": "d0ad7ae4-09d2-4527-b808-0272b8b5c8a6"
      },
      "execution_count": 21,
      "outputs": [
        {
          "output_type": "stream",
          "name": "stdout",
          "text": [
            "+----------------------------+----------------------------+----------------------------+\n",
            "|avg(WORK_LIFE_BALANCE_SCORE)|min(WORK_LIFE_BALANCE_SCORE)|max(WORK_LIFE_BALANCE_SCORE)|\n",
            "+----------------------------+----------------------------+----------------------------+\n",
            "|           666.7515026296032|                       480.0|                       820.2|\n",
            "+----------------------------+----------------------------+----------------------------+\n",
            "\n"
          ]
        }
      ]
    },
    {
      "cell_type": "code",
      "source": [
        "df.groupBy(\"GENDER\").count().show()"
      ],
      "metadata": {
        "colab": {
          "base_uri": "https://localhost:8080/"
        },
        "id": "ZmvCBaJtptNA",
        "outputId": "70675323-7bb8-4abe-d6b7-0868df1ac48e"
      },
      "execution_count": 22,
      "outputs": [
        {
          "output_type": "stream",
          "name": "stdout",
          "text": [
            "+------+-----+\n",
            "|GENDER|count|\n",
            "+------+-----+\n",
            "|Female| 9858|\n",
            "|  Male| 6114|\n",
            "+------+-----+\n",
            "\n"
          ]
        }
      ]
    },
    {
      "cell_type": "code",
      "source": [
        "# female participants\n",
        "female_df = df.filter(df[\"GENDER\"] == \"Female\")\n",
        "female_df.show()"
      ],
      "metadata": {
        "colab": {
          "base_uri": "https://localhost:8080/"
        },
        "id": "j6Vw41Uyg3Wx",
        "outputId": "7da32281-5269-4e32-8667-4bcac526efca"
      },
      "execution_count": 23,
      "outputs": [
        {
          "output_type": "stream",
          "name": "stdout",
          "text": [
            "+----------+--------------+------------+--------------+-----------+-----------------+--------------+-----------+--------+---------+--------------+----+-----------+-----------+-----------+-------------+--------------+-----------------+---------------+----------------+-----------------+------------+------+-----------------------+\n",
            "|      DATE|FRUITS_VEGGIES|DAILY_STRESS|PLACES_VISITED|CORE_CIRCLE|SUPPORTING_OTHERS|SOCIAL_NETWORK|ACHIEVEMENT|DONATION|BMI_RANGE|TODO_COMPLETED|FLOW|DAILY_STEPS|LIVE_VISION|SLEEP_HOURS|LOST_VACATION|DAILY_SHOUTING|SUFFICIENT_INCOME|PERSONAL_AWARDS|TIME_FOR_PASSION|WEEKLY_MEDITATION|         AGE|GENDER|WORK_LIFE_BALANCE_SCORE|\n",
            "+----------+--------------+------------+--------------+-----------+-----------------+--------------+-----------+--------+---------+--------------+----+-----------+-----------+-----------+-------------+--------------+-----------------+---------------+----------------+-----------------+------------+------+-----------------------+\n",
            "|2015-07-07|             3|           2|             2|          5|                0|             5|          2|       0|        1|             6|   4|          5|          0|          7|            5|             5|                1|              4|               0|                5|    36 to 50|Female|                  609.5|\n",
            "|2015-07-07|             2|           3|             4|          3|                8|            10|          5|       2|        2|             5|   2|          5|          5|          8|            2|             2|                2|              3|               2|                6|    36 to 50|Female|                  655.6|\n",
            "|2015-07-07|             2|           3|             3|          4|                4|            10|          3|       2|        2|             2|   2|          4|          5|          8|           10|             2|                2|              4|               8|                3|    36 to 50|Female|                  631.6|\n",
            "|2015-07-07|             3|           3|            10|          3|               10|             7|          2|       5|        2|             3|   5|          5|          0|          5|            7|             5|                1|              5|               2|                0|  51 or more|Female|                  622.7|\n",
            "|2015-07-07|             5|           1|             3|          3|               10|             4|          2|       4|        2|             5|   0|          5|          0|          7|            0|             0|                2|              8|               1|                5|  51 or more|Female|                  663.9|\n",
            "|2015-07-08|             3|           2|             3|          9|               10|            10|          2|       3|        1|             6|   1|          7|         10|          8|            0|             2|                2|             10|               8|                3|  51 or more|Female|                  722.3|\n",
            "|2015-07-09|             3|           4|             5|          3|                5|             7|          4|       0|        1|             8|   2|          8|         10|          6|            0|             2|                2|              8|               2|                2|    21 to 35|Female|                  676.2|\n",
            "|2015-07-09|             5|           3|             6|          4|                3|             3|          5|       4|        1|            10|   2|          1|          5|         10|            0|             2|                2|             10|               3|               10|    21 to 35|Female|                  702.8|\n",
            "|2015-07-10|             4|           4|             2|          6|               10|            10|          0|       4|        2|             3|   2|          3|          0|          6|            0|             0|                1|              3|               8|                1|  51 or more|Female|                  634.4|\n",
            "|2015-07-10|             2|           4|             7|          7|                1|             1|          3|       0|        2|             2|   2|          7|          4|          8|            7|             3|                2|              3|               0|                6|    36 to 50|Female|                  610.1|\n",
            "|2015-07-12|             5|           3|             0|          3|                6|             6|          6|       3|        1|             8|   7|          7|          2|          6|            0|             3|                2|              5|               6|                5|    36 to 50|Female|                  689.6|\n",
            "|2015-07-12|             3|           3|             2|          3|                7|             5|          3|       2|        1|             8|   0|          2|          5|          8|            3|             2|                1|              4|               5|                4|    21 to 35|Female|                  639.7|\n",
            "|2015-07-12|             3|           3|             5|          4|               10|            10|          2|       5|        1|             7|   2|          8|         10|          6|            1|             2|                2|              8|               3|               10|  51 or more|Female|                  720.4|\n",
            "|2015-07-12|             5|           3|            10|          7|               10|             5|          6|       5|        1|             6|   2|          8|         10|          9|            0|             7|                2|              5|               4|                7|    36 to 50|Female|                  727.8|\n",
            "|2015-07-13|             3|           5|             5|          4|                5|             3|          2|       5|        2|            10|   6|          3|          3|          7|            5|             7|                2|             10|              10|               10|    21 to 35|Female|                  668.6|\n",
            "|2015-07-13|             2|           4|             6|         10|                5|             5|          6|       4|        2|             6|   1|          7|         10|          6|            0|             3|                2|              1|               3|               10|    36 to 50|Female|                  677.7|\n",
            "|2015-07-13|             2|           4|            10|          3|               10|             7|          8|       3|        1|             6|   0|          5|          5|          7|            0|             1|                2|             10|               2|                2|    21 to 35|Female|                  692.8|\n",
            "|2015-07-13|             3|           4|             6|          4|                7|            10|          3|       3|        1|             4|   1|         10|          5|          6|            0|             3|                1|              7|               2|                8|    36 to 50|Female|                  673.2|\n",
            "|2015-07-13|             4|           2|            10|          3|                1|             2|          3|       3|        1|             7|   2|          4|          1|          7|            0|             3|                2|             10|               1|                7|Less than 20|Female|                  673.9|\n",
            "|2015-07-14|             3|           1|             3|          5|                2|            10|          4|       2|        1|             5|   4|          3|         10|          8|            0|             1|                2|             10|               4|                1|    36 to 50|Female|                  692.6|\n",
            "+----------+--------------+------------+--------------+-----------+-----------------+--------------+-----------+--------+---------+--------------+----+-----------+-----------+-----------+-------------+--------------+-----------------+---------------+----------------+-----------------+------------+------+-----------------------+\n",
            "only showing top 20 rows\n",
            "\n"
          ]
        }
      ]
    },
    {
      "cell_type": "code",
      "source": [
        "male_df = df.filter(df[\"GENDER\"] == \"Male\")\n",
        "male_df.show()"
      ],
      "metadata": {
        "colab": {
          "base_uri": "https://localhost:8080/"
        },
        "id": "UgNPZ9g3hQYT",
        "outputId": "81d9a2c6-9749-429d-85d0-bbec3c2354e3"
      },
      "execution_count": 24,
      "outputs": [
        {
          "output_type": "stream",
          "name": "stdout",
          "text": [
            "+----------+--------------+------------+--------------+-----------+-----------------+--------------+-----------+--------+---------+--------------+----+-----------+-----------+-----------+-------------+--------------+-----------------+---------------+----------------+-----------------+----------+------+-----------------------+\n",
            "|      DATE|FRUITS_VEGGIES|DAILY_STRESS|PLACES_VISITED|CORE_CIRCLE|SUPPORTING_OTHERS|SOCIAL_NETWORK|ACHIEVEMENT|DONATION|BMI_RANGE|TODO_COMPLETED|FLOW|DAILY_STEPS|LIVE_VISION|SLEEP_HOURS|LOST_VACATION|DAILY_SHOUTING|SUFFICIENT_INCOME|PERSONAL_AWARDS|TIME_FOR_PASSION|WEEKLY_MEDITATION|       AGE|GENDER|WORK_LIFE_BALANCE_SCORE|\n",
            "+----------+--------------+------------+--------------+-----------+-----------------+--------------+-----------+--------+---------+--------------+----+-----------+-----------+-----------+-------------+--------------+-----------------+---------------+----------------+-----------------+----------+------+-----------------------+\n",
            "|2015-07-08|             4|           2|            10|          6|               10|            10|          3|       5|        2|             8|   8|          7|          5|          7|           10|             0|                2|             10|               8|               10|51 or more|  Male|                  727.2|\n",
            "|2015-07-12|             1|           4|             3|          8|                0|             2|          1|       0|        1|             2|   1|          8|          2|          7|            7|             1|                2|              4|               1|                7|  21 to 35|  Male|                  618.6|\n",
            "|2015-07-12|             2|           2|            10|          5|                2|             8|          3|       4|        2|             7|   1|          6|         10|          8|            0|             0|                2|              5|               2|                7|  21 to 35|  Male|                  686.4|\n",
            "|2015-07-12|             4|           2|            10|          4|                6|            10|          4|       0|        1|             8|   2|          1|          1|          8|            1|             1|                2|              3|               3|                3|  21 to 35|  Male|                  673.5|\n",
            "|2015-07-12|             4|           2|            10|         10|                5|            10|          0|       1|        1|             7|   1|         10|          2|          8|            0|             3|                2|              4|               8|                6|  21 to 35|  Male|                  707.6|\n",
            "|2015-07-13|             3|           1|             6|         10|               10|             6|          3|       5|        2|             8|   4|          1|          5|          8|            0|             0|                2|              5|               1|                2|  36 to 50|  Male|                  687.1|\n",
            "|2015-07-13|             2|           4|             3|          8|                6|             5|          1|       2|        1|             8|   1|          4|          6|          4|            0|             3|                2|              3|               2|                5|  21 to 35|  Male|                  652.9|\n",
            "|2015-07-13|             5|           2|             8|          6|               10|            10|          6|       4|        2|             4|   4|          3|          3|          7|            1|             2|                2|             10|               6|                8|  36 to 50|  Male|                  709.4|\n",
            "|2015-07-13|             2|           2|             6|         10|               10|            10|         10|       5|        1|            10|   6|          7|          4|          7|            0|             1|                2|             10|               5|                7|  36 to 50|  Male|                  752.7|\n",
            "|2015-07-13|             1|           5|             1|          3|                6|             5|          3|       5|        1|             2|   2|          8|          1|          7|            0|             6|                2|              5|               1|                1|  21 to 35|  Male|                  633.9|\n",
            "|2015-07-13|             1|           4|             1|          2|                5|             3|          1|       5|        1|             1|   5|          8|          1|          7|            0|             4|                2|              2|               1|                1|  21 to 35|  Male|                  628.8|\n",
            "|2015-07-13|             5|           3|            10|          3|                7|             5|          3|       2|        1|             7|   2|         10|         10|          7|            0|             0|                1|             10|               5|               10|  21 to 35|  Male|                  712.5|\n",
            "|2015-07-14|             4|           2|            10|          6|               10|             8|         10|       2|        1|            10|   2|         10|          5|          7|            0|             3|                2|             10|               4|               10|  21 to 35|  Male|                  746.5|\n",
            "|2015-07-14|             3|           3|             0|          2|                0|             5|          0|       5|        2|             3|   1|          2|          0|          6|            0|             6|                1|              2|               2|               10|  21 to 35|  Male|                  591.7|\n",
            "|2015-07-15|             4|           1|             1|         10|               10|            10|          5|       5|        2|             8|   3|          7|          3|          6|            7|             2|                1|              6|               4|               10|51 or more|  Male|                  682.8|\n",
            "|2015-07-15|             3|           2|             4|          1|                1|            10|          3|       2|        1|             7|   5|          7|          2|          7|            4|             3|                1|              3|               5|                8|  21 to 35|  Male|                  652.4|\n",
            "|2015-07-17|             1|           2|             4|          6|                1|            10|          4|       0|        2|             5|   1|          5|          1|          6|            0|             1|                2|              8|               1|                2|  36 to 50|  Male|                  633.1|\n",
            "|2015-07-18|             5|           4|            10|          6|                5|            10|          7|       4|        1|             4|   4|         10|          1|          7|            0|             2|                2|              6|               4|                5|  36 to 50|  Male|                  712.5|\n",
            "|2015-07-18|             0|           5|             0|          2|                1|             2|          0|       5|        1|             0|   0|          1|          0|         10|            0|             2|                1|              1|               0|                0|  21 to 35|  Male|                  571.9|\n",
            "|2015-07-18|             0|           5|             0|          2|                1|             2|          1|       5|        1|             1|   0|          1|          0|         10|            0|             2|                1|              1|               0|                0|  21 to 35|  Male|                  575.3|\n",
            "+----------+--------------+------------+--------------+-----------+-----------------+--------------+-----------+--------+---------+--------------+----+-----------+-----------+-----------+-------------+--------------+-----------------+---------------+----------------+-----------------+----------+------+-----------------------+\n",
            "only showing top 20 rows\n",
            "\n"
          ]
        }
      ]
    },
    {
      "cell_type": "code",
      "source": [
        "from pyspark.sql.functions import col\n",
        "final_df = df.drop(col(\"GENDER\")).drop(col(\"DATE\"))\n",
        "final_df.show()"
      ],
      "metadata": {
        "colab": {
          "base_uri": "https://localhost:8080/"
        },
        "id": "cBv7eFmdF7p-",
        "outputId": "5df269d4-7e92-4c93-fac9-4c61bafac0b6"
      },
      "execution_count": 25,
      "outputs": [
        {
          "output_type": "stream",
          "name": "stdout",
          "text": [
            "+--------------+------------+--------------+-----------+-----------------+--------------+-----------+--------+---------+--------------+----+-----------+-----------+-----------+-------------+--------------+-----------------+---------------+----------------+-----------------+----------+-----------------------+\n",
            "|FRUITS_VEGGIES|DAILY_STRESS|PLACES_VISITED|CORE_CIRCLE|SUPPORTING_OTHERS|SOCIAL_NETWORK|ACHIEVEMENT|DONATION|BMI_RANGE|TODO_COMPLETED|FLOW|DAILY_STEPS|LIVE_VISION|SLEEP_HOURS|LOST_VACATION|DAILY_SHOUTING|SUFFICIENT_INCOME|PERSONAL_AWARDS|TIME_FOR_PASSION|WEEKLY_MEDITATION|       AGE|WORK_LIFE_BALANCE_SCORE|\n",
            "+--------------+------------+--------------+-----------+-----------------+--------------+-----------+--------+---------+--------------+----+-----------+-----------+-----------+-------------+--------------+-----------------+---------------+----------------+-----------------+----------+-----------------------+\n",
            "|             3|           2|             2|          5|                0|             5|          2|       0|        1|             6|   4|          5|          0|          7|            5|             5|                1|              4|               0|                5|  36 to 50|                  609.5|\n",
            "|             2|           3|             4|          3|                8|            10|          5|       2|        2|             5|   2|          5|          5|          8|            2|             2|                2|              3|               2|                6|  36 to 50|                  655.6|\n",
            "|             2|           3|             3|          4|                4|            10|          3|       2|        2|             2|   2|          4|          5|          8|           10|             2|                2|              4|               8|                3|  36 to 50|                  631.6|\n",
            "|             3|           3|            10|          3|               10|             7|          2|       5|        2|             3|   5|          5|          0|          5|            7|             5|                1|              5|               2|                0|51 or more|                  622.7|\n",
            "|             5|           1|             3|          3|               10|             4|          2|       4|        2|             5|   0|          5|          0|          7|            0|             0|                2|              8|               1|                5|51 or more|                  663.9|\n",
            "|             3|           2|             3|          9|               10|            10|          2|       3|        1|             6|   1|          7|         10|          8|            0|             2|                2|             10|               8|                3|51 or more|                  722.3|\n",
            "|             4|           2|            10|          6|               10|            10|          3|       5|        2|             8|   8|          7|          5|          7|           10|             0|                2|             10|               8|               10|51 or more|                  727.2|\n",
            "|             3|           4|             5|          3|                5|             7|          4|       0|        1|             8|   2|          8|         10|          6|            0|             2|                2|              8|               2|                2|  21 to 35|                  676.2|\n",
            "|             5|           3|             6|          4|                3|             3|          5|       4|        1|            10|   2|          1|          5|         10|            0|             2|                2|             10|               3|               10|  21 to 35|                  702.8|\n",
            "|             4|           4|             2|          6|               10|            10|          0|       4|        2|             3|   2|          3|          0|          6|            0|             0|                1|              3|               8|                1|51 or more|                  634.4|\n",
            "|             2|           4|             7|          7|                1|             1|          3|       0|        2|             2|   2|          7|          4|          8|            7|             3|                2|              3|               0|                6|  36 to 50|                  610.1|\n",
            "|             1|           4|             3|          8|                0|             2|          1|       0|        1|             2|   1|          8|          2|          7|            7|             1|                2|              4|               1|                7|  21 to 35|                  618.6|\n",
            "|             2|           2|            10|          5|                2|             8|          3|       4|        2|             7|   1|          6|         10|          8|            0|             0|                2|              5|               2|                7|  21 to 35|                  686.4|\n",
            "|             5|           3|             0|          3|                6|             6|          6|       3|        1|             8|   7|          7|          2|          6|            0|             3|                2|              5|               6|                5|  36 to 50|                  689.6|\n",
            "|             3|           3|             2|          3|                7|             5|          3|       2|        1|             8|   0|          2|          5|          8|            3|             2|                1|              4|               5|                4|  21 to 35|                  639.7|\n",
            "|             3|           3|             5|          4|               10|            10|          2|       5|        1|             7|   2|          8|         10|          6|            1|             2|                2|              8|               3|               10|51 or more|                  720.4|\n",
            "|             4|           2|            10|          4|                6|            10|          4|       0|        1|             8|   2|          1|          1|          8|            1|             1|                2|              3|               3|                3|  21 to 35|                  673.5|\n",
            "|             4|           2|            10|         10|                5|            10|          0|       1|        1|             7|   1|         10|          2|          8|            0|             3|                2|              4|               8|                6|  21 to 35|                  707.6|\n",
            "|             5|           3|            10|          7|               10|             5|          6|       5|        1|             6|   2|          8|         10|          9|            0|             7|                2|              5|               4|                7|  36 to 50|                  727.8|\n",
            "|             3|           1|             6|         10|               10|             6|          3|       5|        2|             8|   4|          1|          5|          8|            0|             0|                2|              5|               1|                2|  36 to 50|                  687.1|\n",
            "+--------------+------------+--------------+-----------+-----------------+--------------+-----------+--------+---------+--------------+----+-----------+-----------+-----------+-------------+--------------+-----------------+---------------+----------------+-----------------+----------+-----------------------+\n",
            "only showing top 20 rows\n",
            "\n"
          ]
        }
      ]
    },
    {
      "cell_type": "code",
      "source": [
        "import pandas as pd\n",
        "pandas_df = final_df.toPandas()"
      ],
      "metadata": {
        "id": "rBrZraSJesqU"
      },
      "execution_count": 26,
      "outputs": []
    },
    {
      "cell_type": "code",
      "source": [
        "pandas_df.head(10)"
      ],
      "metadata": {
        "colab": {
          "base_uri": "https://localhost:8080/",
          "height": 630
        },
        "id": "2QesrAPkfBHn",
        "outputId": "ccd717e0-eae0-4872-e47d-50943e9853ef"
      },
      "execution_count": 27,
      "outputs": [
        {
          "output_type": "execute_result",
          "data": {
            "text/plain": [
              "   FRUITS_VEGGIES DAILY_STRESS  PLACES_VISITED  CORE_CIRCLE  \\\n",
              "0               3            2               2            5   \n",
              "1               2            3               4            3   \n",
              "2               2            3               3            4   \n",
              "3               3            3              10            3   \n",
              "4               5            1               3            3   \n",
              "5               3            2               3            9   \n",
              "6               4            2              10            6   \n",
              "7               3            4               5            3   \n",
              "8               5            3               6            4   \n",
              "9               4            4               2            6   \n",
              "\n",
              "   SUPPORTING_OTHERS  SOCIAL_NETWORK  ACHIEVEMENT  DONATION  BMI_RANGE  \\\n",
              "0                  0               5            2         0          1   \n",
              "1                  8              10            5         2          2   \n",
              "2                  4              10            3         2          2   \n",
              "3                 10               7            2         5          2   \n",
              "4                 10               4            2         4          2   \n",
              "5                 10              10            2         3          1   \n",
              "6                 10              10            3         5          2   \n",
              "7                  5               7            4         0          1   \n",
              "8                  3               3            5         4          1   \n",
              "9                 10              10            0         4          2   \n",
              "\n",
              "   TODO_COMPLETED  ...  LIVE_VISION  SLEEP_HOURS  LOST_VACATION  \\\n",
              "0               6  ...            0            7              5   \n",
              "1               5  ...            5            8              2   \n",
              "2               2  ...            5            8             10   \n",
              "3               3  ...            0            5              7   \n",
              "4               5  ...            0            7              0   \n",
              "5               6  ...           10            8              0   \n",
              "6               8  ...            5            7             10   \n",
              "7               8  ...           10            6              0   \n",
              "8              10  ...            5           10              0   \n",
              "9               3  ...            0            6              0   \n",
              "\n",
              "   DAILY_SHOUTING  SUFFICIENT_INCOME  PERSONAL_AWARDS  TIME_FOR_PASSION  \\\n",
              "0               5                  1                4                 0   \n",
              "1               2                  2                3                 2   \n",
              "2               2                  2                4                 8   \n",
              "3               5                  1                5                 2   \n",
              "4               0                  2                8                 1   \n",
              "5               2                  2               10                 8   \n",
              "6               0                  2               10                 8   \n",
              "7               2                  2                8                 2   \n",
              "8               2                  2               10                 3   \n",
              "9               0                  1                3                 8   \n",
              "\n",
              "   WEEKLY_MEDITATION         AGE  WORK_LIFE_BALANCE_SCORE  \n",
              "0                  5    36 to 50                    609.5  \n",
              "1                  6    36 to 50                    655.6  \n",
              "2                  3    36 to 50                    631.6  \n",
              "3                  0  51 or more                    622.7  \n",
              "4                  5  51 or more                    663.9  \n",
              "5                  3  51 or more                    722.3  \n",
              "6                 10  51 or more                    727.2  \n",
              "7                  2    21 to 35                    676.2  \n",
              "8                 10    21 to 35                    702.8  \n",
              "9                  1  51 or more                    634.4  \n",
              "\n",
              "[10 rows x 22 columns]"
            ],
            "text/html": [
              "\n",
              "  <div id=\"df-030d13bd-4451-4fc5-82a5-c54782648e1f\">\n",
              "    <div class=\"colab-df-container\">\n",
              "      <div>\n",
              "<style scoped>\n",
              "    .dataframe tbody tr th:only-of-type {\n",
              "        vertical-align: middle;\n",
              "    }\n",
              "\n",
              "    .dataframe tbody tr th {\n",
              "        vertical-align: top;\n",
              "    }\n",
              "\n",
              "    .dataframe thead th {\n",
              "        text-align: right;\n",
              "    }\n",
              "</style>\n",
              "<table border=\"1\" class=\"dataframe\">\n",
              "  <thead>\n",
              "    <tr style=\"text-align: right;\">\n",
              "      <th></th>\n",
              "      <th>FRUITS_VEGGIES</th>\n",
              "      <th>DAILY_STRESS</th>\n",
              "      <th>PLACES_VISITED</th>\n",
              "      <th>CORE_CIRCLE</th>\n",
              "      <th>SUPPORTING_OTHERS</th>\n",
              "      <th>SOCIAL_NETWORK</th>\n",
              "      <th>ACHIEVEMENT</th>\n",
              "      <th>DONATION</th>\n",
              "      <th>BMI_RANGE</th>\n",
              "      <th>TODO_COMPLETED</th>\n",
              "      <th>...</th>\n",
              "      <th>LIVE_VISION</th>\n",
              "      <th>SLEEP_HOURS</th>\n",
              "      <th>LOST_VACATION</th>\n",
              "      <th>DAILY_SHOUTING</th>\n",
              "      <th>SUFFICIENT_INCOME</th>\n",
              "      <th>PERSONAL_AWARDS</th>\n",
              "      <th>TIME_FOR_PASSION</th>\n",
              "      <th>WEEKLY_MEDITATION</th>\n",
              "      <th>AGE</th>\n",
              "      <th>WORK_LIFE_BALANCE_SCORE</th>\n",
              "    </tr>\n",
              "  </thead>\n",
              "  <tbody>\n",
              "    <tr>\n",
              "      <th>0</th>\n",
              "      <td>3</td>\n",
              "      <td>2</td>\n",
              "      <td>2</td>\n",
              "      <td>5</td>\n",
              "      <td>0</td>\n",
              "      <td>5</td>\n",
              "      <td>2</td>\n",
              "      <td>0</td>\n",
              "      <td>1</td>\n",
              "      <td>6</td>\n",
              "      <td>...</td>\n",
              "      <td>0</td>\n",
              "      <td>7</td>\n",
              "      <td>5</td>\n",
              "      <td>5</td>\n",
              "      <td>1</td>\n",
              "      <td>4</td>\n",
              "      <td>0</td>\n",
              "      <td>5</td>\n",
              "      <td>36 to 50</td>\n",
              "      <td>609.5</td>\n",
              "    </tr>\n",
              "    <tr>\n",
              "      <th>1</th>\n",
              "      <td>2</td>\n",
              "      <td>3</td>\n",
              "      <td>4</td>\n",
              "      <td>3</td>\n",
              "      <td>8</td>\n",
              "      <td>10</td>\n",
              "      <td>5</td>\n",
              "      <td>2</td>\n",
              "      <td>2</td>\n",
              "      <td>5</td>\n",
              "      <td>...</td>\n",
              "      <td>5</td>\n",
              "      <td>8</td>\n",
              "      <td>2</td>\n",
              "      <td>2</td>\n",
              "      <td>2</td>\n",
              "      <td>3</td>\n",
              "      <td>2</td>\n",
              "      <td>6</td>\n",
              "      <td>36 to 50</td>\n",
              "      <td>655.6</td>\n",
              "    </tr>\n",
              "    <tr>\n",
              "      <th>2</th>\n",
              "      <td>2</td>\n",
              "      <td>3</td>\n",
              "      <td>3</td>\n",
              "      <td>4</td>\n",
              "      <td>4</td>\n",
              "      <td>10</td>\n",
              "      <td>3</td>\n",
              "      <td>2</td>\n",
              "      <td>2</td>\n",
              "      <td>2</td>\n",
              "      <td>...</td>\n",
              "      <td>5</td>\n",
              "      <td>8</td>\n",
              "      <td>10</td>\n",
              "      <td>2</td>\n",
              "      <td>2</td>\n",
              "      <td>4</td>\n",
              "      <td>8</td>\n",
              "      <td>3</td>\n",
              "      <td>36 to 50</td>\n",
              "      <td>631.6</td>\n",
              "    </tr>\n",
              "    <tr>\n",
              "      <th>3</th>\n",
              "      <td>3</td>\n",
              "      <td>3</td>\n",
              "      <td>10</td>\n",
              "      <td>3</td>\n",
              "      <td>10</td>\n",
              "      <td>7</td>\n",
              "      <td>2</td>\n",
              "      <td>5</td>\n",
              "      <td>2</td>\n",
              "      <td>3</td>\n",
              "      <td>...</td>\n",
              "      <td>0</td>\n",
              "      <td>5</td>\n",
              "      <td>7</td>\n",
              "      <td>5</td>\n",
              "      <td>1</td>\n",
              "      <td>5</td>\n",
              "      <td>2</td>\n",
              "      <td>0</td>\n",
              "      <td>51 or more</td>\n",
              "      <td>622.7</td>\n",
              "    </tr>\n",
              "    <tr>\n",
              "      <th>4</th>\n",
              "      <td>5</td>\n",
              "      <td>1</td>\n",
              "      <td>3</td>\n",
              "      <td>3</td>\n",
              "      <td>10</td>\n",
              "      <td>4</td>\n",
              "      <td>2</td>\n",
              "      <td>4</td>\n",
              "      <td>2</td>\n",
              "      <td>5</td>\n",
              "      <td>...</td>\n",
              "      <td>0</td>\n",
              "      <td>7</td>\n",
              "      <td>0</td>\n",
              "      <td>0</td>\n",
              "      <td>2</td>\n",
              "      <td>8</td>\n",
              "      <td>1</td>\n",
              "      <td>5</td>\n",
              "      <td>51 or more</td>\n",
              "      <td>663.9</td>\n",
              "    </tr>\n",
              "    <tr>\n",
              "      <th>5</th>\n",
              "      <td>3</td>\n",
              "      <td>2</td>\n",
              "      <td>3</td>\n",
              "      <td>9</td>\n",
              "      <td>10</td>\n",
              "      <td>10</td>\n",
              "      <td>2</td>\n",
              "      <td>3</td>\n",
              "      <td>1</td>\n",
              "      <td>6</td>\n",
              "      <td>...</td>\n",
              "      <td>10</td>\n",
              "      <td>8</td>\n",
              "      <td>0</td>\n",
              "      <td>2</td>\n",
              "      <td>2</td>\n",
              "      <td>10</td>\n",
              "      <td>8</td>\n",
              "      <td>3</td>\n",
              "      <td>51 or more</td>\n",
              "      <td>722.3</td>\n",
              "    </tr>\n",
              "    <tr>\n",
              "      <th>6</th>\n",
              "      <td>4</td>\n",
              "      <td>2</td>\n",
              "      <td>10</td>\n",
              "      <td>6</td>\n",
              "      <td>10</td>\n",
              "      <td>10</td>\n",
              "      <td>3</td>\n",
              "      <td>5</td>\n",
              "      <td>2</td>\n",
              "      <td>8</td>\n",
              "      <td>...</td>\n",
              "      <td>5</td>\n",
              "      <td>7</td>\n",
              "      <td>10</td>\n",
              "      <td>0</td>\n",
              "      <td>2</td>\n",
              "      <td>10</td>\n",
              "      <td>8</td>\n",
              "      <td>10</td>\n",
              "      <td>51 or more</td>\n",
              "      <td>727.2</td>\n",
              "    </tr>\n",
              "    <tr>\n",
              "      <th>7</th>\n",
              "      <td>3</td>\n",
              "      <td>4</td>\n",
              "      <td>5</td>\n",
              "      <td>3</td>\n",
              "      <td>5</td>\n",
              "      <td>7</td>\n",
              "      <td>4</td>\n",
              "      <td>0</td>\n",
              "      <td>1</td>\n",
              "      <td>8</td>\n",
              "      <td>...</td>\n",
              "      <td>10</td>\n",
              "      <td>6</td>\n",
              "      <td>0</td>\n",
              "      <td>2</td>\n",
              "      <td>2</td>\n",
              "      <td>8</td>\n",
              "      <td>2</td>\n",
              "      <td>2</td>\n",
              "      <td>21 to 35</td>\n",
              "      <td>676.2</td>\n",
              "    </tr>\n",
              "    <tr>\n",
              "      <th>8</th>\n",
              "      <td>5</td>\n",
              "      <td>3</td>\n",
              "      <td>6</td>\n",
              "      <td>4</td>\n",
              "      <td>3</td>\n",
              "      <td>3</td>\n",
              "      <td>5</td>\n",
              "      <td>4</td>\n",
              "      <td>1</td>\n",
              "      <td>10</td>\n",
              "      <td>...</td>\n",
              "      <td>5</td>\n",
              "      <td>10</td>\n",
              "      <td>0</td>\n",
              "      <td>2</td>\n",
              "      <td>2</td>\n",
              "      <td>10</td>\n",
              "      <td>3</td>\n",
              "      <td>10</td>\n",
              "      <td>21 to 35</td>\n",
              "      <td>702.8</td>\n",
              "    </tr>\n",
              "    <tr>\n",
              "      <th>9</th>\n",
              "      <td>4</td>\n",
              "      <td>4</td>\n",
              "      <td>2</td>\n",
              "      <td>6</td>\n",
              "      <td>10</td>\n",
              "      <td>10</td>\n",
              "      <td>0</td>\n",
              "      <td>4</td>\n",
              "      <td>2</td>\n",
              "      <td>3</td>\n",
              "      <td>...</td>\n",
              "      <td>0</td>\n",
              "      <td>6</td>\n",
              "      <td>0</td>\n",
              "      <td>0</td>\n",
              "      <td>1</td>\n",
              "      <td>3</td>\n",
              "      <td>8</td>\n",
              "      <td>1</td>\n",
              "      <td>51 or more</td>\n",
              "      <td>634.4</td>\n",
              "    </tr>\n",
              "  </tbody>\n",
              "</table>\n",
              "<p>10 rows × 22 columns</p>\n",
              "</div>\n",
              "      <button class=\"colab-df-convert\" onclick=\"convertToInteractive('df-030d13bd-4451-4fc5-82a5-c54782648e1f')\"\n",
              "              title=\"Convert this dataframe to an interactive table.\"\n",
              "              style=\"display:none;\">\n",
              "        \n",
              "  <svg xmlns=\"http://www.w3.org/2000/svg\" height=\"24px\"viewBox=\"0 0 24 24\"\n",
              "       width=\"24px\">\n",
              "    <path d=\"M0 0h24v24H0V0z\" fill=\"none\"/>\n",
              "    <path d=\"M18.56 5.44l.94 2.06.94-2.06 2.06-.94-2.06-.94-.94-2.06-.94 2.06-2.06.94zm-11 1L8.5 8.5l.94-2.06 2.06-.94-2.06-.94L8.5 2.5l-.94 2.06-2.06.94zm10 10l.94 2.06.94-2.06 2.06-.94-2.06-.94-.94-2.06-.94 2.06-2.06.94z\"/><path d=\"M17.41 7.96l-1.37-1.37c-.4-.4-.92-.59-1.43-.59-.52 0-1.04.2-1.43.59L10.3 9.45l-7.72 7.72c-.78.78-.78 2.05 0 2.83L4 21.41c.39.39.9.59 1.41.59.51 0 1.02-.2 1.41-.59l7.78-7.78 2.81-2.81c.8-.78.8-2.07 0-2.86zM5.41 20L4 18.59l7.72-7.72 1.47 1.35L5.41 20z\"/>\n",
              "  </svg>\n",
              "      </button>\n",
              "      \n",
              "  <style>\n",
              "    .colab-df-container {\n",
              "      display:flex;\n",
              "      flex-wrap:wrap;\n",
              "      gap: 12px;\n",
              "    }\n",
              "\n",
              "    .colab-df-convert {\n",
              "      background-color: #E8F0FE;\n",
              "      border: none;\n",
              "      border-radius: 50%;\n",
              "      cursor: pointer;\n",
              "      display: none;\n",
              "      fill: #1967D2;\n",
              "      height: 32px;\n",
              "      padding: 0 0 0 0;\n",
              "      width: 32px;\n",
              "    }\n",
              "\n",
              "    .colab-df-convert:hover {\n",
              "      background-color: #E2EBFA;\n",
              "      box-shadow: 0px 1px 2px rgba(60, 64, 67, 0.3), 0px 1px 3px 1px rgba(60, 64, 67, 0.15);\n",
              "      fill: #174EA6;\n",
              "    }\n",
              "\n",
              "    [theme=dark] .colab-df-convert {\n",
              "      background-color: #3B4455;\n",
              "      fill: #D2E3FC;\n",
              "    }\n",
              "\n",
              "    [theme=dark] .colab-df-convert:hover {\n",
              "      background-color: #434B5C;\n",
              "      box-shadow: 0px 1px 3px 1px rgba(0, 0, 0, 0.15);\n",
              "      filter: drop-shadow(0px 1px 2px rgba(0, 0, 0, 0.3));\n",
              "      fill: #FFFFFF;\n",
              "    }\n",
              "  </style>\n",
              "\n",
              "      <script>\n",
              "        const buttonEl =\n",
              "          document.querySelector('#df-030d13bd-4451-4fc5-82a5-c54782648e1f button.colab-df-convert');\n",
              "        buttonEl.style.display =\n",
              "          google.colab.kernel.accessAllowed ? 'block' : 'none';\n",
              "\n",
              "        async function convertToInteractive(key) {\n",
              "          const element = document.querySelector('#df-030d13bd-4451-4fc5-82a5-c54782648e1f');\n",
              "          const dataTable =\n",
              "            await google.colab.kernel.invokeFunction('convertToInteractive',\n",
              "                                                     [key], {});\n",
              "          if (!dataTable) return;\n",
              "\n",
              "          const docLinkHtml = 'Like what you see? Visit the ' +\n",
              "            '<a target=\"_blank\" href=https://colab.research.google.com/notebooks/data_table.ipynb>data table notebook</a>'\n",
              "            + ' to learn more about interactive tables.';\n",
              "          element.innerHTML = '';\n",
              "          dataTable['output_type'] = 'display_data';\n",
              "          await google.colab.output.renderOutput(dataTable, element);\n",
              "          const docLink = document.createElement('div');\n",
              "          docLink.innerHTML = docLinkHtml;\n",
              "          element.appendChild(docLink);\n",
              "        }\n",
              "      </script>\n",
              "    </div>\n",
              "  </div>\n",
              "  "
            ]
          },
          "metadata": {},
          "execution_count": 27
        }
      ]
    },
    {
      "cell_type": "code",
      "source": [
        "# Configure settings for RDS\n",
        "mode = \"append\"\n",
        "jdbc_url=\"jdbc:postgresql://dabc-final-g5.cnjpfxvbwyqz.us-east-1.rds.amazonaws.com:5432/dabc-final-g5\"\n",
        "config = {\"user\":\"postgres\", \n",
        "          \"password\": \"DataAnalytics\", \n",
        "          \"driver\":\"org.postgresql.Driver\"}\n"
      ],
      "metadata": {
        "id": "21Hdv5nxjPil"
      },
      "execution_count": 28,
      "outputs": []
    },
    {
      "cell_type": "code",
      "source": [
        "# Write DataFrame to lifestyle_wellbeing table in RDS\n",
        "\n",
        "# data_df.write.jdbc(url=jdbc_url, table='active_user', mode=mode, properties=config)"
      ],
      "metadata": {
        "id": "epM98AyLju2j"
      },
      "execution_count": 29,
      "outputs": []
    }
  ]
}