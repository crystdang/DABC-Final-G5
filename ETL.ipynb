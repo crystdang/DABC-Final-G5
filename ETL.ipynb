{
  "nbformat": 4,
  "nbformat_minor": 0,
  "metadata": {
    "colab": {
      "provenance": [],
      "authorship_tag": "ABX9TyPke8PP1d/ku9fgCFbDs+oc",
      "include_colab_link": true
    },
    "kernelspec": {
      "name": "python3",
      "display_name": "Python 3"
    },
    "language_info": {
      "name": "python"
    }
  },
  "cells": [
    {
      "cell_type": "markdown",
      "metadata": {
        "id": "view-in-github",
        "colab_type": "text"
      },
      "source": [
        "<a href=\"https://colab.research.google.com/github/crystdang/DABC-Final-G5/blob/Crystina/ETL.ipynb\" target=\"_parent\"><img src=\"https://colab.research.google.com/assets/colab-badge.svg\" alt=\"Open In Colab\"/></a>"
      ]
    },
    {
      "cell_type": "code",
      "source": [
        "pip install pyspark"
      ],
      "metadata": {
        "colab": {
          "base_uri": "https://localhost:8080/"
        },
        "id": "M2IukqFOpKqF",
        "outputId": "e20c5d0e-3d7d-48c6-fa50-2b81dcde8828"
      },
      "execution_count": 1,
      "outputs": [
        {
          "output_type": "stream",
          "name": "stdout",
          "text": [
            "Looking in indexes: https://pypi.org/simple, https://us-python.pkg.dev/colab-wheels/public/simple/\n",
            "Collecting pyspark\n",
            "  Downloading pyspark-3.3.1.tar.gz (281.4 MB)\n",
            "\u001b[2K     \u001b[90m━━━━━━━━━━━━━━━━━━━━━━━━━━━━━━━━━━━━━━━\u001b[0m \u001b[32m281.4/281.4 MB\u001b[0m \u001b[31m3.7 MB/s\u001b[0m eta \u001b[36m0:00:00\u001b[0m\n",
            "\u001b[?25h  Preparing metadata (setup.py) ... \u001b[?25l\u001b[?25hdone\n",
            "Collecting py4j==0.10.9.5\n",
            "  Downloading py4j-0.10.9.5-py2.py3-none-any.whl (199 kB)\n",
            "\u001b[2K     \u001b[90m━━━━━━━━━━━━━━━━━━━━━━━━━━━━━━━━━━━━━━\u001b[0m \u001b[32m199.7/199.7 KB\u001b[0m \u001b[31m13.8 MB/s\u001b[0m eta \u001b[36m0:00:00\u001b[0m\n",
            "\u001b[?25hBuilding wheels for collected packages: pyspark\n",
            "  Building wheel for pyspark (setup.py) ... \u001b[?25l\u001b[?25hdone\n",
            "  Created wheel for pyspark: filename=pyspark-3.3.1-py2.py3-none-any.whl size=281845512 sha256=111dadd9a1adf9951ed7b859754bea5a2e7055e4091a9e55b6280ab33150fd32\n",
            "  Stored in directory: /root/.cache/pip/wheels/43/dc/11/ec201cd671da62fa9c5cc77078235e40722170ceba231d7598\n",
            "Successfully built pyspark\n",
            "Installing collected packages: py4j, pyspark\n",
            "Successfully installed py4j-0.10.9.5 pyspark-3.3.1\n"
          ]
        }
      ]
    },
    {
      "cell_type": "code",
      "source": [
        "!wget https://jdbc.postgresql.org/download/postgresql-42.2.16.jar"
      ],
      "metadata": {
        "colab": {
          "base_uri": "https://localhost:8080/"
        },
        "id": "R2lWKDLtpQbr",
        "outputId": "3f9b53cb-9d67-4c84-9d71-3e1b9ec5668d"
      },
      "execution_count": 2,
      "outputs": [
        {
          "output_type": "stream",
          "name": "stdout",
          "text": [
            "--2023-01-25 23:10:54--  https://jdbc.postgresql.org/download/postgresql-42.2.16.jar\n",
            "Resolving jdbc.postgresql.org (jdbc.postgresql.org)... 72.32.157.228, 2001:4800:3e1:1::228\n",
            "Connecting to jdbc.postgresql.org (jdbc.postgresql.org)|72.32.157.228|:443... connected.\n",
            "HTTP request sent, awaiting response... 200 OK\n",
            "Length: 1002883 (979K) [application/java-archive]\n",
            "Saving to: ‘postgresql-42.2.16.jar’\n",
            "\n",
            "postgresql-42.2.16. 100%[===================>] 979.38K  5.97MB/s    in 0.2s    \n",
            "\n",
            "2023-01-25 23:10:55 (5.97 MB/s) - ‘postgresql-42.2.16.jar’ saved [1002883/1002883]\n",
            "\n"
          ]
        }
      ]
    },
    {
      "cell_type": "code",
      "source": [
        "from pyspark.sql import SparkSession\n",
        "spark = SparkSession.builder.appName(\"CloudETL\").config(\"spark.driver.extraClassPath\",\"/content/postgresql-42.2.16.jar\").getOrCreate()"
      ],
      "metadata": {
        "id": "FVMCJc_bpSRR"
      },
      "execution_count": 3,
      "outputs": []
    },
    {
      "cell_type": "code",
      "source": [
        "# Read in data from S3 Buckets\n",
        "from pyspark import SparkFiles\n",
        "url = \"https://uoft-dabc-final-g5.s3.us-east-2.amazonaws.com/Wellbeing_and_lifestyle_data_Kaggle.csv\"\n",
        "spark.sparkContext.addFile(url)\n",
        "data_df = spark.read.csv(SparkFiles.get(\"Wellbeing_and_lifestyle_data_Kaggle.csv\"), sep=\",\", header=True, inferSchema=True)"
      ],
      "metadata": {
        "id": "uX6eo2FRpUVc"
      },
      "execution_count": 4,
      "outputs": []
    },
    {
      "cell_type": "code",
      "source": [
        "data_df.show()"
      ],
      "metadata": {
        "id": "Q-5YLo_PpqU_",
        "colab": {
          "base_uri": "https://localhost:8080/"
        },
        "outputId": "e3d28eba-7b32-4bbb-d157-b3bf658da23f"
      },
      "execution_count": 5,
      "outputs": [
        {
          "output_type": "stream",
          "name": "stdout",
          "text": [
            "+---------+--------------+------------+--------------+-----------+-----------------+--------------+-----------+--------+---------+--------------+----+-----------+-----------+-----------+-------------+--------------+-----------------+---------------+----------------+-----------------+----------+------+-----------------------+\n",
            "|Timestamp|FRUITS_VEGGIES|DAILY_STRESS|PLACES_VISITED|CORE_CIRCLE|SUPPORTING_OTHERS|SOCIAL_NETWORK|ACHIEVEMENT|DONATION|BMI_RANGE|TODO_COMPLETED|FLOW|DAILY_STEPS|LIVE_VISION|SLEEP_HOURS|LOST_VACATION|DAILY_SHOUTING|SUFFICIENT_INCOME|PERSONAL_AWARDS|TIME_FOR_PASSION|WEEKLY_MEDITATION|       AGE|GENDER|WORK_LIFE_BALANCE_SCORE|\n",
            "+---------+--------------+------------+--------------+-----------+-----------------+--------------+-----------+--------+---------+--------------+----+-----------+-----------+-----------+-------------+--------------+-----------------+---------------+----------------+-----------------+----------+------+-----------------------+\n",
            "|   7/7/15|             3|           2|             2|          5|                0|             5|          2|       0|        1|             6|   4|          5|          0|          7|            5|             5|                1|              4|               0|                5|  36 to 50|Female|                  609.5|\n",
            "|   7/7/15|             2|           3|             4|          3|                8|            10|          5|       2|        2|             5|   2|          5|          5|          8|            2|             2|                2|              3|               2|                6|  36 to 50|Female|                  655.6|\n",
            "|   7/7/15|             2|           3|             3|          4|                4|            10|          3|       2|        2|             2|   2|          4|          5|          8|           10|             2|                2|              4|               8|                3|  36 to 50|Female|                  631.6|\n",
            "|   7/7/15|             3|           3|            10|          3|               10|             7|          2|       5|        2|             3|   5|          5|          0|          5|            7|             5|                1|              5|               2|                0|51 or more|Female|                  622.7|\n",
            "|   7/7/15|             5|           1|             3|          3|               10|             4|          2|       4|        2|             5|   0|          5|          0|          7|            0|             0|                2|              8|               1|                5|51 or more|Female|                  663.9|\n",
            "|   7/8/15|             3|           2|             3|          9|               10|            10|          2|       3|        1|             6|   1|          7|         10|          8|            0|             2|                2|             10|               8|                3|51 or more|Female|                  722.3|\n",
            "|   7/8/15|             4|           2|            10|          6|               10|            10|          3|       5|        2|             8|   8|          7|          5|          7|           10|             0|                2|             10|               8|               10|51 or more|  Male|                  727.2|\n",
            "|   7/9/15|             3|           4|             5|          3|                5|             7|          4|       0|        1|             8|   2|          8|         10|          6|            0|             2|                2|              8|               2|                2|  21 to 35|Female|                  676.2|\n",
            "|   7/9/15|             5|           3|             6|          4|                3|             3|          5|       4|        1|            10|   2|          1|          5|         10|            0|             2|                2|             10|               3|               10|  21 to 35|Female|                  702.8|\n",
            "|  7/10/15|             4|           4|             2|          6|               10|            10|          0|       4|        2|             3|   2|          3|          0|          6|            0|             0|                1|              3|               8|                1|51 or more|Female|                  634.4|\n",
            "|  7/10/15|             2|           4|             7|          7|                1|             1|          3|       0|        2|             2|   2|          7|          4|          8|            7|             3|                2|              3|               0|                6|  36 to 50|Female|                  610.1|\n",
            "|  7/12/15|             1|           4|             3|          8|                0|             2|          1|       0|        1|             2|   1|          8|          2|          7|            7|             1|                2|              4|               1|                7|  21 to 35|  Male|                  618.6|\n",
            "|  7/12/15|             2|           2|            10|          5|                2|             8|          3|       4|        2|             7|   1|          6|         10|          8|            0|             0|                2|              5|               2|                7|  21 to 35|  Male|                  686.4|\n",
            "|  7/12/15|             5|           3|             0|          3|                6|             6|          6|       3|        1|             8|   7|          7|          2|          6|            0|             3|                2|              5|               6|                5|  36 to 50|Female|                  689.6|\n",
            "|  7/12/15|             3|           3|             2|          3|                7|             5|          3|       2|        1|             8|   0|          2|          5|          8|            3|             2|                1|              4|               5|                4|  21 to 35|Female|                  639.7|\n",
            "|  7/12/15|             3|           3|             5|          4|               10|            10|          2|       5|        1|             7|   2|          8|         10|          6|            1|             2|                2|              8|               3|               10|51 or more|Female|                  720.4|\n",
            "|  7/12/15|             4|           2|            10|          4|                6|            10|          4|       0|        1|             8|   2|          1|          1|          8|            1|             1|                2|              3|               3|                3|  21 to 35|  Male|                  673.5|\n",
            "|  7/12/15|             4|           2|            10|         10|                5|            10|          0|       1|        1|             7|   1|         10|          2|          8|            0|             3|                2|              4|               8|                6|  21 to 35|  Male|                  707.6|\n",
            "|  7/12/15|             5|           3|            10|          7|               10|             5|          6|       5|        1|             6|   2|          8|         10|          9|            0|             7|                2|              5|               4|                7|  36 to 50|Female|                  727.8|\n",
            "|  7/13/15|             3|           1|             6|         10|               10|             6|          3|       5|        2|             8|   4|          1|          5|          8|            0|             0|                2|              5|               1|                2|  36 to 50|  Male|                  687.1|\n",
            "+---------+--------------+------------+--------------+-----------+-----------------+--------------+-----------+--------+---------+--------------+----+-----------+-----------+-----------+-------------+--------------+-----------------+---------------+----------------+-----------------+----------+------+-----------------------+\n",
            "only showing top 20 rows\n",
            "\n"
          ]
        }
      ]
    },
    {
      "cell_type": "code",
      "source": [
        "# Configure settings for RDS\n",
        "mode = \"append\"\n",
        "jdbc_url=\"jdbc:postgresql://dabc-final-g5.cnjpfxvbwyqz.us-east-1.rds.amazonaws.com:5432/postgres\"\n",
        "config = {\"user\":\"postgres\", \n",
        "          \"password\": \"DataAnalytics\", \n",
        "          \"driver\":\"org.postgresql.Driver\"}"
      ],
      "metadata": {
        "id": "0VV8nmXG0kXX"
      },
      "execution_count": null,
      "outputs": []
    },
    {
      "cell_type": "code",
      "source": [
        "# Write staging DataFrame to STG_WL table in RDS\n",
        "\n",
        "data_df.write.jdbc(url=jdbc_url, table='STG_WL', mode=mode, properties=config)"
      ],
      "metadata": {
        "id": "NzU7maSh0o5r"
      },
      "execution_count": null,
      "outputs": []
    },
    {
      "cell_type": "code",
      "source": [
        "data_df.columns"
      ],
      "metadata": {
        "colab": {
          "base_uri": "https://localhost:8080/"
        },
        "id": "KTUX5CdZcGPy",
        "outputId": "1944e121-ff23-487f-b86b-312798edd926"
      },
      "execution_count": 6,
      "outputs": [
        {
          "output_type": "execute_result",
          "data": {
            "text/plain": [
              "['Timestamp',\n",
              " 'FRUITS_VEGGIES',\n",
              " 'DAILY_STRESS',\n",
              " 'PLACES_VISITED',\n",
              " 'CORE_CIRCLE',\n",
              " 'SUPPORTING_OTHERS',\n",
              " 'SOCIAL_NETWORK',\n",
              " 'ACHIEVEMENT',\n",
              " 'DONATION',\n",
              " 'BMI_RANGE',\n",
              " 'TODO_COMPLETED',\n",
              " 'FLOW',\n",
              " 'DAILY_STEPS',\n",
              " 'LIVE_VISION',\n",
              " 'SLEEP_HOURS',\n",
              " 'LOST_VACATION',\n",
              " 'DAILY_SHOUTING',\n",
              " 'SUFFICIENT_INCOME',\n",
              " 'PERSONAL_AWARDS',\n",
              " 'TIME_FOR_PASSION',\n",
              " 'WEEKLY_MEDITATION',\n",
              " 'AGE',\n",
              " 'GENDER',\n",
              " 'WORK_LIFE_BALANCE_SCORE']"
            ]
          },
          "metadata": {},
          "execution_count": 6
        }
      ]
    },
    {
      "cell_type": "code",
      "source": [
        "data_df.printSchema()\n",
        "# Timestamp and DAILY_STRESS to be converted"
      ],
      "metadata": {
        "colab": {
          "base_uri": "https://localhost:8080/"
        },
        "id": "0PNUrv4pb0z1",
        "outputId": "4b30638b-01c3-4f6f-a849-d9cba895109b"
      },
      "execution_count": 7,
      "outputs": [
        {
          "output_type": "stream",
          "name": "stdout",
          "text": [
            "root\n",
            " |-- Timestamp: string (nullable = true)\n",
            " |-- FRUITS_VEGGIES: integer (nullable = true)\n",
            " |-- DAILY_STRESS: string (nullable = true)\n",
            " |-- PLACES_VISITED: integer (nullable = true)\n",
            " |-- CORE_CIRCLE: integer (nullable = true)\n",
            " |-- SUPPORTING_OTHERS: integer (nullable = true)\n",
            " |-- SOCIAL_NETWORK: integer (nullable = true)\n",
            " |-- ACHIEVEMENT: integer (nullable = true)\n",
            " |-- DONATION: integer (nullable = true)\n",
            " |-- BMI_RANGE: integer (nullable = true)\n",
            " |-- TODO_COMPLETED: integer (nullable = true)\n",
            " |-- FLOW: integer (nullable = true)\n",
            " |-- DAILY_STEPS: integer (nullable = true)\n",
            " |-- LIVE_VISION: integer (nullable = true)\n",
            " |-- SLEEP_HOURS: integer (nullable = true)\n",
            " |-- LOST_VACATION: integer (nullable = true)\n",
            " |-- DAILY_SHOUTING: integer (nullable = true)\n",
            " |-- SUFFICIENT_INCOME: integer (nullable = true)\n",
            " |-- PERSONAL_AWARDS: integer (nullable = true)\n",
            " |-- TIME_FOR_PASSION: integer (nullable = true)\n",
            " |-- WEEKLY_MEDITATION: integer (nullable = true)\n",
            " |-- AGE: string (nullable = true)\n",
            " |-- GENDER: string (nullable = true)\n",
            " |-- WORK_LIFE_BALANCE_SCORE: double (nullable = true)\n",
            "\n"
          ]
        }
      ]
    },
    {
      "cell_type": "code",
      "source": [
        "data_df.describe().show()\n",
        "# no null values"
      ],
      "metadata": {
        "colab": {
          "base_uri": "https://localhost:8080/"
        },
        "id": "idK5n59afD1j",
        "outputId": "cb7c9bc2-d88f-4722-daae-d5c20e1151e1"
      },
      "execution_count": 8,
      "outputs": [
        {
          "output_type": "stream",
          "name": "stdout",
          "text": [
            "+-------+-----------+------------------+------------------+------------------+------------------+-----------------+-----------------+------------------+------------------+------------------+-----------------+------------------+------------------+-----------------+------------------+------------------+------------------+-------------------+------------------+------------------+-----------------+------------+------+-----------------------+\n",
            "|summary|  Timestamp|    FRUITS_VEGGIES|      DAILY_STRESS|    PLACES_VISITED|       CORE_CIRCLE|SUPPORTING_OTHERS|   SOCIAL_NETWORK|       ACHIEVEMENT|          DONATION|         BMI_RANGE|   TODO_COMPLETED|              FLOW|       DAILY_STEPS|      LIVE_VISION|       SLEEP_HOURS|     LOST_VACATION|    DAILY_SHOUTING|  SUFFICIENT_INCOME|   PERSONAL_AWARDS|  TIME_FOR_PASSION|WEEKLY_MEDITATION|         AGE|GENDER|WORK_LIFE_BALANCE_SCORE|\n",
            "+-------+-----------+------------------+------------------+------------------+------------------+-----------------+-----------------+------------------+------------------+------------------+-----------------+------------------+------------------+-----------------+------------------+------------------+------------------+-------------------+------------------+------------------+-----------------+------------+------+-----------------------+\n",
            "|  count|      15972|             15972|             15972|             15972|             15972|            15972|            15972|             15972|             15972|             15972|            15972|             15972|             15972|            15972|             15972|             15972|             15972|              15972|             15972|             15972|            15972|       15972| 15972|                  15972|\n",
            "|   mean|       null| 2.922677185073879|2.7916849289336922| 5.232970197846231| 5.508076634109692|5.616453794139745|6.474267468069121| 4.000751314800902|2.7153143000250437| 1.410656148259454|5.745992987728525| 3.194778362133734| 5.703606311044328|3.752128725269221| 7.042887553218132| 2.898885549711996| 2.930879038317055| 1.7289631855747558| 5.711557726020536| 3.326571500125219|6.233345855246681|        null|  null|      666.7515026296032|\n",
            "| stddev|       null|1.4426942233979019|1.3678007467520352|3.3119123254937324|2.8403335572271833|3.242021034924002|3.086672183956178|2.7558373901607927| 1.851586429915072|0.4919683218732375|2.624097276447961|2.3575175409623665|2.8910125056198486|3.230986852229526|1.1990442948306186|3.6921795194479654|2.6763011497421796|0.44450897692281643|3.0896295789391575|2.7292927791428534|3.016571018122333|        null|  null|     45.019868198234136|\n",
            "|    min|     1/1/16|                 0|                 0|                 0|                 0|                0|                0|                 0|                 0|                 1|                0|                 0|                 1|                0|                 1|                 0|                 0|                  1|                 0|                 0|                0|    21 to 35|Female|                  480.0|\n",
            "|    max|9/9/20 8:10|                 5|                 5|                10|                10|               10|               10|                10|                 5|                 2|               10|                10|                10|               10|                10|                10|                10|                  2|                10|                10|               10|Less than 20|  Male|                  820.2|\n",
            "+-------+-----------+------------------+------------------+------------------+------------------+-----------------+-----------------+------------------+------------------+------------------+-----------------+------------------+------------------+-----------------+------------------+------------------+------------------+-------------------+------------------+------------------+-----------------+------------+------+-----------------------+\n",
            "\n"
          ]
        }
      ]
    },
    {
      "cell_type": "code",
      "source": [
        "# string type, confirm that it can be converted to date type\n",
        "data_df.groupBy(\"Timestamp\").count().show()"
      ],
      "metadata": {
        "colab": {
          "base_uri": "https://localhost:8080/"
        },
        "id": "S206d7-bnhK0",
        "outputId": "734d3719-1444-4349-9a09-42c1815f460d"
      },
      "execution_count": 9,
      "outputs": [
        {
          "output_type": "stream",
          "name": "stdout",
          "text": [
            "+-------------+-----+\n",
            "|    Timestamp|count|\n",
            "+-------------+-----+\n",
            "|      9/29/15|   12|\n",
            "|      1/22/16|    6|\n",
            "|      10/4/17|   19|\n",
            "|      7/15/18|    7|\n",
            "|1/30/19 12:29|    1|\n",
            "|2/26/19 15:43|    1|\n",
            "| 3/14/19 6:15|    1|\n",
            "| 4/20/19 3:51|    1|\n",
            "| 4/25/19 8:04|    1|\n",
            "|5/12/19 13:18|    1|\n",
            "| 5/22/19 2:24|    1|\n",
            "|5/26/19 13:40|    1|\n",
            "|7/25/19 17:41|    1|\n",
            "| 8/31/19 4:08|    1|\n",
            "|9/20/19 17:42|    1|\n",
            "| 11/3/19 7:45|    1|\n",
            "|11/7/19 20:27|    1|\n",
            "|11/9/19 17:44|    1|\n",
            "| 1/18/20 7:59|    2|\n",
            "|2/18/20 18:41|    1|\n",
            "+-------------+-----+\n",
            "only showing top 20 rows\n",
            "\n"
          ]
        }
      ]
    },
    {
      "cell_type": "code",
      "source": [
        "from pyspark.sql.functions import regexp_replace\n",
        "# remove timestamp\n",
        "data_df = data_df.withColumn(\"DATE\", regexp_replace(\"Timestamp\", r'(\\s\\d{1,2}:\\d{2})', ''))"
      ],
      "metadata": {
        "id": "eck57RColajH"
      },
      "execution_count": 10,
      "outputs": []
    },
    {
      "cell_type": "code",
      "source": [
        "# confirm timestamp is removed\n",
        "data_df.groupBy(\"DATE\").count().show()"
      ],
      "metadata": {
        "colab": {
          "base_uri": "https://localhost:8080/"
        },
        "id": "vjIkXuD_mEug",
        "outputId": "0ae43dd6-8c2b-46e1-f26d-157469096edd"
      },
      "execution_count": 11,
      "outputs": [
        {
          "output_type": "stream",
          "name": "stdout",
          "text": [
            "+--------+-----+\n",
            "|    DATE|count|\n",
            "+--------+-----+\n",
            "| 9/29/15|   12|\n",
            "| 1/22/16|    6|\n",
            "| 10/4/17|   19|\n",
            "| 7/15/18|    7|\n",
            "| 2/16/19|    8|\n",
            "|  6/7/19|   12|\n",
            "|  2/4/20|    7|\n",
            "| 6/15/20|   10|\n",
            "| 8/28/20|   10|\n",
            "| 2/20/16|    8|\n",
            "| 4/19/16|    8|\n",
            "|  8/1/16|    4|\n",
            "|11/10/16|    6|\n",
            "|11/12/16|    3|\n",
            "|  2/6/17|   13|\n",
            "|11/22/17|    8|\n",
            "| 7/30/18|    3|\n",
            "| 5/19/19|   10|\n",
            "|  7/5/19|    4|\n",
            "| 7/26/19|    4|\n",
            "+--------+-----+\n",
            "only showing top 20 rows\n",
            "\n"
          ]
        }
      ]
    },
    {
      "cell_type": "code",
      "source": [
        "# identify bad data\n",
        "data_df.groupby(\"DAILY_STRESS\").count().show()"
      ],
      "metadata": {
        "colab": {
          "base_uri": "https://localhost:8080/"
        },
        "id": "tF_cZqXqi97G",
        "outputId": "0cf5573c-93c5-479f-95d2-e530849d043a"
      },
      "execution_count": 12,
      "outputs": [
        {
          "output_type": "stream",
          "name": "stdout",
          "text": [
            "+------------+-----+\n",
            "|DAILY_STRESS|count|\n",
            "+------------+-----+\n",
            "|           3| 4398|\n",
            "|           0|  676|\n",
            "|           5| 2052|\n",
            "|      1/1/00|    1|\n",
            "|           1| 2478|\n",
            "|           4| 2960|\n",
            "|           2| 3407|\n",
            "+------------+-----+\n",
            "\n"
          ]
        }
      ]
    },
    {
      "cell_type": "code",
      "source": [
        "# remove bad data\n",
        "clean_df = data_df.filter(data_df.DAILY_STRESS <= 5)\n",
        "clean_df.groupBy(\"DAILY_STRESS\").count().show()"
      ],
      "metadata": {
        "colab": {
          "base_uri": "https://localhost:8080/"
        },
        "id": "4JU7tzZuk8Iv",
        "outputId": "e1d317d7-bb78-43ba-c4d9-d91abb50b989"
      },
      "execution_count": 13,
      "outputs": [
        {
          "output_type": "stream",
          "name": "stdout",
          "text": [
            "+------------+-----+\n",
            "|DAILY_STRESS|count|\n",
            "+------------+-----+\n",
            "|           3| 4398|\n",
            "|           0|  676|\n",
            "|           5| 2052|\n",
            "|           1| 2478|\n",
            "|           4| 2960|\n",
            "|           2| 3407|\n",
            "+------------+-----+\n",
            "\n"
          ]
        }
      ]
    },
    {
      "cell_type": "code",
      "source": [
        "# adjust data type for DAILY_STRESS\n",
        "clean_df = clean_df.withColumn(\"DAILY_STRESS_clean\", clean_df[\"DAILY_STRESS\"].cast('int')).drop(\"DAILY_STRESS\").withColumnRenamed(\"DAILY_STRESS_clean\", \"DAILY_STRESS\")\n",
        "clean_df.printSchema()"
      ],
      "metadata": {
        "colab": {
          "base_uri": "https://localhost:8080/"
        },
        "id": "sM63hBfso6zg",
        "outputId": "66e61196-e23f-4dc8-89d5-f0c122f542f1"
      },
      "execution_count": 14,
      "outputs": [
        {
          "output_type": "stream",
          "name": "stdout",
          "text": [
            "root\n",
            " |-- Timestamp: string (nullable = true)\n",
            " |-- FRUITS_VEGGIES: integer (nullable = true)\n",
            " |-- PLACES_VISITED: integer (nullable = true)\n",
            " |-- CORE_CIRCLE: integer (nullable = true)\n",
            " |-- SUPPORTING_OTHERS: integer (nullable = true)\n",
            " |-- SOCIAL_NETWORK: integer (nullable = true)\n",
            " |-- ACHIEVEMENT: integer (nullable = true)\n",
            " |-- DONATION: integer (nullable = true)\n",
            " |-- BMI_RANGE: integer (nullable = true)\n",
            " |-- TODO_COMPLETED: integer (nullable = true)\n",
            " |-- FLOW: integer (nullable = true)\n",
            " |-- DAILY_STEPS: integer (nullable = true)\n",
            " |-- LIVE_VISION: integer (nullable = true)\n",
            " |-- SLEEP_HOURS: integer (nullable = true)\n",
            " |-- LOST_VACATION: integer (nullable = true)\n",
            " |-- DAILY_SHOUTING: integer (nullable = true)\n",
            " |-- SUFFICIENT_INCOME: integer (nullable = true)\n",
            " |-- PERSONAL_AWARDS: integer (nullable = true)\n",
            " |-- TIME_FOR_PASSION: integer (nullable = true)\n",
            " |-- WEEKLY_MEDITATION: integer (nullable = true)\n",
            " |-- AGE: string (nullable = true)\n",
            " |-- GENDER: string (nullable = true)\n",
            " |-- WORK_LIFE_BALANCE_SCORE: double (nullable = true)\n",
            " |-- DATE: string (nullable = true)\n",
            " |-- DAILY_STRESS: integer (nullable = true)\n",
            "\n"
          ]
        }
      ]
    },
    {
      "cell_type": "code",
      "source": [
        "from pyspark.sql.functions import to_date\n",
        "# adjust data type and reconfigure table\n",
        "df = clean_df.select([to_date(\"DATE\", \"M/d/yy\").alias(\"DATE\"),\n",
        "                          'FRUITS_VEGGIES',\n",
        "                          'DAILY_STRESS',\n",
        "                          'PLACES_VISITED',\n",
        "                          'CORE_CIRCLE',\n",
        "                          'SUPPORTING_OTHERS',\n",
        "                          'SOCIAL_NETWORK',\n",
        "                          'ACHIEVEMENT',\n",
        "                          'DONATION',\n",
        "                          'BMI_RANGE',\n",
        "                          'TODO_COMPLETED',\n",
        "                          'FLOW',\n",
        "                          'DAILY_STEPS',\n",
        "                          'LIVE_VISION',\n",
        "                          'SLEEP_HOURS',\n",
        "                          'LOST_VACATION',\n",
        "                          'DAILY_SHOUTING',\n",
        "                          'SUFFICIENT_INCOME',\n",
        "                          'PERSONAL_AWARDS',\n",
        "                          'TIME_FOR_PASSION',\n",
        "                          'WEEKLY_MEDITATION',\n",
        "                          'AGE',\n",
        "                          'GENDER',\n",
        "                          'WORK_LIFE_BALANCE_SCORE'])\n",
        "df.show()"
      ],
      "metadata": {
        "colab": {
          "base_uri": "https://localhost:8080/"
        },
        "id": "1mCLmW7ixg5Y",
        "outputId": "ddeb088d-eddd-41f8-f78b-524d6ce8b963"
      },
      "execution_count": 15,
      "outputs": [
        {
          "output_type": "stream",
          "name": "stdout",
          "text": [
            "+----------+--------------+------------+--------------+-----------+-----------------+--------------+-----------+--------+---------+--------------+----+-----------+-----------+-----------+-------------+--------------+-----------------+---------------+----------------+-----------------+----------+------+-----------------------+\n",
            "|      DATE|FRUITS_VEGGIES|DAILY_STRESS|PLACES_VISITED|CORE_CIRCLE|SUPPORTING_OTHERS|SOCIAL_NETWORK|ACHIEVEMENT|DONATION|BMI_RANGE|TODO_COMPLETED|FLOW|DAILY_STEPS|LIVE_VISION|SLEEP_HOURS|LOST_VACATION|DAILY_SHOUTING|SUFFICIENT_INCOME|PERSONAL_AWARDS|TIME_FOR_PASSION|WEEKLY_MEDITATION|       AGE|GENDER|WORK_LIFE_BALANCE_SCORE|\n",
            "+----------+--------------+------------+--------------+-----------+-----------------+--------------+-----------+--------+---------+--------------+----+-----------+-----------+-----------+-------------+--------------+-----------------+---------------+----------------+-----------------+----------+------+-----------------------+\n",
            "|2015-07-07|             3|           2|             2|          5|                0|             5|          2|       0|        1|             6|   4|          5|          0|          7|            5|             5|                1|              4|               0|                5|  36 to 50|Female|                  609.5|\n",
            "|2015-07-07|             2|           3|             4|          3|                8|            10|          5|       2|        2|             5|   2|          5|          5|          8|            2|             2|                2|              3|               2|                6|  36 to 50|Female|                  655.6|\n",
            "|2015-07-07|             2|           3|             3|          4|                4|            10|          3|       2|        2|             2|   2|          4|          5|          8|           10|             2|                2|              4|               8|                3|  36 to 50|Female|                  631.6|\n",
            "|2015-07-07|             3|           3|            10|          3|               10|             7|          2|       5|        2|             3|   5|          5|          0|          5|            7|             5|                1|              5|               2|                0|51 or more|Female|                  622.7|\n",
            "|2015-07-07|             5|           1|             3|          3|               10|             4|          2|       4|        2|             5|   0|          5|          0|          7|            0|             0|                2|              8|               1|                5|51 or more|Female|                  663.9|\n",
            "|2015-07-08|             3|           2|             3|          9|               10|            10|          2|       3|        1|             6|   1|          7|         10|          8|            0|             2|                2|             10|               8|                3|51 or more|Female|                  722.3|\n",
            "|2015-07-08|             4|           2|            10|          6|               10|            10|          3|       5|        2|             8|   8|          7|          5|          7|           10|             0|                2|             10|               8|               10|51 or more|  Male|                  727.2|\n",
            "|2015-07-09|             3|           4|             5|          3|                5|             7|          4|       0|        1|             8|   2|          8|         10|          6|            0|             2|                2|              8|               2|                2|  21 to 35|Female|                  676.2|\n",
            "|2015-07-09|             5|           3|             6|          4|                3|             3|          5|       4|        1|            10|   2|          1|          5|         10|            0|             2|                2|             10|               3|               10|  21 to 35|Female|                  702.8|\n",
            "|2015-07-10|             4|           4|             2|          6|               10|            10|          0|       4|        2|             3|   2|          3|          0|          6|            0|             0|                1|              3|               8|                1|51 or more|Female|                  634.4|\n",
            "|2015-07-10|             2|           4|             7|          7|                1|             1|          3|       0|        2|             2|   2|          7|          4|          8|            7|             3|                2|              3|               0|                6|  36 to 50|Female|                  610.1|\n",
            "|2015-07-12|             1|           4|             3|          8|                0|             2|          1|       0|        1|             2|   1|          8|          2|          7|            7|             1|                2|              4|               1|                7|  21 to 35|  Male|                  618.6|\n",
            "|2015-07-12|             2|           2|            10|          5|                2|             8|          3|       4|        2|             7|   1|          6|         10|          8|            0|             0|                2|              5|               2|                7|  21 to 35|  Male|                  686.4|\n",
            "|2015-07-12|             5|           3|             0|          3|                6|             6|          6|       3|        1|             8|   7|          7|          2|          6|            0|             3|                2|              5|               6|                5|  36 to 50|Female|                  689.6|\n",
            "|2015-07-12|             3|           3|             2|          3|                7|             5|          3|       2|        1|             8|   0|          2|          5|          8|            3|             2|                1|              4|               5|                4|  21 to 35|Female|                  639.7|\n",
            "|2015-07-12|             3|           3|             5|          4|               10|            10|          2|       5|        1|             7|   2|          8|         10|          6|            1|             2|                2|              8|               3|               10|51 or more|Female|                  720.4|\n",
            "|2015-07-12|             4|           2|            10|          4|                6|            10|          4|       0|        1|             8|   2|          1|          1|          8|            1|             1|                2|              3|               3|                3|  21 to 35|  Male|                  673.5|\n",
            "|2015-07-12|             4|           2|            10|         10|                5|            10|          0|       1|        1|             7|   1|         10|          2|          8|            0|             3|                2|              4|               8|                6|  21 to 35|  Male|                  707.6|\n",
            "|2015-07-12|             5|           3|            10|          7|               10|             5|          6|       5|        1|             6|   2|          8|         10|          9|            0|             7|                2|              5|               4|                7|  36 to 50|Female|                  727.8|\n",
            "|2015-07-13|             3|           1|             6|         10|               10|             6|          3|       5|        2|             8|   4|          1|          5|          8|            0|             0|                2|              5|               1|                2|  36 to 50|  Male|                  687.1|\n",
            "+----------+--------------+------------+--------------+-----------+-----------------+--------------+-----------+--------+---------+--------------+----+-----------+-----------+-----------+-------------+--------------+-----------------+---------------+----------------+-----------------+----------+------+-----------------------+\n",
            "only showing top 20 rows\n",
            "\n"
          ]
        }
      ]
    },
    {
      "cell_type": "code",
      "source": [
        "date_df = df.groupBy(\"DATE\").count()\n",
        "date_df.show()"
      ],
      "metadata": {
        "colab": {
          "base_uri": "https://localhost:8080/"
        },
        "id": "4New7ISonskN",
        "outputId": "e5c3c46b-20a1-41f8-d1dd-f8be68a19288"
      },
      "execution_count": 16,
      "outputs": [
        {
          "output_type": "stream",
          "name": "stdout",
          "text": [
            "+----------+-----+\n",
            "|      DATE|count|\n",
            "+----------+-----+\n",
            "|2016-03-01|   12|\n",
            "|2017-08-11|    3|\n",
            "|2017-09-11|    7|\n",
            "|2018-05-28|   10|\n",
            "|2018-08-10|   10|\n",
            "|2019-05-08|    7|\n",
            "|2019-06-04|    7|\n",
            "|2020-08-24|    8|\n",
            "|2016-04-25|   14|\n",
            "|2017-01-06|   12|\n",
            "|2018-03-17|    3|\n",
            "|2018-06-06|    1|\n",
            "|2019-09-22|    5|\n",
            "|2019-11-01|    8|\n",
            "|2019-11-18|    7|\n",
            "|2020-01-21|   11|\n",
            "|2020-07-24|    9|\n",
            "|2020-08-05|    6|\n",
            "|2020-11-29|    5|\n",
            "|2015-09-02|   26|\n",
            "+----------+-----+\n",
            "only showing top 20 rows\n",
            "\n"
          ]
        }
      ]
    },
    {
      "cell_type": "code",
      "source": [
        "df.printSchema()"
      ],
      "metadata": {
        "colab": {
          "base_uri": "https://localhost:8080/"
        },
        "id": "WX7oiMSen3pz",
        "outputId": "4454e4fb-1627-44e9-91e9-298503915a5c"
      },
      "execution_count": 17,
      "outputs": [
        {
          "output_type": "stream",
          "name": "stdout",
          "text": [
            "root\n",
            " |-- DATE: date (nullable = true)\n",
            " |-- FRUITS_VEGGIES: integer (nullable = true)\n",
            " |-- DAILY_STRESS: integer (nullable = true)\n",
            " |-- PLACES_VISITED: integer (nullable = true)\n",
            " |-- CORE_CIRCLE: integer (nullable = true)\n",
            " |-- SUPPORTING_OTHERS: integer (nullable = true)\n",
            " |-- SOCIAL_NETWORK: integer (nullable = true)\n",
            " |-- ACHIEVEMENT: integer (nullable = true)\n",
            " |-- DONATION: integer (nullable = true)\n",
            " |-- BMI_RANGE: integer (nullable = true)\n",
            " |-- TODO_COMPLETED: integer (nullable = true)\n",
            " |-- FLOW: integer (nullable = true)\n",
            " |-- DAILY_STEPS: integer (nullable = true)\n",
            " |-- LIVE_VISION: integer (nullable = true)\n",
            " |-- SLEEP_HOURS: integer (nullable = true)\n",
            " |-- LOST_VACATION: integer (nullable = true)\n",
            " |-- DAILY_SHOUTING: integer (nullable = true)\n",
            " |-- SUFFICIENT_INCOME: integer (nullable = true)\n",
            " |-- PERSONAL_AWARDS: integer (nullable = true)\n",
            " |-- TIME_FOR_PASSION: integer (nullable = true)\n",
            " |-- WEEKLY_MEDITATION: integer (nullable = true)\n",
            " |-- AGE: string (nullable = true)\n",
            " |-- GENDER: string (nullable = true)\n",
            " |-- WORK_LIFE_BALANCE_SCORE: double (nullable = true)\n",
            "\n"
          ]
        }
      ]
    },
    {
      "cell_type": "code",
      "source": [
        "# define age groups\n",
        "age_groups = df.groupBy(\"AGE\").count()\n",
        "age_groups.show()"
      ],
      "metadata": {
        "colab": {
          "base_uri": "https://localhost:8080/"
        },
        "id": "iHaOBQM6iz63",
        "outputId": "7f98f76b-a984-4692-a9c7-b383be785731"
      },
      "execution_count": 18,
      "outputs": [
        {
          "output_type": "stream",
          "name": "stdout",
          "text": [
            "+------------+-----+\n",
            "|         AGE|count|\n",
            "+------------+-----+\n",
            "|  51 or more| 3390|\n",
            "|    36 to 50| 4655|\n",
            "|    21 to 35| 6107|\n",
            "|Less than 20| 1819|\n",
            "+------------+-----+\n",
            "\n"
          ]
        }
      ]
    },
    {
      "cell_type": "code",
      "source": [
        "# arrange from high to low WLB score\n",
        "high_low = df.orderBy(df[\"WORK_LIFE_BALANCE_SCORE\"].desc())\n",
        "high_low.show()"
      ],
      "metadata": {
        "colab": {
          "base_uri": "https://localhost:8080/"
        },
        "id": "3-UVIZnPfRN1",
        "outputId": "cd2a2f90-1809-4bde-8a44-bf12cf093ea2"
      },
      "execution_count": 19,
      "outputs": [
        {
          "output_type": "stream",
          "name": "stdout",
          "text": [
            "+----------+--------------+------------+--------------+-----------+-----------------+--------------+-----------+--------+---------+--------------+----+-----------+-----------+-----------+-------------+--------------+-----------------+---------------+----------------+-----------------+------------+------+-----------------------+\n",
            "|      DATE|FRUITS_VEGGIES|DAILY_STRESS|PLACES_VISITED|CORE_CIRCLE|SUPPORTING_OTHERS|SOCIAL_NETWORK|ACHIEVEMENT|DONATION|BMI_RANGE|TODO_COMPLETED|FLOW|DAILY_STEPS|LIVE_VISION|SLEEP_HOURS|LOST_VACATION|DAILY_SHOUTING|SUFFICIENT_INCOME|PERSONAL_AWARDS|TIME_FOR_PASSION|WEEKLY_MEDITATION|         AGE|GENDER|WORK_LIFE_BALANCE_SCORE|\n",
            "+----------+--------------+------------+--------------+-----------+-----------------+--------------+-----------+--------+---------+--------------+----+-----------+-----------+-----------+-------------+--------------+-----------------+---------------+----------------+-----------------+------------+------+-----------------------+\n",
            "|2015-10-19|             5|           0|            10|         10|               10|            10|         10|       5|        1|            10|  10|         10|         10|         10|            0|             0|                2|             10|              10|               10|    36 to 50|  Male|                  820.2|\n",
            "|2016-03-22|             5|           0|            10|         10|               10|            10|         10|       5|        1|            10|  10|         10|         10|          9|            0|             0|                2|             10|              10|               10|Less than 20|  Male|                  818.3|\n",
            "|2016-03-22|             5|           0|            10|         10|               10|            10|         10|       5|        1|            10|  10|         10|         10|          8|            0|             0|                2|             10|              10|               10|Less than 20|  Male|                  816.4|\n",
            "|2016-04-12|             5|           0|            10|         10|               10|            10|         10|       5|        1|            10|  10|         10|         10|          7|            0|             0|                2|             10|              10|               10|    36 to 50|  Male|                  814.5|\n",
            "|2020-11-15|             5|           0|            10|         10|               10|            10|         10|       5|        1|            10|  10|         10|         10|          7|            0|             0|                2|             10|              10|               10|  51 or more|  Male|                  814.5|\n",
            "|2020-11-14|             5|           1|            10|         10|               10|            10|         10|       5|        1|             9|   7|         10|         10|          7|            0|             0|                2|             10|              10|               10|  51 or more|  Male|                  804.3|\n",
            "|2017-06-22|             5|           0|            10|          9|               10|            10|         10|       5|        1|            10|   5|         10|         10|          7|            0|             0|                2|             10|              10|               10|    21 to 35|  Male|                  804.3|\n",
            "|2020-10-01|             5|           0|             9|         10|               10|            10|         10|       4|        1|            10|  10|         10|         10|          7|            0|             0|                2|              6|              10|               10|  51 or more|Female|                  802.6|\n",
            "|2018-07-05|             5|           1|            10|         10|               10|            10|         10|       5|        1|            10|  10|         10|          5|          8|            0|             2|                2|             10|              10|               10|    36 to 50|  Male|                  801.1|\n",
            "|2019-10-31|             5|           0|            10|         10|               10|            10|         10|       5|        2|            10|  10|         10|         10|          8|            0|             0|                2|             10|              10|               10|  51 or more|Female|                  799.4|\n",
            "|2015-12-06|             4|           0|            10|         10|               10|            10|         10|       5|        1|             8|   5|         10|         10|          7|            0|             0|                2|             10|              10|               10|    36 to 50|  Male|                  799.2|\n",
            "|2015-08-20|             5|           1|            10|         10|               10|            10|         10|       5|        1|            10|   8|         10|         10|          6|            0|             0|                2|             10|               6|               10|  51 or more|Female|                  799.0|\n",
            "|2016-08-26|             5|           2|            10|         10|               10|            10|         10|       5|        1|            10|   8|         10|         10|          8|            0|             0|                2|             10|               8|                7|  51 or more|Female|                  797.7|\n",
            "|2018-09-12|             5|           1|            10|          5|               10|            10|         10|       5|        1|             8|  10|         10|         10|          8|            0|             2|                2|             10|              10|               10|    21 to 35|  Male|                  797.7|\n",
            "|2020-05-01|             5|           0|            10|         10|               10|            10|         10|       5|        2|            10|  10|         10|         10|          7|            0|             0|                2|             10|              10|               10|    36 to 50|  Male|                  797.5|\n",
            "|2017-06-05|             5|           2|            10|         10|               10|             7|         10|       5|        1|             8|  10|         10|         10|          7|            0|             2|                2|             10|              10|               10|  51 or more|Female|                  795.8|\n",
            "|2015-11-06|             4|           1|             9|         10|               10|            10|         10|       5|        1|             8|   8|          7|         10|          8|            0|             0|                2|             10|              10|               10|  51 or more|Female|                  795.4|\n",
            "|2017-08-23|             4|           1|            10|         10|               10|            10|         10|       5|        1|             8|  10|          7|         10|          5|            0|             0|                2|             10|              10|               10|  51 or more|  Male|                  794.8|\n",
            "|2020-09-03|             5|           0|            10|         10|               10|            10|         10|       5|        1|            10|   7|          3|         10|          8|            0|             0|                2|              8|              10|               10|  51 or more|Female|                  794.6|\n",
            "|2018-06-11|             5|           3|            10|         10|               10|            10|         10|       3|        1|            10|  10|         10|         10|          8|            0|             3|                2|             10|              10|               10|    36 to 50|Female|                  794.3|\n",
            "+----------+--------------+------------+--------------+-----------+-----------------+--------------+-----------+--------+---------+--------------+----+-----------+-----------+-----------+-------------+--------------+-----------------+---------------+----------------+-----------------+------------+------+-----------------------+\n",
            "only showing top 20 rows\n",
            "\n"
          ]
        }
      ]
    },
    {
      "cell_type": "code",
      "source": [
        "# arrange from low to high WLB score\n",
        "low_high = df.orderBy(df[\"WORK_LIFE_BALANCE_SCORE\"])\n",
        "low_high.show()"
      ],
      "metadata": {
        "colab": {
          "base_uri": "https://localhost:8080/"
        },
        "id": "9OKZS-i8gD2O",
        "outputId": "3db3bace-ca4b-410a-c86e-7a703dc87c84"
      },
      "execution_count": 20,
      "outputs": [
        {
          "output_type": "stream",
          "name": "stdout",
          "text": [
            "+----------+--------------+------------+--------------+-----------+-----------------+--------------+-----------+--------+---------+--------------+----+-----------+-----------+-----------+-------------+--------------+-----------------+---------------+----------------+-----------------+------------+------+-----------------------+\n",
            "|      DATE|FRUITS_VEGGIES|DAILY_STRESS|PLACES_VISITED|CORE_CIRCLE|SUPPORTING_OTHERS|SOCIAL_NETWORK|ACHIEVEMENT|DONATION|BMI_RANGE|TODO_COMPLETED|FLOW|DAILY_STEPS|LIVE_VISION|SLEEP_HOURS|LOST_VACATION|DAILY_SHOUTING|SUFFICIENT_INCOME|PERSONAL_AWARDS|TIME_FOR_PASSION|WEEKLY_MEDITATION|         AGE|GENDER|WORK_LIFE_BALANCE_SCORE|\n",
            "+----------+--------------+------------+--------------+-----------+-----------------+--------------+-----------+--------+---------+--------------+----+-----------+-----------+-----------+-------------+--------------+-----------------+---------------+----------------+-----------------+------------+------+-----------------------+\n",
            "|2016-10-22|             0|           5|             0|          0|                0|             0|          0|       0|        2|             0|   0|          1|          0|          1|           10|            10|                1|              0|               0|                0|    21 to 35|Female|                  480.0|\n",
            "|2018-08-09|             0|           5|             0|          0|                0|             0|          0|       0|        2|             0|   0|          1|          0|          1|           10|            10|                1|              0|               0|                0|  51 or more|  Male|                  480.0|\n",
            "|2016-03-22|             0|           5|             0|          0|                0|             0|          0|       0|        2|             0|   0|          1|          0|          1|           10|            10|                1|              0|               0|                0|Less than 20|  Male|                  480.0|\n",
            "|2016-04-21|             0|           5|             0|          0|                0|             0|          0|       0|        2|             0|   0|          1|          0|          1|           10|            10|                1|              0|               0|                0|    21 to 35|  Male|                  480.0|\n",
            "|2015-10-18|             0|           5|             0|          1|                0|             1|          0|       1|        2|             0|   0|          2|          0|          4|            9|            10|                1|              0|               0|                0|  51 or more|Female|                  496.1|\n",
            "|2015-10-18|             0|           5|             0|          1|                0|             1|          0|       1|        2|             0|   0|          2|          0|          4|            9|            10|                1|              0|               0|                0|  51 or more|Female|                  496.1|\n",
            "|2018-07-07|             0|           5|             0|          0|                0|             0|          0|       0|        1|             0|   0|          1|          0|          1|           10|            10|                1|              0|               0|                0|    36 to 50|Female|                  497.0|\n",
            "|2018-08-08|             0|           5|             0|          0|                0|             0|          0|       0|        2|             0|   0|         10|          0|          2|           10|            10|                1|              0|               0|                0|Less than 20|  Male|                  499.0|\n",
            "|2020-10-07|             2|           5|             0|          1|                1|             0|          1|       0|        2|             0|   2|          1|          0|          3|           10|            10|                1|              2|               1|                0|    36 to 50|Female|                  504.2|\n",
            "|2016-07-19|             1|           5|             0|          0|                0|             1|          0|       0|        2|             0|   0|          1|          0|          5|            0|            10|                1|              0|               0|                0|  51 or more|Female|                  509.7|\n",
            "|2018-07-12|             0|           5|             0|          0|                0|             0|          0|       0|        1|             0|   0|          1|          0|          1|           10|             0|                1|              0|               0|                0|    21 to 35|  Male|                  514.0|\n",
            "|2020-10-25|             1|           5|             0|          0|                2|             2|          0|       1|        2|             1|   0|          1|          0|          7|           10|             7|                1|              2|               2|                0|    21 to 35|Female|                  518.6|\n",
            "|2019-05-19|             1|           5|             0|          1|                1|             1|          0|       0|        2|             4|   1|          4|          0|          6|           10|             7|                1|              1|               0|                0|    36 to 50|Female|                  519.0|\n",
            "|2017-04-27|             0|           5|             1|          0|                0|             0|          0|       0|        2|             0|   0|          5|          0|          9|            1|            10|                1|              1|               0|                0|    36 to 50|  Male|                  521.5|\n",
            "|2019-02-16|             0|           5|             3|          3|                3|             2|          0|       1|        2|             1|   1|          1|          0|          7|           10|            10|                1|              3|               0|                0|Less than 20|Female|                  522.0|\n",
            "|2017-04-08|             0|           5|             1|          2|                2|             1|          0|       0|        2|             1|   0|          1|          3|          8|           10|            10|                1|              3|               1|                3|    21 to 35|  Male|                  522.2|\n",
            "|2020-06-29|             1|           5|             0|          1|                1|             1|          0|       1|        2|             0|   1|          1|         10|          7|           10|            10|                1|              0|               1|                0|    36 to 50|Female|                  523.7|\n",
            "|2017-03-05|             1|           3|             0|          1|                1|             1|          0|       0|        2|             0|   0|          1|          0|          7|            5|             6|                1|              0|               0|                1|    21 to 35|Female|                  523.7|\n",
            "|2018-09-02|             3|           5|             0|          1|                2|             1|          1|       1|        2|             0|   0|          3|          0|          2|           10|             8|                1|              5|               3|                0|  51 or more|Female|                  524.8|\n",
            "|2017-04-27|             0|           5|             0|          0|                0|             0|          1|       0|        2|             0|   0|          5|          0|          9|            0|             9|                1|              1|               0|                0|    36 to 50|  Male|                  524.9|\n",
            "+----------+--------------+------------+--------------+-----------+-----------------+--------------+-----------+--------+---------+--------------+----+-----------+-----------+-----------+-------------+--------------+-----------------+---------------+----------------+-----------------+------------+------+-----------------------+\n",
            "only showing top 20 rows\n",
            "\n"
          ]
        }
      ]
    },
    {
      "cell_type": "code",
      "source": [
        "# WLB score average, min, max\n",
        "from pyspark.sql.functions import avg, min, max\n",
        "df.select(avg(\"WORK_LIFE_BALANCE_SCORE\"), min(\"WORK_LIFE_BALANCE_SCORE\"), max(\"WORK_LIFE_BALANCE_SCORE\")).show()"
      ],
      "metadata": {
        "colab": {
          "base_uri": "https://localhost:8080/"
        },
        "id": "ctjLrewTgmhT",
        "outputId": "62434fa4-d248-4161-9e86-293b8574f718"
      },
      "execution_count": 21,
      "outputs": [
        {
          "output_type": "stream",
          "name": "stdout",
          "text": [
            "+----------------------------+----------------------------+----------------------------+\n",
            "|avg(WORK_LIFE_BALANCE_SCORE)|min(WORK_LIFE_BALANCE_SCORE)|max(WORK_LIFE_BALANCE_SCORE)|\n",
            "+----------------------------+----------------------------+----------------------------+\n",
            "|             666.75051029992|                       480.0|                       820.2|\n",
            "+----------------------------+----------------------------+----------------------------+\n",
            "\n"
          ]
        }
      ]
    },
    {
      "cell_type": "code",
      "source": [
        "df.groupBy(\"GENDER\").count().show()"
      ],
      "metadata": {
        "colab": {
          "base_uri": "https://localhost:8080/"
        },
        "id": "ZmvCBaJtptNA",
        "outputId": "96b49dbe-f100-44f1-83cb-a4db545dd68f"
      },
      "execution_count": 22,
      "outputs": [
        {
          "output_type": "stream",
          "name": "stdout",
          "text": [
            "+------+-----+\n",
            "|GENDER|count|\n",
            "+------+-----+\n",
            "|Female| 9858|\n",
            "|  Male| 6113|\n",
            "+------+-----+\n",
            "\n"
          ]
        }
      ]
    },
    {
      "cell_type": "code",
      "source": [
        "# female participants\n",
        "female_df = df.filter(df[\"GENDER\"] == \"Female\")\n",
        "female_df.show()"
      ],
      "metadata": {
        "colab": {
          "base_uri": "https://localhost:8080/"
        },
        "id": "j6Vw41Uyg3Wx",
        "outputId": "52017877-1c89-428f-eb98-40699f1678d1"
      },
      "execution_count": 23,
      "outputs": [
        {
          "output_type": "stream",
          "name": "stdout",
          "text": [
            "+----------+--------------+------------+--------------+-----------+-----------------+--------------+-----------+--------+---------+--------------+----+-----------+-----------+-----------+-------------+--------------+-----------------+---------------+----------------+-----------------+------------+------+-----------------------+\n",
            "|      DATE|FRUITS_VEGGIES|DAILY_STRESS|PLACES_VISITED|CORE_CIRCLE|SUPPORTING_OTHERS|SOCIAL_NETWORK|ACHIEVEMENT|DONATION|BMI_RANGE|TODO_COMPLETED|FLOW|DAILY_STEPS|LIVE_VISION|SLEEP_HOURS|LOST_VACATION|DAILY_SHOUTING|SUFFICIENT_INCOME|PERSONAL_AWARDS|TIME_FOR_PASSION|WEEKLY_MEDITATION|         AGE|GENDER|WORK_LIFE_BALANCE_SCORE|\n",
            "+----------+--------------+------------+--------------+-----------+-----------------+--------------+-----------+--------+---------+--------------+----+-----------+-----------+-----------+-------------+--------------+-----------------+---------------+----------------+-----------------+------------+------+-----------------------+\n",
            "|2015-07-07|             3|           2|             2|          5|                0|             5|          2|       0|        1|             6|   4|          5|          0|          7|            5|             5|                1|              4|               0|                5|    36 to 50|Female|                  609.5|\n",
            "|2015-07-07|             2|           3|             4|          3|                8|            10|          5|       2|        2|             5|   2|          5|          5|          8|            2|             2|                2|              3|               2|                6|    36 to 50|Female|                  655.6|\n",
            "|2015-07-07|             2|           3|             3|          4|                4|            10|          3|       2|        2|             2|   2|          4|          5|          8|           10|             2|                2|              4|               8|                3|    36 to 50|Female|                  631.6|\n",
            "|2015-07-07|             3|           3|            10|          3|               10|             7|          2|       5|        2|             3|   5|          5|          0|          5|            7|             5|                1|              5|               2|                0|  51 or more|Female|                  622.7|\n",
            "|2015-07-07|             5|           1|             3|          3|               10|             4|          2|       4|        2|             5|   0|          5|          0|          7|            0|             0|                2|              8|               1|                5|  51 or more|Female|                  663.9|\n",
            "|2015-07-08|             3|           2|             3|          9|               10|            10|          2|       3|        1|             6|   1|          7|         10|          8|            0|             2|                2|             10|               8|                3|  51 or more|Female|                  722.3|\n",
            "|2015-07-09|             3|           4|             5|          3|                5|             7|          4|       0|        1|             8|   2|          8|         10|          6|            0|             2|                2|              8|               2|                2|    21 to 35|Female|                  676.2|\n",
            "|2015-07-09|             5|           3|             6|          4|                3|             3|          5|       4|        1|            10|   2|          1|          5|         10|            0|             2|                2|             10|               3|               10|    21 to 35|Female|                  702.8|\n",
            "|2015-07-10|             4|           4|             2|          6|               10|            10|          0|       4|        2|             3|   2|          3|          0|          6|            0|             0|                1|              3|               8|                1|  51 or more|Female|                  634.4|\n",
            "|2015-07-10|             2|           4|             7|          7|                1|             1|          3|       0|        2|             2|   2|          7|          4|          8|            7|             3|                2|              3|               0|                6|    36 to 50|Female|                  610.1|\n",
            "|2015-07-12|             5|           3|             0|          3|                6|             6|          6|       3|        1|             8|   7|          7|          2|          6|            0|             3|                2|              5|               6|                5|    36 to 50|Female|                  689.6|\n",
            "|2015-07-12|             3|           3|             2|          3|                7|             5|          3|       2|        1|             8|   0|          2|          5|          8|            3|             2|                1|              4|               5|                4|    21 to 35|Female|                  639.7|\n",
            "|2015-07-12|             3|           3|             5|          4|               10|            10|          2|       5|        1|             7|   2|          8|         10|          6|            1|             2|                2|              8|               3|               10|  51 or more|Female|                  720.4|\n",
            "|2015-07-12|             5|           3|            10|          7|               10|             5|          6|       5|        1|             6|   2|          8|         10|          9|            0|             7|                2|              5|               4|                7|    36 to 50|Female|                  727.8|\n",
            "|2015-07-13|             3|           5|             5|          4|                5|             3|          2|       5|        2|            10|   6|          3|          3|          7|            5|             7|                2|             10|              10|               10|    21 to 35|Female|                  668.6|\n",
            "|2015-07-13|             2|           4|             6|         10|                5|             5|          6|       4|        2|             6|   1|          7|         10|          6|            0|             3|                2|              1|               3|               10|    36 to 50|Female|                  677.7|\n",
            "|2015-07-13|             2|           4|            10|          3|               10|             7|          8|       3|        1|             6|   0|          5|          5|          7|            0|             1|                2|             10|               2|                2|    21 to 35|Female|                  692.8|\n",
            "|2015-07-13|             3|           4|             6|          4|                7|            10|          3|       3|        1|             4|   1|         10|          5|          6|            0|             3|                1|              7|               2|                8|    36 to 50|Female|                  673.2|\n",
            "|2015-07-13|             4|           2|            10|          3|                1|             2|          3|       3|        1|             7|   2|          4|          1|          7|            0|             3|                2|             10|               1|                7|Less than 20|Female|                  673.9|\n",
            "|2015-07-14|             3|           1|             3|          5|                2|            10|          4|       2|        1|             5|   4|          3|         10|          8|            0|             1|                2|             10|               4|                1|    36 to 50|Female|                  692.6|\n",
            "+----------+--------------+------------+--------------+-----------+-----------------+--------------+-----------+--------+---------+--------------+----+-----------+-----------+-----------+-------------+--------------+-----------------+---------------+----------------+-----------------+------------+------+-----------------------+\n",
            "only showing top 20 rows\n",
            "\n"
          ]
        }
      ]
    },
    {
      "cell_type": "code",
      "source": [
        "# male participants\n",
        "male_df = df.filter(df[\"GENDER\"] == \"Male\")\n",
        "male_df.show()"
      ],
      "metadata": {
        "colab": {
          "base_uri": "https://localhost:8080/"
        },
        "id": "UgNPZ9g3hQYT",
        "outputId": "eda7264f-1de9-4c58-9f8e-3579dce82e1d"
      },
      "execution_count": 24,
      "outputs": [
        {
          "output_type": "stream",
          "name": "stdout",
          "text": [
            "+----------+--------------+------------+--------------+-----------+-----------------+--------------+-----------+--------+---------+--------------+----+-----------+-----------+-----------+-------------+--------------+-----------------+---------------+----------------+-----------------+----------+------+-----------------------+\n",
            "|      DATE|FRUITS_VEGGIES|DAILY_STRESS|PLACES_VISITED|CORE_CIRCLE|SUPPORTING_OTHERS|SOCIAL_NETWORK|ACHIEVEMENT|DONATION|BMI_RANGE|TODO_COMPLETED|FLOW|DAILY_STEPS|LIVE_VISION|SLEEP_HOURS|LOST_VACATION|DAILY_SHOUTING|SUFFICIENT_INCOME|PERSONAL_AWARDS|TIME_FOR_PASSION|WEEKLY_MEDITATION|       AGE|GENDER|WORK_LIFE_BALANCE_SCORE|\n",
            "+----------+--------------+------------+--------------+-----------+-----------------+--------------+-----------+--------+---------+--------------+----+-----------+-----------+-----------+-------------+--------------+-----------------+---------------+----------------+-----------------+----------+------+-----------------------+\n",
            "|2015-07-08|             4|           2|            10|          6|               10|            10|          3|       5|        2|             8|   8|          7|          5|          7|           10|             0|                2|             10|               8|               10|51 or more|  Male|                  727.2|\n",
            "|2015-07-12|             1|           4|             3|          8|                0|             2|          1|       0|        1|             2|   1|          8|          2|          7|            7|             1|                2|              4|               1|                7|  21 to 35|  Male|                  618.6|\n",
            "|2015-07-12|             2|           2|            10|          5|                2|             8|          3|       4|        2|             7|   1|          6|         10|          8|            0|             0|                2|              5|               2|                7|  21 to 35|  Male|                  686.4|\n",
            "|2015-07-12|             4|           2|            10|          4|                6|            10|          4|       0|        1|             8|   2|          1|          1|          8|            1|             1|                2|              3|               3|                3|  21 to 35|  Male|                  673.5|\n",
            "|2015-07-12|             4|           2|            10|         10|                5|            10|          0|       1|        1|             7|   1|         10|          2|          8|            0|             3|                2|              4|               8|                6|  21 to 35|  Male|                  707.6|\n",
            "|2015-07-13|             3|           1|             6|         10|               10|             6|          3|       5|        2|             8|   4|          1|          5|          8|            0|             0|                2|              5|               1|                2|  36 to 50|  Male|                  687.1|\n",
            "|2015-07-13|             2|           4|             3|          8|                6|             5|          1|       2|        1|             8|   1|          4|          6|          4|            0|             3|                2|              3|               2|                5|  21 to 35|  Male|                  652.9|\n",
            "|2015-07-13|             5|           2|             8|          6|               10|            10|          6|       4|        2|             4|   4|          3|          3|          7|            1|             2|                2|             10|               6|                8|  36 to 50|  Male|                  709.4|\n",
            "|2015-07-13|             2|           2|             6|         10|               10|            10|         10|       5|        1|            10|   6|          7|          4|          7|            0|             1|                2|             10|               5|                7|  36 to 50|  Male|                  752.7|\n",
            "|2015-07-13|             1|           5|             1|          3|                6|             5|          3|       5|        1|             2|   2|          8|          1|          7|            0|             6|                2|              5|               1|                1|  21 to 35|  Male|                  633.9|\n",
            "|2015-07-13|             1|           4|             1|          2|                5|             3|          1|       5|        1|             1|   5|          8|          1|          7|            0|             4|                2|              2|               1|                1|  21 to 35|  Male|                  628.8|\n",
            "|2015-07-13|             5|           3|            10|          3|                7|             5|          3|       2|        1|             7|   2|         10|         10|          7|            0|             0|                1|             10|               5|               10|  21 to 35|  Male|                  712.5|\n",
            "|2015-07-14|             4|           2|            10|          6|               10|             8|         10|       2|        1|            10|   2|         10|          5|          7|            0|             3|                2|             10|               4|               10|  21 to 35|  Male|                  746.5|\n",
            "|2015-07-14|             3|           3|             0|          2|                0|             5|          0|       5|        2|             3|   1|          2|          0|          6|            0|             6|                1|              2|               2|               10|  21 to 35|  Male|                  591.7|\n",
            "|2015-07-15|             4|           1|             1|         10|               10|            10|          5|       5|        2|             8|   3|          7|          3|          6|            7|             2|                1|              6|               4|               10|51 or more|  Male|                  682.8|\n",
            "|2015-07-15|             3|           2|             4|          1|                1|            10|          3|       2|        1|             7|   5|          7|          2|          7|            4|             3|                1|              3|               5|                8|  21 to 35|  Male|                  652.4|\n",
            "|2015-07-17|             1|           2|             4|          6|                1|            10|          4|       0|        2|             5|   1|          5|          1|          6|            0|             1|                2|              8|               1|                2|  36 to 50|  Male|                  633.1|\n",
            "|2015-07-18|             5|           4|            10|          6|                5|            10|          7|       4|        1|             4|   4|         10|          1|          7|            0|             2|                2|              6|               4|                5|  36 to 50|  Male|                  712.5|\n",
            "|2015-07-18|             0|           5|             0|          2|                1|             2|          0|       5|        1|             0|   0|          1|          0|         10|            0|             2|                1|              1|               0|                0|  21 to 35|  Male|                  571.9|\n",
            "|2015-07-18|             0|           5|             0|          2|                1|             2|          1|       5|        1|             1|   0|          1|          0|         10|            0|             2|                1|              1|               0|                0|  21 to 35|  Male|                  575.3|\n",
            "+----------+--------------+------------+--------------+-----------+-----------------+--------------+-----------+--------+---------+--------------+----+-----------+-----------+-----------+-------------+--------------+-----------------+---------------+----------------+-----------------+----------+------+-----------------------+\n",
            "only showing top 20 rows\n",
            "\n"
          ]
        }
      ]
    },
    {
      "cell_type": "code",
      "source": [
        "from pyspark.sql.functions import col\n",
        "final_df = df.drop(col(\"GENDER\")).drop(col(\"DATE\"))\n",
        "final_df.show()"
      ],
      "metadata": {
        "colab": {
          "base_uri": "https://localhost:8080/"
        },
        "id": "cBv7eFmdF7p-",
        "outputId": "b468d471-95a5-4ef6-e2f5-74d2d70d1222"
      },
      "execution_count": 25,
      "outputs": [
        {
          "output_type": "stream",
          "name": "stdout",
          "text": [
            "+--------------+------------+--------------+-----------+-----------------+--------------+-----------+--------+---------+--------------+----+-----------+-----------+-----------+-------------+--------------+-----------------+---------------+----------------+-----------------+----------+-----------------------+\n",
            "|FRUITS_VEGGIES|DAILY_STRESS|PLACES_VISITED|CORE_CIRCLE|SUPPORTING_OTHERS|SOCIAL_NETWORK|ACHIEVEMENT|DONATION|BMI_RANGE|TODO_COMPLETED|FLOW|DAILY_STEPS|LIVE_VISION|SLEEP_HOURS|LOST_VACATION|DAILY_SHOUTING|SUFFICIENT_INCOME|PERSONAL_AWARDS|TIME_FOR_PASSION|WEEKLY_MEDITATION|       AGE|WORK_LIFE_BALANCE_SCORE|\n",
            "+--------------+------------+--------------+-----------+-----------------+--------------+-----------+--------+---------+--------------+----+-----------+-----------+-----------+-------------+--------------+-----------------+---------------+----------------+-----------------+----------+-----------------------+\n",
            "|             3|           2|             2|          5|                0|             5|          2|       0|        1|             6|   4|          5|          0|          7|            5|             5|                1|              4|               0|                5|  36 to 50|                  609.5|\n",
            "|             2|           3|             4|          3|                8|            10|          5|       2|        2|             5|   2|          5|          5|          8|            2|             2|                2|              3|               2|                6|  36 to 50|                  655.6|\n",
            "|             2|           3|             3|          4|                4|            10|          3|       2|        2|             2|   2|          4|          5|          8|           10|             2|                2|              4|               8|                3|  36 to 50|                  631.6|\n",
            "|             3|           3|            10|          3|               10|             7|          2|       5|        2|             3|   5|          5|          0|          5|            7|             5|                1|              5|               2|                0|51 or more|                  622.7|\n",
            "|             5|           1|             3|          3|               10|             4|          2|       4|        2|             5|   0|          5|          0|          7|            0|             0|                2|              8|               1|                5|51 or more|                  663.9|\n",
            "|             3|           2|             3|          9|               10|            10|          2|       3|        1|             6|   1|          7|         10|          8|            0|             2|                2|             10|               8|                3|51 or more|                  722.3|\n",
            "|             4|           2|            10|          6|               10|            10|          3|       5|        2|             8|   8|          7|          5|          7|           10|             0|                2|             10|               8|               10|51 or more|                  727.2|\n",
            "|             3|           4|             5|          3|                5|             7|          4|       0|        1|             8|   2|          8|         10|          6|            0|             2|                2|              8|               2|                2|  21 to 35|                  676.2|\n",
            "|             5|           3|             6|          4|                3|             3|          5|       4|        1|            10|   2|          1|          5|         10|            0|             2|                2|             10|               3|               10|  21 to 35|                  702.8|\n",
            "|             4|           4|             2|          6|               10|            10|          0|       4|        2|             3|   2|          3|          0|          6|            0|             0|                1|              3|               8|                1|51 or more|                  634.4|\n",
            "|             2|           4|             7|          7|                1|             1|          3|       0|        2|             2|   2|          7|          4|          8|            7|             3|                2|              3|               0|                6|  36 to 50|                  610.1|\n",
            "|             1|           4|             3|          8|                0|             2|          1|       0|        1|             2|   1|          8|          2|          7|            7|             1|                2|              4|               1|                7|  21 to 35|                  618.6|\n",
            "|             2|           2|            10|          5|                2|             8|          3|       4|        2|             7|   1|          6|         10|          8|            0|             0|                2|              5|               2|                7|  21 to 35|                  686.4|\n",
            "|             5|           3|             0|          3|                6|             6|          6|       3|        1|             8|   7|          7|          2|          6|            0|             3|                2|              5|               6|                5|  36 to 50|                  689.6|\n",
            "|             3|           3|             2|          3|                7|             5|          3|       2|        1|             8|   0|          2|          5|          8|            3|             2|                1|              4|               5|                4|  21 to 35|                  639.7|\n",
            "|             3|           3|             5|          4|               10|            10|          2|       5|        1|             7|   2|          8|         10|          6|            1|             2|                2|              8|               3|               10|51 or more|                  720.4|\n",
            "|             4|           2|            10|          4|                6|            10|          4|       0|        1|             8|   2|          1|          1|          8|            1|             1|                2|              3|               3|                3|  21 to 35|                  673.5|\n",
            "|             4|           2|            10|         10|                5|            10|          0|       1|        1|             7|   1|         10|          2|          8|            0|             3|                2|              4|               8|                6|  21 to 35|                  707.6|\n",
            "|             5|           3|            10|          7|               10|             5|          6|       5|        1|             6|   2|          8|         10|          9|            0|             7|                2|              5|               4|                7|  36 to 50|                  727.8|\n",
            "|             3|           1|             6|         10|               10|             6|          3|       5|        2|             8|   4|          1|          5|          8|            0|             0|                2|              5|               1|                2|  36 to 50|                  687.1|\n",
            "+--------------+------------+--------------+-----------+-----------------+--------------+-----------+--------+---------+--------------+----+-----------+-----------+-----------+-------------+--------------+-----------------+---------------+----------------+-----------------+----------+-----------------------+\n",
            "only showing top 20 rows\n",
            "\n"
          ]
        }
      ]
    },
    {
      "cell_type": "code",
      "source": [
        "import pandas as pd\n",
        "pandas_df = df.toPandas()"
      ],
      "metadata": {
        "id": "rBrZraSJesqU"
      },
      "execution_count": 26,
      "outputs": []
    },
    {
      "cell_type": "code",
      "source": [
        "pandas_df.head(10)"
      ],
      "metadata": {
        "colab": {
          "base_uri": "https://localhost:8080/",
          "height": 630
        },
        "id": "2QesrAPkfBHn",
        "outputId": "5a6627fd-46ee-4505-855c-63ec84907ac8"
      },
      "execution_count": 27,
      "outputs": [
        {
          "output_type": "execute_result",
          "data": {
            "text/plain": [
              "         DATE  FRUITS_VEGGIES  DAILY_STRESS  PLACES_VISITED  CORE_CIRCLE  \\\n",
              "0  2015-07-07               3             2               2            5   \n",
              "1  2015-07-07               2             3               4            3   \n",
              "2  2015-07-07               2             3               3            4   \n",
              "3  2015-07-07               3             3              10            3   \n",
              "4  2015-07-07               5             1               3            3   \n",
              "5  2015-07-08               3             2               3            9   \n",
              "6  2015-07-08               4             2              10            6   \n",
              "7  2015-07-09               3             4               5            3   \n",
              "8  2015-07-09               5             3               6            4   \n",
              "9  2015-07-10               4             4               2            6   \n",
              "\n",
              "   SUPPORTING_OTHERS  SOCIAL_NETWORK  ACHIEVEMENT  DONATION  BMI_RANGE  ...  \\\n",
              "0                  0               5            2         0          1  ...   \n",
              "1                  8              10            5         2          2  ...   \n",
              "2                  4              10            3         2          2  ...   \n",
              "3                 10               7            2         5          2  ...   \n",
              "4                 10               4            2         4          2  ...   \n",
              "5                 10              10            2         3          1  ...   \n",
              "6                 10              10            3         5          2  ...   \n",
              "7                  5               7            4         0          1  ...   \n",
              "8                  3               3            5         4          1  ...   \n",
              "9                 10              10            0         4          2  ...   \n",
              "\n",
              "   SLEEP_HOURS  LOST_VACATION  DAILY_SHOUTING  SUFFICIENT_INCOME  \\\n",
              "0            7              5               5                  1   \n",
              "1            8              2               2                  2   \n",
              "2            8             10               2                  2   \n",
              "3            5              7               5                  1   \n",
              "4            7              0               0                  2   \n",
              "5            8              0               2                  2   \n",
              "6            7             10               0                  2   \n",
              "7            6              0               2                  2   \n",
              "8           10              0               2                  2   \n",
              "9            6              0               0                  1   \n",
              "\n",
              "   PERSONAL_AWARDS  TIME_FOR_PASSION  WEEKLY_MEDITATION         AGE  GENDER  \\\n",
              "0                4                 0                  5    36 to 50  Female   \n",
              "1                3                 2                  6    36 to 50  Female   \n",
              "2                4                 8                  3    36 to 50  Female   \n",
              "3                5                 2                  0  51 or more  Female   \n",
              "4                8                 1                  5  51 or more  Female   \n",
              "5               10                 8                  3  51 or more  Female   \n",
              "6               10                 8                 10  51 or more    Male   \n",
              "7                8                 2                  2    21 to 35  Female   \n",
              "8               10                 3                 10    21 to 35  Female   \n",
              "9                3                 8                  1  51 or more  Female   \n",
              "\n",
              "   WORK_LIFE_BALANCE_SCORE  \n",
              "0                    609.5  \n",
              "1                    655.6  \n",
              "2                    631.6  \n",
              "3                    622.7  \n",
              "4                    663.9  \n",
              "5                    722.3  \n",
              "6                    727.2  \n",
              "7                    676.2  \n",
              "8                    702.8  \n",
              "9                    634.4  \n",
              "\n",
              "[10 rows x 24 columns]"
            ],
            "text/html": [
              "\n",
              "  <div id=\"df-d8e9d454-0ea4-4b9f-aae7-6c219d7f99a8\">\n",
              "    <div class=\"colab-df-container\">\n",
              "      <div>\n",
              "<style scoped>\n",
              "    .dataframe tbody tr th:only-of-type {\n",
              "        vertical-align: middle;\n",
              "    }\n",
              "\n",
              "    .dataframe tbody tr th {\n",
              "        vertical-align: top;\n",
              "    }\n",
              "\n",
              "    .dataframe thead th {\n",
              "        text-align: right;\n",
              "    }\n",
              "</style>\n",
              "<table border=\"1\" class=\"dataframe\">\n",
              "  <thead>\n",
              "    <tr style=\"text-align: right;\">\n",
              "      <th></th>\n",
              "      <th>DATE</th>\n",
              "      <th>FRUITS_VEGGIES</th>\n",
              "      <th>DAILY_STRESS</th>\n",
              "      <th>PLACES_VISITED</th>\n",
              "      <th>CORE_CIRCLE</th>\n",
              "      <th>SUPPORTING_OTHERS</th>\n",
              "      <th>SOCIAL_NETWORK</th>\n",
              "      <th>ACHIEVEMENT</th>\n",
              "      <th>DONATION</th>\n",
              "      <th>BMI_RANGE</th>\n",
              "      <th>...</th>\n",
              "      <th>SLEEP_HOURS</th>\n",
              "      <th>LOST_VACATION</th>\n",
              "      <th>DAILY_SHOUTING</th>\n",
              "      <th>SUFFICIENT_INCOME</th>\n",
              "      <th>PERSONAL_AWARDS</th>\n",
              "      <th>TIME_FOR_PASSION</th>\n",
              "      <th>WEEKLY_MEDITATION</th>\n",
              "      <th>AGE</th>\n",
              "      <th>GENDER</th>\n",
              "      <th>WORK_LIFE_BALANCE_SCORE</th>\n",
              "    </tr>\n",
              "  </thead>\n",
              "  <tbody>\n",
              "    <tr>\n",
              "      <th>0</th>\n",
              "      <td>2015-07-07</td>\n",
              "      <td>3</td>\n",
              "      <td>2</td>\n",
              "      <td>2</td>\n",
              "      <td>5</td>\n",
              "      <td>0</td>\n",
              "      <td>5</td>\n",
              "      <td>2</td>\n",
              "      <td>0</td>\n",
              "      <td>1</td>\n",
              "      <td>...</td>\n",
              "      <td>7</td>\n",
              "      <td>5</td>\n",
              "      <td>5</td>\n",
              "      <td>1</td>\n",
              "      <td>4</td>\n",
              "      <td>0</td>\n",
              "      <td>5</td>\n",
              "      <td>36 to 50</td>\n",
              "      <td>Female</td>\n",
              "      <td>609.5</td>\n",
              "    </tr>\n",
              "    <tr>\n",
              "      <th>1</th>\n",
              "      <td>2015-07-07</td>\n",
              "      <td>2</td>\n",
              "      <td>3</td>\n",
              "      <td>4</td>\n",
              "      <td>3</td>\n",
              "      <td>8</td>\n",
              "      <td>10</td>\n",
              "      <td>5</td>\n",
              "      <td>2</td>\n",
              "      <td>2</td>\n",
              "      <td>...</td>\n",
              "      <td>8</td>\n",
              "      <td>2</td>\n",
              "      <td>2</td>\n",
              "      <td>2</td>\n",
              "      <td>3</td>\n",
              "      <td>2</td>\n",
              "      <td>6</td>\n",
              "      <td>36 to 50</td>\n",
              "      <td>Female</td>\n",
              "      <td>655.6</td>\n",
              "    </tr>\n",
              "    <tr>\n",
              "      <th>2</th>\n",
              "      <td>2015-07-07</td>\n",
              "      <td>2</td>\n",
              "      <td>3</td>\n",
              "      <td>3</td>\n",
              "      <td>4</td>\n",
              "      <td>4</td>\n",
              "      <td>10</td>\n",
              "      <td>3</td>\n",
              "      <td>2</td>\n",
              "      <td>2</td>\n",
              "      <td>...</td>\n",
              "      <td>8</td>\n",
              "      <td>10</td>\n",
              "      <td>2</td>\n",
              "      <td>2</td>\n",
              "      <td>4</td>\n",
              "      <td>8</td>\n",
              "      <td>3</td>\n",
              "      <td>36 to 50</td>\n",
              "      <td>Female</td>\n",
              "      <td>631.6</td>\n",
              "    </tr>\n",
              "    <tr>\n",
              "      <th>3</th>\n",
              "      <td>2015-07-07</td>\n",
              "      <td>3</td>\n",
              "      <td>3</td>\n",
              "      <td>10</td>\n",
              "      <td>3</td>\n",
              "      <td>10</td>\n",
              "      <td>7</td>\n",
              "      <td>2</td>\n",
              "      <td>5</td>\n",
              "      <td>2</td>\n",
              "      <td>...</td>\n",
              "      <td>5</td>\n",
              "      <td>7</td>\n",
              "      <td>5</td>\n",
              "      <td>1</td>\n",
              "      <td>5</td>\n",
              "      <td>2</td>\n",
              "      <td>0</td>\n",
              "      <td>51 or more</td>\n",
              "      <td>Female</td>\n",
              "      <td>622.7</td>\n",
              "    </tr>\n",
              "    <tr>\n",
              "      <th>4</th>\n",
              "      <td>2015-07-07</td>\n",
              "      <td>5</td>\n",
              "      <td>1</td>\n",
              "      <td>3</td>\n",
              "      <td>3</td>\n",
              "      <td>10</td>\n",
              "      <td>4</td>\n",
              "      <td>2</td>\n",
              "      <td>4</td>\n",
              "      <td>2</td>\n",
              "      <td>...</td>\n",
              "      <td>7</td>\n",
              "      <td>0</td>\n",
              "      <td>0</td>\n",
              "      <td>2</td>\n",
              "      <td>8</td>\n",
              "      <td>1</td>\n",
              "      <td>5</td>\n",
              "      <td>51 or more</td>\n",
              "      <td>Female</td>\n",
              "      <td>663.9</td>\n",
              "    </tr>\n",
              "    <tr>\n",
              "      <th>5</th>\n",
              "      <td>2015-07-08</td>\n",
              "      <td>3</td>\n",
              "      <td>2</td>\n",
              "      <td>3</td>\n",
              "      <td>9</td>\n",
              "      <td>10</td>\n",
              "      <td>10</td>\n",
              "      <td>2</td>\n",
              "      <td>3</td>\n",
              "      <td>1</td>\n",
              "      <td>...</td>\n",
              "      <td>8</td>\n",
              "      <td>0</td>\n",
              "      <td>2</td>\n",
              "      <td>2</td>\n",
              "      <td>10</td>\n",
              "      <td>8</td>\n",
              "      <td>3</td>\n",
              "      <td>51 or more</td>\n",
              "      <td>Female</td>\n",
              "      <td>722.3</td>\n",
              "    </tr>\n",
              "    <tr>\n",
              "      <th>6</th>\n",
              "      <td>2015-07-08</td>\n",
              "      <td>4</td>\n",
              "      <td>2</td>\n",
              "      <td>10</td>\n",
              "      <td>6</td>\n",
              "      <td>10</td>\n",
              "      <td>10</td>\n",
              "      <td>3</td>\n",
              "      <td>5</td>\n",
              "      <td>2</td>\n",
              "      <td>...</td>\n",
              "      <td>7</td>\n",
              "      <td>10</td>\n",
              "      <td>0</td>\n",
              "      <td>2</td>\n",
              "      <td>10</td>\n",
              "      <td>8</td>\n",
              "      <td>10</td>\n",
              "      <td>51 or more</td>\n",
              "      <td>Male</td>\n",
              "      <td>727.2</td>\n",
              "    </tr>\n",
              "    <tr>\n",
              "      <th>7</th>\n",
              "      <td>2015-07-09</td>\n",
              "      <td>3</td>\n",
              "      <td>4</td>\n",
              "      <td>5</td>\n",
              "      <td>3</td>\n",
              "      <td>5</td>\n",
              "      <td>7</td>\n",
              "      <td>4</td>\n",
              "      <td>0</td>\n",
              "      <td>1</td>\n",
              "      <td>...</td>\n",
              "      <td>6</td>\n",
              "      <td>0</td>\n",
              "      <td>2</td>\n",
              "      <td>2</td>\n",
              "      <td>8</td>\n",
              "      <td>2</td>\n",
              "      <td>2</td>\n",
              "      <td>21 to 35</td>\n",
              "      <td>Female</td>\n",
              "      <td>676.2</td>\n",
              "    </tr>\n",
              "    <tr>\n",
              "      <th>8</th>\n",
              "      <td>2015-07-09</td>\n",
              "      <td>5</td>\n",
              "      <td>3</td>\n",
              "      <td>6</td>\n",
              "      <td>4</td>\n",
              "      <td>3</td>\n",
              "      <td>3</td>\n",
              "      <td>5</td>\n",
              "      <td>4</td>\n",
              "      <td>1</td>\n",
              "      <td>...</td>\n",
              "      <td>10</td>\n",
              "      <td>0</td>\n",
              "      <td>2</td>\n",
              "      <td>2</td>\n",
              "      <td>10</td>\n",
              "      <td>3</td>\n",
              "      <td>10</td>\n",
              "      <td>21 to 35</td>\n",
              "      <td>Female</td>\n",
              "      <td>702.8</td>\n",
              "    </tr>\n",
              "    <tr>\n",
              "      <th>9</th>\n",
              "      <td>2015-07-10</td>\n",
              "      <td>4</td>\n",
              "      <td>4</td>\n",
              "      <td>2</td>\n",
              "      <td>6</td>\n",
              "      <td>10</td>\n",
              "      <td>10</td>\n",
              "      <td>0</td>\n",
              "      <td>4</td>\n",
              "      <td>2</td>\n",
              "      <td>...</td>\n",
              "      <td>6</td>\n",
              "      <td>0</td>\n",
              "      <td>0</td>\n",
              "      <td>1</td>\n",
              "      <td>3</td>\n",
              "      <td>8</td>\n",
              "      <td>1</td>\n",
              "      <td>51 or more</td>\n",
              "      <td>Female</td>\n",
              "      <td>634.4</td>\n",
              "    </tr>\n",
              "  </tbody>\n",
              "</table>\n",
              "<p>10 rows × 24 columns</p>\n",
              "</div>\n",
              "      <button class=\"colab-df-convert\" onclick=\"convertToInteractive('df-d8e9d454-0ea4-4b9f-aae7-6c219d7f99a8')\"\n",
              "              title=\"Convert this dataframe to an interactive table.\"\n",
              "              style=\"display:none;\">\n",
              "        \n",
              "  <svg xmlns=\"http://www.w3.org/2000/svg\" height=\"24px\"viewBox=\"0 0 24 24\"\n",
              "       width=\"24px\">\n",
              "    <path d=\"M0 0h24v24H0V0z\" fill=\"none\"/>\n",
              "    <path d=\"M18.56 5.44l.94 2.06.94-2.06 2.06-.94-2.06-.94-.94-2.06-.94 2.06-2.06.94zm-11 1L8.5 8.5l.94-2.06 2.06-.94-2.06-.94L8.5 2.5l-.94 2.06-2.06.94zm10 10l.94 2.06.94-2.06 2.06-.94-2.06-.94-.94-2.06-.94 2.06-2.06.94z\"/><path d=\"M17.41 7.96l-1.37-1.37c-.4-.4-.92-.59-1.43-.59-.52 0-1.04.2-1.43.59L10.3 9.45l-7.72 7.72c-.78.78-.78 2.05 0 2.83L4 21.41c.39.39.9.59 1.41.59.51 0 1.02-.2 1.41-.59l7.78-7.78 2.81-2.81c.8-.78.8-2.07 0-2.86zM5.41 20L4 18.59l7.72-7.72 1.47 1.35L5.41 20z\"/>\n",
              "  </svg>\n",
              "      </button>\n",
              "      \n",
              "  <style>\n",
              "    .colab-df-container {\n",
              "      display:flex;\n",
              "      flex-wrap:wrap;\n",
              "      gap: 12px;\n",
              "    }\n",
              "\n",
              "    .colab-df-convert {\n",
              "      background-color: #E8F0FE;\n",
              "      border: none;\n",
              "      border-radius: 50%;\n",
              "      cursor: pointer;\n",
              "      display: none;\n",
              "      fill: #1967D2;\n",
              "      height: 32px;\n",
              "      padding: 0 0 0 0;\n",
              "      width: 32px;\n",
              "    }\n",
              "\n",
              "    .colab-df-convert:hover {\n",
              "      background-color: #E2EBFA;\n",
              "      box-shadow: 0px 1px 2px rgba(60, 64, 67, 0.3), 0px 1px 3px 1px rgba(60, 64, 67, 0.15);\n",
              "      fill: #174EA6;\n",
              "    }\n",
              "\n",
              "    [theme=dark] .colab-df-convert {\n",
              "      background-color: #3B4455;\n",
              "      fill: #D2E3FC;\n",
              "    }\n",
              "\n",
              "    [theme=dark] .colab-df-convert:hover {\n",
              "      background-color: #434B5C;\n",
              "      box-shadow: 0px 1px 3px 1px rgba(0, 0, 0, 0.15);\n",
              "      filter: drop-shadow(0px 1px 2px rgba(0, 0, 0, 0.3));\n",
              "      fill: #FFFFFF;\n",
              "    }\n",
              "  </style>\n",
              "\n",
              "      <script>\n",
              "        const buttonEl =\n",
              "          document.querySelector('#df-d8e9d454-0ea4-4b9f-aae7-6c219d7f99a8 button.colab-df-convert');\n",
              "        buttonEl.style.display =\n",
              "          google.colab.kernel.accessAllowed ? 'block' : 'none';\n",
              "\n",
              "        async function convertToInteractive(key) {\n",
              "          const element = document.querySelector('#df-d8e9d454-0ea4-4b9f-aae7-6c219d7f99a8');\n",
              "          const dataTable =\n",
              "            await google.colab.kernel.invokeFunction('convertToInteractive',\n",
              "                                                     [key], {});\n",
              "          if (!dataTable) return;\n",
              "\n",
              "          const docLinkHtml = 'Like what you see? Visit the ' +\n",
              "            '<a target=\"_blank\" href=https://colab.research.google.com/notebooks/data_table.ipynb>data table notebook</a>'\n",
              "            + ' to learn more about interactive tables.';\n",
              "          element.innerHTML = '';\n",
              "          dataTable['output_type'] = 'display_data';\n",
              "          await google.colab.output.renderOutput(dataTable, element);\n",
              "          const docLink = document.createElement('div');\n",
              "          docLink.innerHTML = docLinkHtml;\n",
              "          element.appendChild(docLink);\n",
              "        }\n",
              "      </script>\n",
              "    </div>\n",
              "  </div>\n",
              "  "
            ]
          },
          "metadata": {},
          "execution_count": 27
        }
      ]
    },
    {
      "cell_type": "code",
      "source": [
        "# Write transformed DataFrame to TRF_WL table in RDS\n",
        "\n",
        "df.write.jdbc(url=jdbc_url, table='TRF_WL', mode=mode, properties=config)"
      ],
      "metadata": {
        "id": "epM98AyLju2j"
      },
      "execution_count": 29,
      "outputs": []
    },
    {
      "cell_type": "code",
      "source": [
        "# disect totals in each variable\n",
        "final_df.groupBy(\"FRUITS_VEGGIES\").count().show()"
      ],
      "metadata": {
        "colab": {
          "base_uri": "https://localhost:8080/"
        },
        "id": "TXz67KE6OVy_",
        "outputId": "425eaea1-e14e-495e-e702-a5c4ee578ee9"
      },
      "execution_count": 30,
      "outputs": [
        {
          "output_type": "stream",
          "name": "stdout",
          "text": [
            "+--------------+-----+\n",
            "|FRUITS_VEGGIES|count|\n",
            "+--------------+-----+\n",
            "|             1| 2421|\n",
            "|             3| 3736|\n",
            "|             5| 3141|\n",
            "|             4| 2551|\n",
            "|             2| 3570|\n",
            "|             0|  552|\n",
            "+--------------+-----+\n",
            "\n"
          ]
        }
      ]
    },
    {
      "cell_type": "code",
      "source": [
        "final_df.groupBy(\"DAILY_STRESS\").count().show()"
      ],
      "metadata": {
        "colab": {
          "base_uri": "https://localhost:8080/"
        },
        "id": "F_7L58pBOgxt",
        "outputId": "1b159555-f345-4fe3-f68d-126e9a6226f0"
      },
      "execution_count": 31,
      "outputs": [
        {
          "output_type": "stream",
          "name": "stdout",
          "text": [
            "+------------+-----+\n",
            "|DAILY_STRESS|count|\n",
            "+------------+-----+\n",
            "|           1| 2478|\n",
            "|           3| 4398|\n",
            "|           5| 2052|\n",
            "|           4| 2960|\n",
            "|           2| 3407|\n",
            "|           0|  676|\n",
            "+------------+-----+\n",
            "\n"
          ]
        }
      ]
    },
    {
      "cell_type": "code",
      "source": [
        "final_df.groupBy(\"PLACES_VISITED\").count().show()"
      ],
      "metadata": {
        "colab": {
          "base_uri": "https://localhost:8080/"
        },
        "id": "1I81vvNcPyvk",
        "outputId": "35290c68-ba05-4bf3-b061-9e09e90d6fa3"
      },
      "execution_count": 32,
      "outputs": [
        {
          "output_type": "stream",
          "name": "stdout",
          "text": [
            "+--------------+-----+\n",
            "|PLACES_VISITED|count|\n",
            "+--------------+-----+\n",
            "|             1| 1252|\n",
            "|             6| 1136|\n",
            "|             3| 1840|\n",
            "|             5| 1862|\n",
            "|             9|  258|\n",
            "|             4| 1503|\n",
            "|             8|  881|\n",
            "|             7|  878|\n",
            "|            10| 3558|\n",
            "|             2| 1787|\n",
            "|             0| 1016|\n",
            "+--------------+-----+\n",
            "\n"
          ]
        }
      ]
    },
    {
      "cell_type": "code",
      "source": [
        "final_df.groupBy(\"CORE_CIRCLE\").count().show()"
      ],
      "metadata": {
        "colab": {
          "base_uri": "https://localhost:8080/"
        },
        "id": "_L--y3TfP6Lj",
        "outputId": "86a409df-b7ab-4eab-f8d3-00605916265f"
      },
      "execution_count": 33,
      "outputs": [
        {
          "output_type": "stream",
          "name": "stdout",
          "text": [
            "+-----------+-----+\n",
            "|CORE_CIRCLE|count|\n",
            "+-----------+-----+\n",
            "|          1|  719|\n",
            "|          6| 1702|\n",
            "|          3| 1941|\n",
            "|          5| 2410|\n",
            "|          9|  368|\n",
            "|          4| 2151|\n",
            "|          8| 1090|\n",
            "|          7| 1141|\n",
            "|         10| 2784|\n",
            "|          2| 1353|\n",
            "|          0|  312|\n",
            "+-----------+-----+\n",
            "\n"
          ]
        }
      ]
    },
    {
      "cell_type": "code",
      "source": [
        "final_df.groupBy(\"SUPPORTING_OTHERS\").count().show()"
      ],
      "metadata": {
        "colab": {
          "base_uri": "https://localhost:8080/"
        },
        "id": "JnaPjnSiP-l-",
        "outputId": "db622d3c-ad4d-4e7c-b5fe-899563ffcf38"
      },
      "execution_count": 34,
      "outputs": [
        {
          "output_type": "stream",
          "name": "stdout",
          "text": [
            "+-----------------+-----+\n",
            "|SUPPORTING_OTHERS|count|\n",
            "+-----------------+-----+\n",
            "|                1|  883|\n",
            "|                6| 1119|\n",
            "|                3| 1835|\n",
            "|                5| 1915|\n",
            "|                9|  294|\n",
            "|                4| 1646|\n",
            "|                8|  917|\n",
            "|                7| 1053|\n",
            "|               10| 3993|\n",
            "|                2| 1576|\n",
            "|                0|  740|\n",
            "+-----------------+-----+\n",
            "\n"
          ]
        }
      ]
    },
    {
      "cell_type": "code",
      "source": [
        "final_df.groupBy(\"SOCIAL_NETWORK\").count().show()"
      ],
      "metadata": {
        "colab": {
          "base_uri": "https://localhost:8080/"
        },
        "id": "CQEQ4bClQBmP",
        "outputId": "68d36fe9-e529-4f8c-8214-ac3293f887e3"
      },
      "execution_count": 35,
      "outputs": [
        {
          "output_type": "stream",
          "name": "stdout",
          "text": [
            "+--------------+-----+\n",
            "|SOCIAL_NETWORK|count|\n",
            "+--------------+-----+\n",
            "|             1|  556|\n",
            "|             6| 1219|\n",
            "|             3| 1593|\n",
            "|             5| 1912|\n",
            "|             9|  336|\n",
            "|             4| 1560|\n",
            "|             8| 1011|\n",
            "|             7|  972|\n",
            "|            10| 5455|\n",
            "|             2| 1241|\n",
            "|             0|  116|\n",
            "+--------------+-----+\n",
            "\n"
          ]
        }
      ]
    },
    {
      "cell_type": "code",
      "source": [
        "final_df.groupBy(\"ACHIEVEMENT\").count().show()"
      ],
      "metadata": {
        "colab": {
          "base_uri": "https://localhost:8080/"
        },
        "id": "Aytnv0cDQEuM",
        "outputId": "74e590ca-fbbe-42c4-fcbf-24151e22c15f"
      },
      "execution_count": 37,
      "outputs": [
        {
          "output_type": "stream",
          "name": "stdout",
          "text": [
            "+-----------+-----+\n",
            "|ACHIEVEMENT|count|\n",
            "+-----------+-----+\n",
            "|          1| 1595|\n",
            "|          6| 1145|\n",
            "|          3| 2538|\n",
            "|          5| 2030|\n",
            "|          9|  240|\n",
            "|          4| 1838|\n",
            "|          8|  693|\n",
            "|          7|  814|\n",
            "|         10| 1170|\n",
            "|          2| 2606|\n",
            "|          0| 1302|\n",
            "+-----------+-----+\n",
            "\n"
          ]
        }
      ]
    },
    {
      "cell_type": "code",
      "source": [
        "final_df.groupBy(\"DONATION\").count().show()"
      ],
      "metadata": {
        "colab": {
          "base_uri": "https://localhost:8080/"
        },
        "id": "a-wB-pMBQHw7",
        "outputId": "74c796c7-5c89-4798-a2e6-199cbe49742d"
      },
      "execution_count": 38,
      "outputs": [
        {
          "output_type": "stream",
          "name": "stdout",
          "text": [
            "+--------+-----+\n",
            "|DONATION|count|\n",
            "+--------+-----+\n",
            "|       1| 2668|\n",
            "|       3| 2210|\n",
            "|       5| 4760|\n",
            "|       4| 1300|\n",
            "|       2| 2533|\n",
            "|       0| 2500|\n",
            "+--------+-----+\n",
            "\n"
          ]
        }
      ]
    },
    {
      "cell_type": "code",
      "source": [
        "final_df.groupBy(\"BMI_RANGE\").count().show()"
      ],
      "metadata": {
        "colab": {
          "base_uri": "https://localhost:8080/"
        },
        "id": "6Sv8T1IsQNIB",
        "outputId": "8776ec67-6d4a-4193-d219-e9fc42bd1e18"
      },
      "execution_count": 39,
      "outputs": [
        {
          "output_type": "stream",
          "name": "stdout",
          "text": [
            "+---------+-----+\n",
            "|BMI_RANGE|count|\n",
            "+---------+-----+\n",
            "|        1| 9413|\n",
            "|        2| 6558|\n",
            "+---------+-----+\n",
            "\n"
          ]
        }
      ]
    },
    {
      "cell_type": "code",
      "source": [
        "final_df.groupBy(\"TODO_COMPLETED\").count().show()"
      ],
      "metadata": {
        "colab": {
          "base_uri": "https://localhost:8080/"
        },
        "id": "FNTu8_txQQRL",
        "outputId": "88b17c9a-3555-4c05-81e8-51cdd19b3d89"
      },
      "execution_count": 40,
      "outputs": [
        {
          "output_type": "stream",
          "name": "stdout",
          "text": [
            "+--------------+-----+\n",
            "|TODO_COMPLETED|count|\n",
            "+--------------+-----+\n",
            "|             1|  599|\n",
            "|             6| 1665|\n",
            "|             3| 1414|\n",
            "|             5| 2092|\n",
            "|             9| 1079|\n",
            "|             4| 1326|\n",
            "|             8| 2587|\n",
            "|             7| 2553|\n",
            "|            10| 1083|\n",
            "|             2| 1033|\n",
            "|             0|  540|\n",
            "+--------------+-----+\n",
            "\n"
          ]
        }
      ]
    },
    {
      "cell_type": "code",
      "source": [
        "final_df.groupBy(\"FLOW\").count().show()"
      ],
      "metadata": {
        "colab": {
          "base_uri": "https://localhost:8080/"
        },
        "id": "3m8fyysvQUMF",
        "outputId": "d727fd9b-0093-43cc-f92f-0df61719b79b"
      },
      "execution_count": 41,
      "outputs": [
        {
          "output_type": "stream",
          "name": "stdout",
          "text": [
            "+----+-----+\n",
            "|FLOW|count|\n",
            "+----+-----+\n",
            "|   1| 2983|\n",
            "|   6| 1028|\n",
            "|   3| 2485|\n",
            "|   5| 1483|\n",
            "|   9|  154|\n",
            "|   4| 1833|\n",
            "|   8|  551|\n",
            "|   7|  584|\n",
            "|  10|  338|\n",
            "|   2| 3202|\n",
            "|   0| 1330|\n",
            "+----+-----+\n",
            "\n"
          ]
        }
      ]
    },
    {
      "cell_type": "code",
      "source": [
        "final_df.groupBy(\"DAILY_STEPS\").count().show()"
      ],
      "metadata": {
        "colab": {
          "base_uri": "https://localhost:8080/"
        },
        "id": "LleWS94KQX0M",
        "outputId": "e064b80d-c0f8-44e6-8ac7-f9cf52a7ee4f"
      },
      "execution_count": 42,
      "outputs": [
        {
          "output_type": "stream",
          "name": "stdout",
          "text": [
            "+-----------+-----+\n",
            "|DAILY_STEPS|count|\n",
            "+-----------+-----+\n",
            "|          1| 1251|\n",
            "|          6| 1597|\n",
            "|          3| 1567|\n",
            "|          5| 2161|\n",
            "|          9|  706|\n",
            "|          4| 1504|\n",
            "|          8| 1543|\n",
            "|          7| 1431|\n",
            "|         10| 2700|\n",
            "|          2| 1511|\n",
            "+-----------+-----+\n",
            "\n"
          ]
        }
      ]
    },
    {
      "cell_type": "code",
      "source": [
        "final_df.groupBy(\"LIVE_VISION\").count().show()"
      ],
      "metadata": {
        "colab": {
          "base_uri": "https://localhost:8080/"
        },
        "id": "Bo1Rh7EzQbnD",
        "outputId": "42054598-66c6-44cb-9a82-6d56ae680cc5"
      },
      "execution_count": 43,
      "outputs": [
        {
          "output_type": "stream",
          "name": "stdout",
          "text": [
            "+-----------+-----+\n",
            "|LIVE_VISION|count|\n",
            "+-----------+-----+\n",
            "|          1| 2485|\n",
            "|          6|  461|\n",
            "|          3| 1767|\n",
            "|          5| 2544|\n",
            "|          9|  113|\n",
            "|          4|  978|\n",
            "|          8|  351|\n",
            "|          7|  413|\n",
            "|         10| 2168|\n",
            "|          2| 2173|\n",
            "|          0| 2518|\n",
            "+-----------+-----+\n",
            "\n"
          ]
        }
      ]
    },
    {
      "cell_type": "code",
      "source": [
        "final_df.groupBy(\"SLEEP_HOURS\").count().show()"
      ],
      "metadata": {
        "colab": {
          "base_uri": "https://localhost:8080/"
        },
        "id": "a9D2rakBQgat",
        "outputId": "163fb603-3655-4b0c-8a2c-19c60f688c6d"
      },
      "execution_count": 44,
      "outputs": [
        {
          "output_type": "stream",
          "name": "stdout",
          "text": [
            "+-----------+-----+\n",
            "|SLEEP_HOURS|count|\n",
            "+-----------+-----+\n",
            "|          1|   18|\n",
            "|          6| 3396|\n",
            "|          3|   49|\n",
            "|          5| 1025|\n",
            "|          9|  987|\n",
            "|          4|  252|\n",
            "|          8| 4324|\n",
            "|          7| 5566|\n",
            "|         10|  333|\n",
            "|          2|   21|\n",
            "+-----------+-----+\n",
            "\n"
          ]
        }
      ]
    },
    {
      "cell_type": "code",
      "source": [
        "final_df.groupBy(\"LOST_VACATION\").count().show()"
      ],
      "metadata": {
        "colab": {
          "base_uri": "https://localhost:8080/"
        },
        "id": "STI16QrrRNkj",
        "outputId": "0a01be68-b5ab-411b-fb48-cf0374f0ae7b"
      },
      "execution_count": 45,
      "outputs": [
        {
          "output_type": "stream",
          "name": "stdout",
          "text": [
            "+-------------+-----+\n",
            "|LOST_VACATION|count|\n",
            "+-------------+-----+\n",
            "|            1|  600|\n",
            "|            6|  343|\n",
            "|            3|  807|\n",
            "|            5| 1240|\n",
            "|            9|  123|\n",
            "|            4|  671|\n",
            "|            8|  373|\n",
            "|            7|  587|\n",
            "|           10| 2238|\n",
            "|            2|  874|\n",
            "|            0| 8115|\n",
            "+-------------+-----+\n",
            "\n"
          ]
        }
      ]
    },
    {
      "cell_type": "code",
      "source": [
        "final_df.groupBy(\"DAILY_SHOUTING\").count().show()"
      ],
      "metadata": {
        "colab": {
          "base_uri": "https://localhost:8080/"
        },
        "id": "l2PBO13YRQ7Q",
        "outputId": "966b3b21-c5b3-4a9c-9555-49271f38a6b2"
      },
      "execution_count": 46,
      "outputs": [
        {
          "output_type": "stream",
          "name": "stdout",
          "text": [
            "+--------------+-----+\n",
            "|DAILY_SHOUTING|count|\n",
            "+--------------+-----+\n",
            "|             1| 3726|\n",
            "|             6|  545|\n",
            "|             3| 2101|\n",
            "|             5| 1252|\n",
            "|             9|  145|\n",
            "|             4| 1255|\n",
            "|             8|  378|\n",
            "|             7|  669|\n",
            "|            10|  785|\n",
            "|             2| 2685|\n",
            "|             0| 2430|\n",
            "+--------------+-----+\n",
            "\n"
          ]
        }
      ]
    },
    {
      "cell_type": "code",
      "source": [
        "final_df.groupBy(\"SUFFICIENT_INCOME\").count().show()"
      ],
      "metadata": {
        "colab": {
          "base_uri": "https://localhost:8080/"
        },
        "id": "MDBnBjBhRUeA",
        "outputId": "6bdc52b6-fb28-4a43-cbee-3ed2674416ce"
      },
      "execution_count": 47,
      "outputs": [
        {
          "output_type": "stream",
          "name": "stdout",
          "text": [
            "+-----------------+-----+\n",
            "|SUFFICIENT_INCOME|count|\n",
            "+-----------------+-----+\n",
            "|                1| 4329|\n",
            "|                2|11642|\n",
            "+-----------------+-----+\n",
            "\n"
          ]
        }
      ]
    },
    {
      "cell_type": "code",
      "source": [
        "final_df.groupBy(\"PERSONAL_AWARDS\").count().show()"
      ],
      "metadata": {
        "colab": {
          "base_uri": "https://localhost:8080/"
        },
        "id": "gyURHIpERXPo",
        "outputId": "6f560f34-485b-4c48-ac58-e2934311caf1"
      },
      "execution_count": 49,
      "outputs": [
        {
          "output_type": "stream",
          "name": "stdout",
          "text": [
            "+---------------+-----+\n",
            "|PERSONAL_AWARDS|count|\n",
            "+---------------+-----+\n",
            "|              1|  713|\n",
            "|              6| 1344|\n",
            "|              3| 1881|\n",
            "|              5| 2210|\n",
            "|              9|  335|\n",
            "|              4| 1733|\n",
            "|              8|  946|\n",
            "|              7| 1118|\n",
            "|             10| 3764|\n",
            "|              2| 1382|\n",
            "|              0|  545|\n",
            "+---------------+-----+\n",
            "\n"
          ]
        }
      ]
    },
    {
      "cell_type": "code",
      "source": [
        "final_df.groupBy(\"TIME_FOR_PASSION\").count().show()"
      ],
      "metadata": {
        "colab": {
          "base_uri": "https://localhost:8080/"
        },
        "id": "fmgklAJdRZGx",
        "outputId": "e808abf4-f307-419b-f72b-4ee4364b2dd8"
      },
      "execution_count": 50,
      "outputs": [
        {
          "output_type": "stream",
          "name": "stdout",
          "text": [
            "+----------------+-----+\n",
            "|TIME_FOR_PASSION|count|\n",
            "+----------------+-----+\n",
            "|               1| 3285|\n",
            "|               6|  998|\n",
            "|               3| 1962|\n",
            "|               5| 1229|\n",
            "|               9|  193|\n",
            "|               4| 1504|\n",
            "|               8|  905|\n",
            "|               7|  635|\n",
            "|              10|  682|\n",
            "|               2| 2781|\n",
            "|               0| 1797|\n",
            "+----------------+-----+\n",
            "\n"
          ]
        }
      ]
    },
    {
      "cell_type": "code",
      "source": [
        "final_df.groupBy(\"WEEKLY_MEDITATION\").count().show()"
      ],
      "metadata": {
        "colab": {
          "base_uri": "https://localhost:8080/"
        },
        "id": "rvY4LkJYRhVs",
        "outputId": "d6dc3aad-1967-4c6a-a209-1c2ff8f73523"
      },
      "execution_count": 51,
      "outputs": [
        {
          "output_type": "stream",
          "name": "stdout",
          "text": [
            "+-----------------+-----+\n",
            "|WEEKLY_MEDITATION|count|\n",
            "+-----------------+-----+\n",
            "|                1|  701|\n",
            "|                6| 1043|\n",
            "|                3| 1487|\n",
            "|                5| 1977|\n",
            "|                9|  441|\n",
            "|                4| 1310|\n",
            "|                8|  993|\n",
            "|                7| 2275|\n",
            "|               10| 4285|\n",
            "|                2| 1162|\n",
            "|                0|  297|\n",
            "+-----------------+-----+\n",
            "\n"
          ]
        }
      ]
    },
    {
      "cell_type": "code",
      "source": [
        "final_df.groupBy(\"WORK_LIFE_BALANCE_SCORE\").count().sort(col(\"WORK_LIFE_BALANCE_SCORE\").desc()).show()"
      ],
      "metadata": {
        "colab": {
          "base_uri": "https://localhost:8080/"
        },
        "id": "YLGP5lJYRkQa",
        "outputId": "1e42a61d-c499-4612-c163-7587638e990c"
      },
      "execution_count": 58,
      "outputs": [
        {
          "output_type": "stream",
          "name": "stdout",
          "text": [
            "+-----------------------+-----+\n",
            "|WORK_LIFE_BALANCE_SCORE|count|\n",
            "+-----------------------+-----+\n",
            "|                  820.2|    1|\n",
            "|                  818.3|    1|\n",
            "|                  816.4|    1|\n",
            "|                  814.5|    2|\n",
            "|                  804.3|    2|\n",
            "|                  802.6|    1|\n",
            "|                  801.1|    1|\n",
            "|                  799.4|    1|\n",
            "|                  799.2|    1|\n",
            "|                  799.0|    1|\n",
            "|                  797.7|    2|\n",
            "|                  797.5|    1|\n",
            "|                  795.8|    1|\n",
            "|                  795.4|    1|\n",
            "|                  794.8|    1|\n",
            "|                  794.6|    1|\n",
            "|                  794.3|    1|\n",
            "|                  792.6|    1|\n",
            "|                  792.4|    1|\n",
            "|                  790.9|    2|\n",
            "+-----------------------+-----+\n",
            "only showing top 20 rows\n",
            "\n"
          ]
        }
      ]
    },
    {
      "cell_type": "code",
      "source": [
        "# WLB score scale, excellent, good and bad\n",
        "excellent = final_df.filter(col(\"WORK_LIFE_BALANCE_SCORE\") >= 700)\n",
        "excellent.count()"
      ],
      "metadata": {
        "colab": {
          "base_uri": "https://localhost:8080/"
        },
        "id": "kvCHQk24Rnpj",
        "outputId": "ed90a723-dff9-4758-a2cd-2b21b243bb57"
      },
      "execution_count": 75,
      "outputs": [
        {
          "output_type": "execute_result",
          "data": {
            "text/plain": [
              "3816"
            ]
          },
          "metadata": {},
          "execution_count": 75
        }
      ]
    },
    {
      "cell_type": "code",
      "source": [
        "good = final_df.filter((col(\"WORK_LIFE_BALANCE_SCORE\") > 550) & (col(\"WORK_LIFE_BALANCE_SCORE\") < 700))\n",
        "good.count()"
      ],
      "metadata": {
        "colab": {
          "base_uri": "https://localhost:8080/"
        },
        "id": "8oBxwrkNbd7k",
        "outputId": "691765ad-8a38-4452-eda5-8de46183f492"
      },
      "execution_count": 78,
      "outputs": [
        {
          "output_type": "execute_result",
          "data": {
            "text/plain": [
              "12081"
            ]
          },
          "metadata": {},
          "execution_count": 78
        }
      ]
    },
    {
      "cell_type": "code",
      "source": [
        "bad = final_df.filter(col(\"WORK_LIFE_BALANCE_SCORE\") <= 550)\n",
        "bad.count()"
      ],
      "metadata": {
        "colab": {
          "base_uri": "https://localhost:8080/"
        },
        "id": "mZ18xtiyeC7Y",
        "outputId": "b0e8cefa-6d2a-421f-a5e8-b44e84b5a3ed"
      },
      "execution_count": 81,
      "outputs": [
        {
          "output_type": "execute_result",
          "data": {
            "text/plain": [
              "74"
            ]
          },
          "metadata": {},
          "execution_count": 81
        }
      ]
    },
    {
      "cell_type": "code",
      "source": [
        "# total too low, merge with good and renamed as \"needs improvement\"\n",
        "needs_improvement = final_df.filter(col(\"WORK_LIFE_BALANCE_SCORE\") < 700)\n",
        "needs_improvement.count()"
      ],
      "metadata": {
        "colab": {
          "base_uri": "https://localhost:8080/"
        },
        "id": "r6hwIHlHsJ0-",
        "outputId": "cfd38853-c812-4f3a-badc-34552cfb0f26"
      },
      "execution_count": 82,
      "outputs": [
        {
          "output_type": "execute_result",
          "data": {
            "text/plain": [
              "12155"
            ]
          },
          "metadata": {},
          "execution_count": 82
        }
      ]
    },
    {
      "cell_type": "code",
      "source": [],
      "metadata": {
        "id": "PqDFtIj-t3AY"
      },
      "execution_count": null,
      "outputs": []
    }
  ]
}